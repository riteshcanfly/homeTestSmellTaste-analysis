{
 "cells": [
  {
   "cell_type": "code",
   "execution_count": 15,
   "metadata": {},
   "outputs": [
    {
     "name": "stderr",
     "output_type": "stream",
     "text": [
      "\n",
      "Attaching package: ‘ggplot2’\n",
      "\n",
      "\n",
      "The following object is masked from ‘package:randomForest’:\n",
      "\n",
      "    margin\n",
      "\n",
      "\n",
      "Bioconductor version '3.12' is out-of-date; the current release version '3.13'\n",
      "  is available with R version '4.1'; see https://bioconductor.org/install\n",
      "\n",
      "Welcome! Want to learn more? See two factoextra-related books at https://goo.gl/ve3WBa\n",
      "\n"
     ]
    }
   ],
   "source": [
    "library(ggplot2)\n",
    "library(ggplotify)\n",
    "library(pheatmap)\n",
    "library(patchwork)\n",
    "library(\"FactoMineR\")\n",
    "library(factoextra)\n",
    "library(FactoMineR)\n",
    "library(ggpubr)\n",
    "library(Rtsne)"
   ]
  },
  {
   "cell_type": "code",
   "execution_count": 33,
   "metadata": {},
   "outputs": [
    {
     "name": "stdout",
     "output_type": "stream",
     "text": [
      "                  COVID Non-COVID\n",
      "No_smoke             90       112\n",
      "Yes_curr             14        11\n",
      "Yes_prev              6         6\n",
      "Prefer not to say     5         5\n"
     ]
    },
    {
     "name": "stderr",
     "output_type": "stream",
     "text": [
      "Warning message in chisq.test(trial.table):\n",
      "“Chi-squared approximation may be incorrect”\n"
     ]
    },
    {
     "name": "stdout",
     "output_type": "stream",
     "text": [
      "\n",
      "\tPearson's Chi-squared test\n",
      "\n",
      "data:  trial.table\n",
      "X-squared = 1.3139, df = 3, p-value = 0.7258\n",
      "\n"
     ]
    }
   ],
   "source": [
    "# Simulated data\n",
    "trial <- matrix(c(90,14,6,5,112,11,6,5), ncol=2)\n",
    "colnames(trial) <- c('COVID', 'Non-COVID')\n",
    "rownames(trial) <- c('No_smoke', 'Yes_curr','Yes_prev','Prefer not to say')\n",
    "trial.table <- as.table(trial)\n",
    "print(trial.table)\n",
    "print(chisq.test(trial.table))"
   ]
  },
  {
   "cell_type": "code",
   "execution_count": 34,
   "metadata": {},
   "outputs": [
    {
     "name": "stdout",
     "output_type": "stream",
     "text": [
      "                      COVID Non-COVID\n",
      "No_change_smell          60       115\n",
      "slight_change            17         9\n",
      "moderate_smell_change    11         6\n",
      "smell_complete_loss      27         4\n",
      "\n",
      "\tPearson's Chi-squared test\n",
      "\n",
      "data:  trial.table\n",
      "X-squared = 37.048, df = 3, p-value = 4.494e-08\n",
      "\n"
     ]
    }
   ],
   "source": [
    "# No_change_smell\n",
    "# 60 115\n",
    "# slight_change\n",
    "# 17 9\n",
    "# moderate_smell_change\n",
    "# 11 6\n",
    "# smell_complete_loss\n",
    "# 27 4\n",
    "\n",
    "# Simulated data\n",
    "trial <- matrix(c(60,17,11,27,115,9,6,4), ncol=2)\n",
    "colnames(trial) <- c('COVID', 'Non-COVID')\n",
    "rownames(trial) <- c('No_change_smell', 'slight_change','moderate_smell_change','smell_complete_loss')\n",
    "trial.table <- as.table(trial)\n",
    "print(trial.table)\n",
    "print(chisq.test(trial.table))"
   ]
  },
  {
   "cell_type": "code",
   "execution_count": 35,
   "metadata": {},
   "outputs": [
    {
     "name": "stdout",
     "output_type": "stream",
     "text": [
      "                   COVID Non-COVID\n",
      "contacts_none          7        14\n",
      "contact_less_5        15        35\n",
      "contact_5_10          26        40\n",
      "contact_11_20         29        19\n",
      "contact_21_50         22        14\n",
      "contact_greater_50    16        12\n",
      "\n",
      "\tPearson's Chi-squared test\n",
      "\n",
      "data:  trial.table\n",
      "X-squared = 16.381, df = 5, p-value = 0.005836\n",
      "\n"
     ]
    }
   ],
   "source": [
    "# contacts_none\n",
    "# 7 14\n",
    "# contact_less_5\n",
    "# 15 35\n",
    "# contact_5_10\n",
    "# 26 40\n",
    "# contact_11_20\n",
    "# 29 19\n",
    "# contact_21_50\n",
    "# 22 14\n",
    "# contact_greater_50\n",
    "# 16 12\n",
    "\n",
    "# Simulated data\n",
    "trial <- matrix(c(7,15,26,29,22,16,14,35,40,19,14,12), ncol=2)\n",
    "colnames(trial) <- c('COVID', 'Non-COVID')\n",
    "rownames(trial) <- c('contacts_none', 'contact_less_5','contact_5_10','contact_11_20','contact_21_50','contact_greater_50')\n",
    "trial.table <- as.table(trial)\n",
    "print(trial.table)\n",
    "print(chisq.test(trial.table))"
   ]
  },
  {
   "cell_type": "code",
   "execution_count": 466,
   "metadata": {},
   "outputs": [],
   "source": [
    "dft<-read.csv('../dataset/covid_survey_sel_data.csv')"
   ]
  },
  {
   "cell_type": "code",
   "execution_count": 111,
   "metadata": {},
   "outputs": [],
   "source": [
    "dftp<-read.csv('../dataset/covid_survey_sel_data_pos.csv')\n",
    "dftn<-read.csv('../dataset/covid_survey_sel_data_neg.csv')"
   ]
  },
  {
   "cell_type": "code",
   "execution_count": 124,
   "metadata": {},
   "outputs": [
    {
     "data": {
      "text/html": [
       "<style>\n",
       ".list-inline {list-style: none; margin:0; padding: 0}\n",
       ".list-inline>li {display: inline-block}\n",
       ".list-inline>li:not(:last-child)::after {content: \"\\00b7\"; padding: 0 .5ex}\n",
       "</style>\n",
       "<ol class=list-inline><li>'Female'</li><li>'Seasonal.allergies.hay.fever'</li><li>'smell_disorder'</li><li>'taste_disorder'</li><li>'no_comorbity'</li><li>'Diabetes..high.blood.sugar.'</li><li>'Obesity'</li><li>'Chronic.sinus.problems'</li><li>'Other'</li><li>'High.blood.pressure'</li><li>'Head.trauma'</li><li>'Dry.mouth'</li><li>'Heart.disease..heart.attack.'</li><li>'Lung.disease..asthma.COPD.'</li><li>'Neurological.disease'</li><li>'Fever'</li><li>'Changes.in.food.flavor'</li><li>'Changes.in.smell'</li><li>'Changes.in.taste'</li><li>'Headache'</li><li>'Fatigue'</li><li>'Body.aches'</li><li>'Nausea'</li><li>'No.symptoms'</li><li>'Runny.nose'</li><li>'Cough.with.mucus'</li><li>'Dry.cough'</li><li>'Sore.throat'</li><li>'Skin.sensitivity'</li><li>'Abdominal.pain'</li><li>'Chest.tightness'</li><li>'Diarrhea'</li><li>'dry_mouth_com'</li><li>'Loss.of.appetite'</li><li>'difficult_breathing'</li><li>'no_chnage_in_taste'</li><li>'change_in_bitter'</li><li>'change_in_sweet'</li><li>'change_in_sour'</li><li>'change_in_salt'</li></ol>\n"
      ],
      "text/latex": [
       "\\begin{enumerate*}\n",
       "\\item 'Female'\n",
       "\\item 'Seasonal.allergies.hay.fever'\n",
       "\\item 'smell\\_disorder'\n",
       "\\item 'taste\\_disorder'\n",
       "\\item 'no\\_comorbity'\n",
       "\\item 'Diabetes..high.blood.sugar.'\n",
       "\\item 'Obesity'\n",
       "\\item 'Chronic.sinus.problems'\n",
       "\\item 'Other'\n",
       "\\item 'High.blood.pressure'\n",
       "\\item 'Head.trauma'\n",
       "\\item 'Dry.mouth'\n",
       "\\item 'Heart.disease..heart.attack.'\n",
       "\\item 'Lung.disease..asthma.COPD.'\n",
       "\\item 'Neurological.disease'\n",
       "\\item 'Fever'\n",
       "\\item 'Changes.in.food.flavor'\n",
       "\\item 'Changes.in.smell'\n",
       "\\item 'Changes.in.taste'\n",
       "\\item 'Headache'\n",
       "\\item 'Fatigue'\n",
       "\\item 'Body.aches'\n",
       "\\item 'Nausea'\n",
       "\\item 'No.symptoms'\n",
       "\\item 'Runny.nose'\n",
       "\\item 'Cough.with.mucus'\n",
       "\\item 'Dry.cough'\n",
       "\\item 'Sore.throat'\n",
       "\\item 'Skin.sensitivity'\n",
       "\\item 'Abdominal.pain'\n",
       "\\item 'Chest.tightness'\n",
       "\\item 'Diarrhea'\n",
       "\\item 'dry\\_mouth\\_com'\n",
       "\\item 'Loss.of.appetite'\n",
       "\\item 'difficult\\_breathing'\n",
       "\\item 'no\\_chnage\\_in\\_taste'\n",
       "\\item 'change\\_in\\_bitter'\n",
       "\\item 'change\\_in\\_sweet'\n",
       "\\item 'change\\_in\\_sour'\n",
       "\\item 'change\\_in\\_salt'\n",
       "\\end{enumerate*}\n"
      ],
      "text/markdown": [
       "1. 'Female'\n",
       "2. 'Seasonal.allergies.hay.fever'\n",
       "3. 'smell_disorder'\n",
       "4. 'taste_disorder'\n",
       "5. 'no_comorbity'\n",
       "6. 'Diabetes..high.blood.sugar.'\n",
       "7. 'Obesity'\n",
       "8. 'Chronic.sinus.problems'\n",
       "9. 'Other'\n",
       "10. 'High.blood.pressure'\n",
       "11. 'Head.trauma'\n",
       "12. 'Dry.mouth'\n",
       "13. 'Heart.disease..heart.attack.'\n",
       "14. 'Lung.disease..asthma.COPD.'\n",
       "15. 'Neurological.disease'\n",
       "16. 'Fever'\n",
       "17. 'Changes.in.food.flavor'\n",
       "18. 'Changes.in.smell'\n",
       "19. 'Changes.in.taste'\n",
       "20. 'Headache'\n",
       "21. 'Fatigue'\n",
       "22. 'Body.aches'\n",
       "23. 'Nausea'\n",
       "24. 'No.symptoms'\n",
       "25. 'Runny.nose'\n",
       "26. 'Cough.with.mucus'\n",
       "27. 'Dry.cough'\n",
       "28. 'Sore.throat'\n",
       "29. 'Skin.sensitivity'\n",
       "30. 'Abdominal.pain'\n",
       "31. 'Chest.tightness'\n",
       "32. 'Diarrhea'\n",
       "33. 'dry_mouth_com'\n",
       "34. 'Loss.of.appetite'\n",
       "35. 'difficult_breathing'\n",
       "36. 'no_chnage_in_taste'\n",
       "37. 'change_in_bitter'\n",
       "38. 'change_in_sweet'\n",
       "39. 'change_in_sour'\n",
       "40. 'change_in_salt'\n",
       "\n",
       "\n"
      ],
      "text/plain": [
       " [1] \"Female\"                       \"Seasonal.allergies.hay.fever\"\n",
       " [3] \"smell_disorder\"               \"taste_disorder\"              \n",
       " [5] \"no_comorbity\"                 \"Diabetes..high.blood.sugar.\" \n",
       " [7] \"Obesity\"                      \"Chronic.sinus.problems\"      \n",
       " [9] \"Other\"                        \"High.blood.pressure\"         \n",
       "[11] \"Head.trauma\"                  \"Dry.mouth\"                   \n",
       "[13] \"Heart.disease..heart.attack.\" \"Lung.disease..asthma.COPD.\"  \n",
       "[15] \"Neurological.disease\"         \"Fever\"                       \n",
       "[17] \"Changes.in.food.flavor\"       \"Changes.in.smell\"            \n",
       "[19] \"Changes.in.taste\"             \"Headache\"                    \n",
       "[21] \"Fatigue\"                      \"Body.aches\"                  \n",
       "[23] \"Nausea\"                       \"No.symptoms\"                 \n",
       "[25] \"Runny.nose\"                   \"Cough.with.mucus\"            \n",
       "[27] \"Dry.cough\"                    \"Sore.throat\"                 \n",
       "[29] \"Skin.sensitivity\"             \"Abdominal.pain\"              \n",
       "[31] \"Chest.tightness\"              \"Diarrhea\"                    \n",
       "[33] \"dry_mouth_com\"                \"Loss.of.appetite\"            \n",
       "[35] \"difficult_breathing\"          \"no_chnage_in_taste\"          \n",
       "[37] \"change_in_bitter\"             \"change_in_sweet\"             \n",
       "[39] \"change_in_sour\"               \"change_in_salt\"              "
      ]
     },
     "metadata": {},
     "output_type": "display_data"
    }
   ],
   "source": [
    "binary_attributes"
   ]
  },
  {
   "cell_type": "code",
   "execution_count": 123,
   "metadata": {},
   "outputs": [
    {
     "name": "stdout",
     "output_type": "stream",
     "text": [
      "[1] \"Female\"\n",
      "[1] \"Female\"\n",
      "    COVID Non-COVID\n",
      "YES    41        39\n",
      "NO     74        95\n",
      "\n",
      "\tPearson's Chi-squared test with Yates' continuity correction\n",
      "\n",
      "data:  trial.table\n",
      "X-squared = 0.93501, df = 1, p-value = 0.3336\n",
      "\n",
      "[1] \"Seasonal.allergies.hay.fever\"\n",
      "[1] \"Seasonal.allergies.hay.fever\"\n",
      "    COVID Non-COVID\n",
      "YES     6         9\n",
      "NO    109       125\n",
      "\n",
      "\tPearson's Chi-squared test with Yates' continuity correction\n",
      "\n",
      "data:  trial.table\n",
      "X-squared = 0.052214, df = 1, p-value = 0.8193\n",
      "\n",
      "[1] \"smell_disorder\"\n",
      "[1] \"smell_disorder\"\n",
      "    COVID Non-COVID\n",
      "YES     0         3\n",
      "NO    115       131\n"
     ]
    },
    {
     "name": "stderr",
     "output_type": "stream",
     "text": [
      "Warning message in chisq.test(trial.table):\n",
      "“Chi-squared approximation may be incorrect”\n"
     ]
    },
    {
     "name": "stdout",
     "output_type": "stream",
     "text": [
      "\n",
      "\tPearson's Chi-squared test with Yates' continuity correction\n",
      "\n",
      "data:  trial.table\n",
      "X-squared = 1.0645, df = 1, p-value = 0.3022\n",
      "\n",
      "[1] \"taste_disorder\"\n",
      "[1] \"taste_disorder\"\n",
      "    COVID Non-COVID\n",
      "YES     0         3\n",
      "NO    115       131\n"
     ]
    },
    {
     "name": "stderr",
     "output_type": "stream",
     "text": [
      "Warning message in chisq.test(trial.table):\n",
      "“Chi-squared approximation may be incorrect”\n"
     ]
    },
    {
     "name": "stdout",
     "output_type": "stream",
     "text": [
      "\n",
      "\tPearson's Chi-squared test with Yates' continuity correction\n",
      "\n",
      "data:  trial.table\n",
      "X-squared = 1.0645, df = 1, p-value = 0.3022\n",
      "\n",
      "[1] \"no_comorbity\"\n",
      "[1] \"no_comorbity\"\n",
      "    COVID Non-COVID\n",
      "YES    45        89\n",
      "NO     70        45\n",
      "\n",
      "\tPearson's Chi-squared test with Yates' continuity correction\n",
      "\n",
      "data:  trial.table\n",
      "X-squared = 17.459, df = 1, p-value = 2.936e-05\n",
      "\n",
      "[1] \"Diabetes..high.blood.sugar.\"\n",
      "[1] \"Diabetes..high.blood.sugar.\"\n",
      "    COVID Non-COVID\n",
      "YES     5         5\n",
      "NO    110       129\n"
     ]
    },
    {
     "name": "stderr",
     "output_type": "stream",
     "text": [
      "Warning message in chisq.test(trial.table):\n",
      "“Chi-squared approximation may be incorrect”\n"
     ]
    },
    {
     "name": "stdout",
     "output_type": "stream",
     "text": [
      "\n",
      "\tPearson's Chi-squared test with Yates' continuity correction\n",
      "\n",
      "data:  trial.table\n",
      "X-squared = 1.1952e-31, df = 1, p-value = 1\n",
      "\n",
      "[1] \"Obesity\"\n",
      "[1] \"Obesity\"\n",
      "    COVID Non-COVID\n",
      "YES     4         9\n",
      "NO    111       125\n",
      "\n",
      "\tPearson's Chi-squared test with Yates' continuity correction\n",
      "\n",
      "data:  trial.table\n",
      "X-squared = 0.73866, df = 1, p-value = 0.3901\n",
      "\n",
      "[1] \"Chronic.sinus.problems\"\n",
      "[1] \"Chronic.sinus.problems\"\n",
      "    COVID Non-COVID\n",
      "YES     4         1\n",
      "NO    111       133\n"
     ]
    },
    {
     "name": "stderr",
     "output_type": "stream",
     "text": [
      "Warning message in chisq.test(trial.table):\n",
      "“Chi-squared approximation may be incorrect”\n"
     ]
    },
    {
     "name": "stdout",
     "output_type": "stream",
     "text": [
      "\n",
      "\tPearson's Chi-squared test with Yates' continuity correction\n",
      "\n",
      "data:  trial.table\n",
      "X-squared = 1.1644, df = 1, p-value = 0.2806\n",
      "\n",
      "[1] \"Other\"\n",
      "[1] \"Other\"\n",
      "    COVID Non-COVID\n",
      "YES     0         3\n",
      "NO    115       131\n"
     ]
    },
    {
     "name": "stderr",
     "output_type": "stream",
     "text": [
      "Warning message in chisq.test(trial.table):\n",
      "“Chi-squared approximation may be incorrect”\n"
     ]
    },
    {
     "name": "stdout",
     "output_type": "stream",
     "text": [
      "\n",
      "\tPearson's Chi-squared test with Yates' continuity correction\n",
      "\n",
      "data:  trial.table\n",
      "X-squared = 1.0645, df = 1, p-value = 0.3022\n",
      "\n",
      "[1] \"High.blood.pressure\"\n",
      "[1] \"High.blood.pressure\"\n",
      "    COVID Non-COVID\n",
      "YES    10        10\n",
      "NO    105       124\n",
      "\n",
      "\tPearson's Chi-squared test with Yates' continuity correction\n",
      "\n",
      "data:  trial.table\n",
      "X-squared = 0.015136, df = 1, p-value = 0.9021\n",
      "\n",
      "[1] \"Head.trauma\"\n",
      "[1] \"Head.trauma\"\n",
      "    COVID Non-COVID\n",
      "YES     3         0\n",
      "NO    112       134\n"
     ]
    },
    {
     "name": "stderr",
     "output_type": "stream",
     "text": [
      "Warning message in chisq.test(trial.table):\n",
      "“Chi-squared approximation may be incorrect”\n"
     ]
    },
    {
     "name": "stdout",
     "output_type": "stream",
     "text": [
      "\n",
      "\tPearson's Chi-squared test with Yates' continuity correction\n",
      "\n",
      "data:  trial.table\n",
      "X-squared = 1.686, df = 1, p-value = 0.1941\n",
      "\n",
      "[1] \"Dry.mouth\"\n",
      "[1] \"Dry.mouth\"\n",
      "    COVID Non-COVID\n",
      "YES     3         3\n",
      "NO    112       131\n"
     ]
    },
    {
     "name": "stderr",
     "output_type": "stream",
     "text": [
      "Warning message in chisq.test(trial.table):\n",
      "“Chi-squared approximation may be incorrect”\n"
     ]
    },
    {
     "name": "stdout",
     "output_type": "stream",
     "text": [
      "\n",
      "\tPearson's Chi-squared test with Yates' continuity correction\n",
      "\n",
      "data:  trial.table\n",
      "X-squared = 6.5807e-29, df = 1, p-value = 1\n",
      "\n",
      "[1] \"Heart.disease..heart.attack.\"\n",
      "[1] \"Heart.disease..heart.attack.\"\n",
      "    COVID Non-COVID\n",
      "YES     1         0\n",
      "NO    114       134\n"
     ]
    },
    {
     "name": "stderr",
     "output_type": "stream",
     "text": [
      "Warning message in chisq.test(trial.table):\n",
      "“Chi-squared approximation may be incorrect”\n"
     ]
    },
    {
     "name": "stdout",
     "output_type": "stream",
     "text": [
      "\n",
      "\tPearson's Chi-squared test with Yates' continuity correction\n",
      "\n",
      "data:  trial.table\n",
      "X-squared = 0.0058802, df = 1, p-value = 0.9389\n",
      "\n",
      "[1] \"Lung.disease..asthma.COPD.\"\n",
      "[1] \"Lung.disease..asthma.COPD.\"\n",
      "    COVID Non-COVID\n",
      "YES     2         0\n",
      "NO    113       134\n"
     ]
    },
    {
     "name": "stderr",
     "output_type": "stream",
     "text": [
      "Warning message in chisq.test(trial.table):\n",
      "“Chi-squared approximation may be incorrect”\n"
     ]
    },
    {
     "name": "stdout",
     "output_type": "stream",
     "text": [
      "\n",
      "\tPearson's Chi-squared test with Yates' continuity correction\n",
      "\n",
      "data:  trial.table\n",
      "X-squared = 0.67356, df = 1, p-value = 0.4118\n",
      "\n",
      "[1] \"Neurological.disease\"\n",
      "[1] \"Neurological.disease\"\n",
      "    COVID Non-COVID\n",
      "YES     2         0\n",
      "NO    113       134\n"
     ]
    },
    {
     "name": "stderr",
     "output_type": "stream",
     "text": [
      "Warning message in chisq.test(trial.table):\n",
      "“Chi-squared approximation may be incorrect”\n"
     ]
    },
    {
     "name": "stdout",
     "output_type": "stream",
     "text": [
      "\n",
      "\tPearson's Chi-squared test with Yates' continuity correction\n",
      "\n",
      "data:  trial.table\n",
      "X-squared = 0.67356, df = 1, p-value = 0.4118\n",
      "\n",
      "[1] \"Fever\"\n",
      "[1] \"Fever\"\n",
      "    COVID Non-COVID\n",
      "YES    79        27\n",
      "NO     36       107\n",
      "\n",
      "\tPearson's Chi-squared test with Yates' continuity correction\n",
      "\n",
      "data:  trial.table\n",
      "X-squared = 57.69, df = 1, p-value = 3.069e-14\n",
      "\n",
      "[1] \"Changes.in.food.flavor\"\n",
      "[1] \"Changes.in.food.flavor\"\n",
      "    COVID Non-COVID\n",
      "YES     8         3\n",
      "NO    107       131\n",
      "\n",
      "\tPearson's Chi-squared test with Yates' continuity correction\n",
      "\n",
      "data:  trial.table\n",
      "X-squared = 2.2405, df = 1, p-value = 0.1344\n",
      "\n",
      "[1] \"Changes.in.smell\"\n",
      "[1] \"Changes.in.smell\"\n",
      "    COVID Non-COVID\n",
      "YES    17         6\n",
      "NO     98       128\n",
      "\n",
      "\tPearson's Chi-squared test with Yates' continuity correction\n",
      "\n",
      "data:  trial.table\n",
      "X-squared = 6.658, df = 1, p-value = 0.009871\n",
      "\n",
      "[1] \"Changes.in.taste\"\n",
      "[1] \"Changes.in.taste\"\n",
      "    COVID Non-COVID\n",
      "YES    17         5\n",
      "NO     98       129\n",
      "\n",
      "\tPearson's Chi-squared test with Yates' continuity correction\n",
      "\n",
      "data:  trial.table\n",
      "X-squared = 8.0619, df = 1, p-value = 0.004521\n",
      "\n",
      "[1] \"Headache\"\n",
      "[1] \"Headache\"\n",
      "    COVID Non-COVID\n",
      "YES     9        23\n",
      "NO    106       111\n",
      "\n",
      "\tPearson's Chi-squared test with Yates' continuity correction\n",
      "\n",
      "data:  trial.table\n",
      "X-squared = 4.0208, df = 1, p-value = 0.04494\n",
      "\n",
      "[1] \"Fatigue\"\n",
      "[1] \"Fatigue\"\n",
      "    COVID Non-COVID\n",
      "YES    14        13\n",
      "NO    101       121\n",
      "\n",
      "\tPearson's Chi-squared test with Yates' continuity correction\n",
      "\n",
      "data:  trial.table\n",
      "X-squared = 0.17736, df = 1, p-value = 0.6737\n",
      "\n",
      "[1] \"Body.aches\"\n",
      "[1] \"Body.aches\"\n",
      "    COVID Non-COVID\n",
      "YES    12        12\n",
      "NO    103       122\n",
      "\n",
      "\tPearson's Chi-squared test with Yates' continuity correction\n",
      "\n",
      "data:  trial.table\n",
      "X-squared = 0.032054, df = 1, p-value = 0.8579\n",
      "\n",
      "[1] \"Nausea\"\n",
      "[1] \"Nausea\"\n",
      "    COVID Non-COVID\n",
      "YES     3         4\n",
      "NO    112       130\n"
     ]
    },
    {
     "name": "stderr",
     "output_type": "stream",
     "text": [
      "Warning message in chisq.test(trial.table):\n",
      "“Chi-squared approximation may be incorrect”\n"
     ]
    },
    {
     "name": "stdout",
     "output_type": "stream",
     "text": [
      "\n",
      "\tPearson's Chi-squared test with Yates' continuity correction\n",
      "\n",
      "data:  trial.table\n",
      "X-squared = 3.4566e-29, df = 1, p-value = 1\n",
      "\n",
      "[1] \"No.symptoms\"\n",
      "[1] \"No.symptoms\"\n",
      "    COVID Non-COVID\n",
      "YES    13        52\n",
      "NO    102        82\n",
      "\n",
      "\tPearson's Chi-squared test with Yates' continuity correction\n",
      "\n",
      "data:  trial.table\n",
      "X-squared = 22.861, df = 1, p-value = 1.742e-06\n",
      "\n",
      "[1] \"Runny.nose\"\n",
      "[1] \"Runny.nose\"\n",
      "    COVID Non-COVID\n",
      "YES    29        19\n",
      "NO     86       115\n",
      "\n",
      "\tPearson's Chi-squared test with Yates' continuity correction\n",
      "\n",
      "data:  trial.table\n",
      "X-squared = 4.1624, df = 1, p-value = 0.04133\n",
      "\n",
      "[1] \"Cough.with.mucus\"\n",
      "[1] \"Cough.with.mucus\"\n",
      "    COVID Non-COVID\n",
      "YES    37        11\n",
      "NO     78       123\n",
      "\n",
      "\tPearson's Chi-squared test with Yates' continuity correction\n",
      "\n",
      "data:  trial.table\n",
      "X-squared = 21.327, df = 1, p-value = 3.872e-06\n",
      "\n",
      "[1] \"Dry.cough\"\n",
      "[1] \"Dry.cough\"\n",
      "    COVID Non-COVID\n",
      "YES    25        20\n",
      "NO     90       114\n",
      "\n",
      "\tPearson's Chi-squared test with Yates' continuity correction\n",
      "\n",
      "data:  trial.table\n",
      "X-squared = 1.5077, df = 1, p-value = 0.2195\n",
      "\n",
      "[1] \"Sore.throat\"\n",
      "[1] \"Sore.throat\"\n",
      "    COVID Non-COVID\n",
      "YES    14         8\n",
      "NO    101       126\n",
      "\n",
      "\tPearson's Chi-squared test with Yates' continuity correction\n",
      "\n",
      "data:  trial.table\n",
      "X-squared = 2.237, df = 1, p-value = 0.1347\n",
      "\n",
      "[1] \"Skin.sensitivity\"\n",
      "[1] \"Skin.sensitivity\"\n",
      "    COVID Non-COVID\n",
      "YES     0         5\n",
      "NO    115       129\n"
     ]
    },
    {
     "name": "stderr",
     "output_type": "stream",
     "text": [
      "Warning message in chisq.test(trial.table):\n",
      "“Chi-squared approximation may be incorrect”\n"
     ]
    },
    {
     "name": "stdout",
     "output_type": "stream",
     "text": [
      "\n",
      "\tPearson's Chi-squared test with Yates' continuity correction\n",
      "\n",
      "data:  trial.table\n",
      "X-squared = 2.688, df = 1, p-value = 0.1011\n",
      "\n",
      "[1] \"Abdominal.pain\"\n",
      "[1] \"Abdominal.pain\"\n",
      "    COVID Non-COVID\n",
      "YES     2         7\n",
      "NO    113       127\n"
     ]
    },
    {
     "name": "stderr",
     "output_type": "stream",
     "text": [
      "Warning message in chisq.test(trial.table):\n",
      "“Chi-squared approximation may be incorrect”\n"
     ]
    },
    {
     "name": "stdout",
     "output_type": "stream",
     "text": [
      "\n",
      "\tPearson's Chi-squared test with Yates' continuity correction\n",
      "\n",
      "data:  trial.table\n",
      "X-squared = 1.2729, df = 1, p-value = 0.2592\n",
      "\n",
      "[1] \"Chest.tightness\"\n",
      "[1] \"Chest.tightness\"\n",
      "    COVID Non-COVID\n",
      "YES    17         3\n",
      "NO     98       131\n",
      "\n",
      "\tPearson's Chi-squared test with Yates' continuity correction\n",
      "\n",
      "data:  trial.table\n",
      "X-squared = 11.539, df = 1, p-value = 0.0006815\n",
      "\n",
      "[1] \"Diarrhea\"\n",
      "[1] \"Diarrhea\"\n",
      "    COVID Non-COVID\n",
      "YES     4         5\n",
      "NO    111       129\n"
     ]
    },
    {
     "name": "stderr",
     "output_type": "stream",
     "text": [
      "Warning message in chisq.test(trial.table):\n",
      "“Chi-squared approximation may be incorrect”\n"
     ]
    },
    {
     "name": "stdout",
     "output_type": "stream",
     "text": [
      "\n",
      "\tPearson's Chi-squared test with Yates' continuity correction\n",
      "\n",
      "data:  trial.table\n",
      "X-squared = 9.2102e-29, df = 1, p-value = 1\n",
      "\n",
      "[1] \"dry_mouth_com\"\n",
      "[1] \"dry_mouth_com\"\n",
      "    COVID Non-COVID\n",
      "YES     7         4\n",
      "NO    108       130\n",
      "\n",
      "\tPearson's Chi-squared test with Yates' continuity correction\n",
      "\n",
      "data:  trial.table\n",
      "X-squared = 0.77127, df = 1, p-value = 0.3798\n",
      "\n",
      "[1] \"Loss.of.appetite\"\n",
      "[1] \"Loss.of.appetite\"\n",
      "    COVID Non-COVID\n",
      "YES     7         5\n",
      "NO    108       129\n",
      "\n",
      "\tPearson's Chi-squared test with Yates' continuity correction\n",
      "\n",
      "data:  trial.table\n",
      "X-squared = 0.32318, df = 1, p-value = 0.5697\n",
      "\n",
      "[1] \"difficult_breathing\"\n",
      "[1] \"difficult_breathing\"\n",
      "    COVID Non-COVID\n",
      "YES    10         1\n",
      "NO    105       133\n",
      "\n",
      "\tPearson's Chi-squared test with Yates' continuity correction\n",
      "\n",
      "data:  trial.table\n",
      "X-squared = 7.4749, df = 1, p-value = 0.006256\n",
      "\n",
      "[1] \"no_chnage_in_taste\"\n",
      "[1] \"no_chnage_in_taste\"\n",
      "    COVID Non-COVID\n",
      "YES    76       119\n",
      "NO     39        15\n",
      "\n",
      "\tPearson's Chi-squared test with Yates' continuity correction\n",
      "\n",
      "data:  trial.table\n",
      "X-squared = 17.495, df = 1, p-value = 2.881e-05\n",
      "\n",
      "[1] \"change_in_bitter\"\n",
      "[1] \"change_in_bitter\"\n",
      "    COVID Non-COVID\n",
      "YES    28         4\n",
      "NO     87       130\n",
      "\n",
      "\tPearson's Chi-squared test with Yates' continuity correction\n",
      "\n",
      "data:  trial.table\n",
      "X-squared = 23.346, df = 1, p-value = 1.353e-06\n",
      "\n",
      "[1] \"change_in_sweet\"\n",
      "[1] \"change_in_sweet\"\n",
      "    COVID Non-COVID\n",
      "YES    24         8\n",
      "NO     91       126\n",
      "\n",
      "\tPearson's Chi-squared test with Yates' continuity correction\n",
      "\n",
      "data:  trial.table\n",
      "X-squared = 10.973, df = 1, p-value = 0.0009247\n",
      "\n",
      "[1] \"change_in_sour\"\n",
      "[1] \"change_in_sour\"\n",
      "    COVID Non-COVID\n",
      "YES    25         8\n",
      "NO     90       126\n",
      "\n",
      "\tPearson's Chi-squared test with Yates' continuity correction\n",
      "\n",
      "data:  trial.table\n",
      "X-squared = 12.049, df = 1, p-value = 0.0005181\n",
      "\n",
      "[1] \"change_in_salt\"\n",
      "[1] \"change_in_salt\"\n",
      "    COVID Non-COVID\n",
      "YES    31        11\n",
      "NO     84       123\n",
      "\n",
      "\tPearson's Chi-squared test with Yates' continuity correction\n",
      "\n",
      "data:  trial.table\n",
      "X-squared = 14.204, df = 1, p-value = 0.000164\n",
      "\n"
     ]
    }
   ],
   "source": [
    "binary_attributes=colnames(dft)[c(29:68)]\n",
    "for (att in binary_attributes){\n",
    "    print(att)\n",
    "    lt<-as.list(dftp[att])\n",
    "    dfreq<-count(lt,1)\n",
    "    if (nrow(dfreq)==1){\n",
    "        pyes<-0\n",
    "    }\n",
    "    else{\n",
    "        pyes<-dfreq[2,]$freq\n",
    "    }\n",
    "    \n",
    "    pno<-115-pyes\n",
    "    lt<-as.list(dftn[att])\n",
    "    dfreq<-count(lt,1)\n",
    "    if (nrow(dfreq)==1){\n",
    "        nyes<-0\n",
    "    }\n",
    "    else{\n",
    "        nyes<-dfreq[2,]$freq\n",
    "    }\n",
    "    nno<-134-nyes\n",
    "    print(att)\n",
    "    trial <- matrix(c(pyes,pno,nyes,nno), ncol=2)\n",
    "    colnames(trial) <- c('COVID', 'Non-COVID')\n",
    "    rownames(trial) <- c('YES','NO')\n",
    "    trial.table <- as.table(trial)\n",
    "    print(trial.table)\n",
    "    print(chisq.test(trial.table))\n",
    "}"
   ]
  },
  {
   "cell_type": "code",
   "execution_count": 217,
   "metadata": {},
   "outputs": [],
   "source": [
    "# Libraries\n",
    "library(ggplot2)\n",
    "# library(hrbrthemes)\n",
    "# library(dplyr)\n",
    "# library(tidyr)\n",
    "# library(viridis)\n",
    "\n",
    "# The diamonds dataset is natively available with R.\n",
    "png('../figures/smell_test_density1.png',width=1200,height=800)\n",
    "par(mfrow=c(3, 2),cex=1.5)\n",
    "#colnames<-c('Lemon','Milk','coffee','Sugar','Salt','Sour','Bitter','Chilly')\n",
    "#colnames<-c('Laundry Detergent','Clove','Coriander Seeds','Garam Masala','Smell Irritants')\n",
    "colnames<-c('laundry.detergent','Clove.lavang.','Coriander.seeds.Dhania','Garam.Goda.masala','smell_irritants_product')\n",
    "#colnames <- dimnames(crime.new)[[2]]\n",
    "indices<-c(2,3,4,5,14)\n",
    "for (i in 1:5) {\n",
    "# Without transparency (left)\n",
    "    ggplot(data=dft, aes(x=colnames[[i]], group=Diagnosed, fill=Diagnosed),cex=1.5) +\n",
    "        geom_density(adjust=1.5) +\n",
    "      theme(plot.title = element_text(hjust = 0.5),text = element_text(size=40),\n",
    "            axis.text.x = element_text(angle=0, hjust=0.5,vjust=0.5),legend.key.size = unit(1.6,\"line\"))\n",
    "    \n",
    "    #theme_ipsum()\n",
    "}\n",
    "#p1\n",
    "#dev.off()\n",
    "# With transparency (right)\n",
    "p2 <- ggplot(data=diamonds, aes(x=price, group=cut, fill=cut),cex=3.5) +\n",
    "    geom_density(adjust=1.5, alpha=.4) \n",
    "    #theme_ipsum()"
   ]
  },
  {
   "cell_type": "code",
   "execution_count": 622,
   "metadata": {},
   "outputs": [],
   "source": [
    "# Libraries\n",
    "library(ggplot2)\n",
    "library(ggpubr)\n",
    "# library(hrbrthemes)\n",
    "# library(dplyr)\n",
    "# library(tidyr)\n",
    "# library(viridis)\n",
    "\n",
    "# The diamonds dataset is natively available with R.\n",
    "#png('../figures/smell_test_density_multi.png',width=1200,height=800)\n",
    "#par(mfrow=c(3, 2),cex=1.5)\n",
    "#colnames<-c('Lemon','Milk','coffee','Sugar','Salt','Sour','Bitter','Chilly')\n",
    "#colnames<-c('Laundry Detergent','Clove','Coriander Seeds','Garam Masala','Smell Irritants')\n",
    "#colnames<-c('laundry.detergent','Clove.lavang.','Coriander.seeds.Dhania','Garam.Goda.masala','smell_irritants_product')\n",
    "#colnames <- dimnames(crime.new)[[2]]\n",
    "#indices<-c(2,3,4,5,14)\n",
    "\n",
    "#panel.grid.major = element_blank(), panel.grid.minor = element_blank(), panel.background = element_blank(), axis.line = element_line(colour = \"black\")\n",
    "\n",
    "pl1<-ggplot(data=dft, aes(x=laundry.detergent, group=Diagnosed, fill=Diagnosed),cex=1.5) +\n",
    "        geom_density(adjust=1.5,alpha=0.5) +\n",
    "      theme(panel.grid.major = element_blank(), panel.grid.minor = element_blank(), panel.background = element_blank(), axis.line = element_line(colour = \"black\")\n",
    ",plot.title = element_text(hjust = 0.5),text = element_text(size=20),\n",
    "            axis.text.x = element_text(angle=0, hjust=0.5,vjust=0.5),legend.position=\"none\")+xlab('Cleansing products')+\n",
    "  scale_fill_manual(values=c(\"maroon\",\"lightsalmon\"))#legend.key.size = unit(1.6,\"line\"))+le\n",
    "\n",
    "pl2<-ggplot(data=dft, aes(x=Clove.lavang., group=Diagnosed, fill=Diagnosed),cex=1.5) +\n",
    "        geom_density(adjust=1.5,alpha=0.5) +\n",
    "      theme(panel.grid.major = element_blank(), panel.grid.minor = element_blank(), panel.background = element_blank(), axis.line = element_line(colour = \"black\")\n",
    ",plot.title = element_text(hjust = 0.5),text = element_text(size=20),\n",
    "            axis.text.x = element_text(angle=0, hjust=0.5,vjust=0.5),legend.position=\"none\")+xlab('Spices/Herbs-1')+\n",
    "  scale_fill_manual(values=c(\"maroon\",\"lightsalmon\"))#,legend.key.size = unit(1.6,\"line\"))\n",
    "\n",
    "pl3<-ggplot(data=dft, aes(x=Coriander.seeds.Dhania, group=Diagnosed, fill=Diagnosed),cex=1.5) +\n",
    "        geom_density(adjust=1.5,alpha=0.5) +\n",
    "      theme(panel.grid.major = element_blank(), panel.grid.minor = element_blank(), panel.background = element_blank(), axis.line = element_line(colour = \"black\")\n",
    ",plot.title = element_text(hjust = 0.5),text = element_text(size=20),\n",
    "            axis.text.x = element_text(angle=0, hjust=0.5,vjust=0.5),legend.position=\"none\")+xlab('Spices/Herbs-2')+\n",
    "  scale_fill_manual(values=c(\"maroon\",\"lightsalmon\"))#,legend.key.size = unit(1.6,\"line\"))\n",
    "\n",
    "pl4<-ggplot(data=dft, aes(x=Garam.Goda.masala, group=Diagnosed, fill=Diagnosed),cex=1.5) +\n",
    "        geom_density(adjust=1.5,alpha=0.5) +\n",
    "      theme(panel.grid.major = element_blank(), panel.grid.minor = element_blank(), panel.background = element_blank(), axis.line = element_line(colour = \"black\")\n",
    ",plot.title = element_text(hjust = 0.5),text = element_text(size=20),\n",
    "            axis.text.x = element_text(angle=0, hjust=0.5,vjust=0.5),legend.position=\"none\")+xlab('Spices Mixtures')+\n",
    "  scale_fill_manual(values=c(\"maroon\",\"lightsalmon\"))#,legend.key.size = unit(1.6,\"line\"))\n",
    "\n",
    "pl5<-ggplot(data=dft, aes(x=smell_irritants_product, group=Diagnosed, fill=Diagnosed),cex=1.5) +\n",
    "        geom_density(adjust=1.5,alpha=0.5) +\n",
    "      theme(panel.grid.major = element_blank(), panel.grid.minor = element_blank(), panel.background = element_blank(), axis.line = element_line(colour = \"black\")\n",
    ",plot.title = element_text(hjust = 0.5),text = element_text(size=20),\n",
    "            axis.text.x = element_text(angle=0, hjust=0.5,vjust=0.5),legend.position=\"none\")+xlab('Smell Irritants')+\n",
    "  scale_fill_manual(values=c(\"maroon\",\"lightsalmon\"))#,legend.key.size = unit(1.6,\"line\"))\n",
    "    #theme_ipsum()\n",
    "\n",
    "pl6<-ggplot(data=dft, aes(x=lemon, group=Diagnosed, fill=Diagnosed),cex=1.5) +\n",
    "        geom_density(adjust=1.5,alpha=0.5) +\n",
    "      theme(panel.grid.major = element_blank(), panel.grid.minor = element_blank(), panel.background = element_blank(), axis.line = element_line(colour = \"black\")\n",
    ",plot.title = element_text(hjust = 0.5),text = element_text(size=20),\n",
    "            axis.text.x = element_text(angle=0, hjust=0.5,vjust=0.5),legend.position=\"none\")+xlab('Fruits/Fruits Juices/Vegetables')+\n",
    "  scale_fill_manual(values=c(\"maroon\",\"lightsalmon\"))#legend.key.size = unit(1.6,\"line\"))+le\n",
    "\n",
    "pl7<-ggplot(data=dft, aes(x=Milk, group=Diagnosed, fill=Diagnosed),cex=1.5) +\n",
    "        geom_density(adjust=1.5,alpha=0.5) +\n",
    "      theme(panel.grid.major = element_blank(), panel.grid.minor = element_blank(), panel.background = element_blank(), axis.line = element_line(colour = \"black\")\n",
    ",plot.title = element_text(hjust = 0.5),text = element_text(size=20),\n",
    "            axis.text.x = element_text(angle=0, hjust=0.5,vjust=0.5),legend.position=\"none\")+xlab('Dairy Products')+\n",
    "  scale_fill_manual(values=c(\"maroon\",\"lightsalmon\"))#,legend.key.size = unit(1.6,\"line\"))\n",
    "\n",
    "pl8<-ggplot(data=dft, aes(x=coffee, group=Diagnosed, fill=Diagnosed),cex=1.5) +\n",
    "        geom_density(adjust=1.5,alpha=0.5) +\n",
    "      theme(panel.grid.major = element_blank(), panel.grid.minor = element_blank(), panel.background = element_blank(), axis.line = element_line(colour = \"black\")\n",
    ",plot.title = element_text(hjust = 0.5),text = element_text(size=20),\n",
    "            axis.text.x = element_text(angle=0, hjust=0.5,vjust=0.5),legend.position=\"none\")+xlab('Other Products')+\n",
    "  scale_fill_manual(values=c(\"maroon\",\"lightsalmon\"))#,legend.key.size = unit(1.6,\"line\"))\n",
    "\n",
    "figure <- ggarrange(pl1,pl2,pl3,pl4,pl5,pl6,pl7,pl8,\n",
    "                    labels = c(\"A\", \"B\", \"C\",\"D\",\"E\",\"F\",\"G\",\"H\"),\n",
    "                    ncol = 3, nrow = 3)\n",
    "#dev.off()\n",
    "    #theme_ipsum()"
   ]
  },
  {
   "cell_type": "code",
   "execution_count": 623,
   "metadata": {},
   "outputs": [
    {
     "data": {
      "text/html": [
       "<strong>png:</strong> 2"
      ],
      "text/latex": [
       "\\textbf{png:} 2"
      ],
      "text/markdown": [
       "**png:** 2"
      ],
      "text/plain": [
       "png \n",
       "  2 "
      ]
     },
     "metadata": {},
     "output_type": "display_data"
    }
   ],
   "source": [
    "png('../figures/smell_test_density_multi6.png',width=1200,height=1200)\n",
    "figure\n",
    "dev.off()"
   ]
  },
  {
   "cell_type": "code",
   "execution_count": 619,
   "metadata": {},
   "outputs": [
    {
     "data": {
      "image/png": "[encoded data removed]",
      "text/plain": [
       "plot without title"
      ]
     },
     "metadata": {
      "image/png": {
       "height": 600,
       "width": 1200
      }
     },
     "output_type": "display_data"
    }
   ],
   "source": [
    "figure"
   ]
  },
  {
   "cell_type": "code",
   "execution_count": 624,
   "metadata": {},
   "outputs": [],
   "source": [
    "# Libraries\n",
    "library(ggplot2)\n",
    "library(ggpubr)\n",
    "# library(hrbrthemes)\n",
    "# library(dplyr)\n",
    "# library(tidyr)\n",
    "# library(viridis)\n",
    "\n",
    "# The diamonds dataset is natively available with R.\n",
    "#png('../figures/smell_test_density_multi.png',width=1200,height=800)\n",
    "#par(mfrow=c(3, 2),cex=1.5)\n",
    "#colnames<-c('Lemon','Milk','coffee','Sugar','Salt','Sour','Bitter','Chilly')\n",
    "#colnames<-c('Laundry Detergent','Clove','Coriander Seeds','Garam Masala','Smell Irritants')\n",
    "#colnames<-c('laundry.detergent','Clove.lavang.','Coriander.seeds.Dhania','Garam.Goda.masala','smell_irritants_product')\n",
    "#colnames <- dimnames(crime.new)[[2]]\n",
    "#indices<-c(2,3,4,5,14)\n",
    "#'lemon''Milk''coffee''Sugar''Salt''Sour''Bitter''chilly'\n",
    "\n",
    "\n",
    "ql1<-ggplot(data=dft, aes(x=Sugar, group=Diagnosed, fill=Diagnosed),cex=1.5) +\n",
    "        geom_density(adjust=1.5,alpha=0.5) +\n",
    "      theme(panel.grid.major = element_blank(), panel.grid.minor = element_blank(), panel.background = element_blank(), axis.line = element_line(colour = \"black\")\n",
    ",plot.title = element_text(hjust = 0.5),text = element_text(size=20),\n",
    "            axis.text.x = element_text(angle=0, hjust=0.5,vjust=0.5),legend.position=\"none\")+xlab('Sugar')+\n",
    "  scale_fill_manual(values=c(\"maroon\",\"lightsalmon\"))#,legend.key.size = unit(1.6,\"line\"))\n",
    "\n",
    "ql2<-ggplot(data=dft, aes(x=Salt, group=Diagnosed, fill=Diagnosed),cex=1.5) +\n",
    "        geom_density(adjust=1.5,alpha=0.5) +\n",
    "      theme(panel.grid.major = element_blank(), panel.grid.minor = element_blank(), panel.background = element_blank(), axis.line = element_line(colour = \"black\")\n",
    ",plot.title = element_text(hjust = 0.5),text = element_text(size=20),\n",
    "            axis.text.x = element_text(angle=0, hjust=0.5,vjust=0.5),legend.position=\"none\")+xlab('Salt')+\n",
    "  scale_fill_manual(values=c(\"maroon\",\"lightsalmon\"))#,legend.key.size = unit(1.6,\"line\"))\n",
    "\n",
    "ql3<-ggplot(data=dft, aes(x=Sour, group=Diagnosed, fill=Diagnosed),cex=1.5) +\n",
    "        geom_density(adjust=1.5,alpha=0.5) +\n",
    "      theme(panel.grid.major = element_blank(), panel.grid.minor = element_blank(), panel.background = element_blank(), axis.line = element_line(colour = \"black\")\n",
    ",plot.title = element_text(hjust = 0.5),text = element_text(size=20),\n",
    "            axis.text.x = element_text(angle=0, hjust=0.5,vjust=0.5),legend.position=\"none\")+xlab('Sour')+\n",
    "  scale_fill_manual(values=c(\"maroon\",\"lightsalmon\"))#,legend.key.size = unit(1.6,\"line\"))\n",
    "\n",
    "ql4<-ggplot(data=dft, aes(x=Bitter, group=Diagnosed, fill=Diagnosed),cex=1.5) +\n",
    "        geom_density(adjust=1.5,alpha=0.5) +\n",
    "      theme(panel.grid.major = element_blank(), panel.grid.minor = element_blank(), panel.background = element_blank(), axis.line = element_line(colour = \"black\")\n",
    ",plot.title = element_text(hjust = 0.5),text = element_text(size=20),\n",
    "            axis.text.x = element_text(angle=0, hjust=0.5,vjust=0.5),legend.position=\"none\")+xlab('Bitter')+\n",
    "  scale_fill_manual(values=c(\"maroon\",\"lightsalmon\"))#,legend.key.size = unit(1.6,\"line\"))\n",
    "\n",
    "\n",
    "ql5<-ggplot(data=dft, aes(x=chilly, group=Diagnosed, fill=Diagnosed),cex=1.5) +\n",
    "        geom_density(adjust=1.5,alpha=0.5) +\n",
    "      theme(panel.grid.major = element_blank(), panel.grid.minor = element_blank(), panel.background = element_blank(), axis.line = element_line(colour = \"black\")\n",
    ",plot.title = element_text(hjust = 0.5),text = element_text(size=20),\n",
    "            axis.text.x = element_text(angle=0, hjust=0.5,vjust=0.5),legend.position=\"none\")+xlab('Chilly')+\n",
    "  scale_fill_manual(values=c(\"maroon\",\"lightsalmon\"))#,legend.key.size = unit(1.6,\"line\"))\n",
    "    #theme_ipsum()\n",
    "figure1 <- ggarrange(ql1,ql2,ql3,ql4,ql5,\n",
    "                    labels = c(\"A\", \"B\", \"C\",\"D\",\"E\",\"F\",\"G\",\"H\"),\n",
    "                    ncol = 3, nrow = 2)\n",
    "#dev.off()\n",
    "    #theme_ipsum()"
   ]
  },
  {
   "cell_type": "code",
   "execution_count": 625,
   "metadata": {},
   "outputs": [
    {
     "data": {
      "text/html": [
       "<strong>png:</strong> 2"
      ],
      "text/latex": [
       "\\textbf{png:} 2"
      ],
      "text/markdown": [
       "**png:** 2"
      ],
      "text/plain": [
       "png \n",
       "  2 "
      ]
     },
     "metadata": {},
     "output_type": "display_data"
    }
   ],
   "source": [
    "png('../figures/test_density_multi6.png',width=1200,height=800)\n",
    "figure1\n",
    "dev.off()"
   ]
  },
  {
   "cell_type": "code",
   "execution_count": 297,
   "metadata": {},
   "outputs": [
    {
     "data": {
      "text/html": [
       "<table class=\"dataframe\">\n",
       "<caption>A matrix: 6 × 5 of type dbl</caption>\n",
       "<thead>\n",
       "\t<tr><th></th><th scope=col>Seasonal.allergies.hay.fever</th><th scope=col>smell_disorder</th><th scope=col>taste_disorder</th><th scope=col>Diabetes..high.blood.sugar.</th><th scope=col>Obesity</th></tr>\n",
       "</thead>\n",
       "<tbody>\n",
       "\t<tr><th scope=row>Seasonal.allergies.hay.fever</th><td>0.000000000</td><td>6.597140e-01</td><td>6.597140e-01</td><td>0.41474252</td><td>0.79552542</td></tr>\n",
       "\t<tr><th scope=row>smell_disorder</th><td>0.659714019</td><td>0.000000e+00</td><td>1.722277e-25</td><td>0.72204310</td><td>0.02796296</td></tr>\n",
       "\t<tr><th scope=row>taste_disorder</th><td>0.659714019</td><td>1.722277e-25</td><td>0.000000e+00</td><td>0.72204310</td><td>0.68315335</td></tr>\n",
       "\t<tr><th scope=row>Diabetes..high.blood.sugar.</th><td>0.414742516</td><td>7.220431e-01</td><td>7.220431e-01</td><td>0.00000000</td><td>0.03234152</td></tr>\n",
       "\t<tr><th scope=row>Obesity</th><td>0.795525423</td><td>2.796296e-02</td><td>6.831534e-01</td><td>0.03234152</td><td>0.00000000</td></tr>\n",
       "\t<tr><th scope=row>Chronic.sinus.problems</th><td>0.001285994</td><td>8.034008e-01</td><td>8.034008e-01</td><td>0.64471021</td><td>0.13420114</td></tr>\n",
       "</tbody>\n",
       "</table>\n"
      ],
      "text/latex": [
       "A matrix: 6 × 5 of type dbl\n",
       "\\begin{tabular}{r|lllll}\n",
       "  & Seasonal.allergies.hay.fever & smell\\_disorder & taste\\_disorder & Diabetes..high.blood.sugar. & Obesity\\\\\n",
       "\\hline\n",
       "\tSeasonal.allergies.hay.fever & 0.000000000 & 6.597140e-01 & 6.597140e-01 & 0.41474252 & 0.79552542\\\\\n",
       "\tsmell\\_disorder & 0.659714019 & 0.000000e+00 & 1.722277e-25 & 0.72204310 & 0.02796296\\\\\n",
       "\ttaste\\_disorder & 0.659714019 & 1.722277e-25 & 0.000000e+00 & 0.72204310 & 0.68315335\\\\\n",
       "\tDiabetes..high.blood.sugar. & 0.414742516 & 7.220431e-01 & 7.220431e-01 & 0.00000000 & 0.03234152\\\\\n",
       "\tObesity & 0.795525423 & 2.796296e-02 & 6.831534e-01 & 0.03234152 & 0.00000000\\\\\n",
       "\tChronic.sinus.problems & 0.001285994 & 8.034008e-01 & 8.034008e-01 & 0.64471021 & 0.13420114\\\\\n",
       "\\end{tabular}\n"
      ],
      "text/markdown": [
       "\n",
       "A matrix: 6 × 5 of type dbl\n",
       "\n",
       "| <!--/--> | Seasonal.allergies.hay.fever | smell_disorder | taste_disorder | Diabetes..high.blood.sugar. | Obesity |\n",
       "|---|---|---|---|---|---|\n",
       "| Seasonal.allergies.hay.fever | 0.000000000 | 6.597140e-01 | 6.597140e-01 | 0.41474252 | 0.79552542 |\n",
       "| smell_disorder | 0.659714019 | 0.000000e+00 | 1.722277e-25 | 0.72204310 | 0.02796296 |\n",
       "| taste_disorder | 0.659714019 | 1.722277e-25 | 0.000000e+00 | 0.72204310 | 0.68315335 |\n",
       "| Diabetes..high.blood.sugar. | 0.414742516 | 7.220431e-01 | 7.220431e-01 | 0.00000000 | 0.03234152 |\n",
       "| Obesity | 0.795525423 | 2.796296e-02 | 6.831534e-01 | 0.03234152 | 0.00000000 |\n",
       "| Chronic.sinus.problems | 0.001285994 | 8.034008e-01 | 8.034008e-01 | 0.64471021 | 0.13420114 |\n",
       "\n"
      ],
      "text/plain": [
       "                             Seasonal.allergies.hay.fever smell_disorder\n",
       "Seasonal.allergies.hay.fever 0.000000000                  6.597140e-01  \n",
       "smell_disorder               0.659714019                  0.000000e+00  \n",
       "taste_disorder               0.659714019                  1.722277e-25  \n",
       "Diabetes..high.blood.sugar.  0.414742516                  7.220431e-01  \n",
       "Obesity                      0.795525423                  2.796296e-02  \n",
       "Chronic.sinus.problems       0.001285994                  8.034008e-01  \n",
       "                             taste_disorder Diabetes..high.blood.sugar.\n",
       "Seasonal.allergies.hay.fever 6.597140e-01   0.41474252                 \n",
       "smell_disorder               1.722277e-25   0.72204310                 \n",
       "taste_disorder               0.000000e+00   0.72204310                 \n",
       "Diabetes..high.blood.sugar.  7.220431e-01   0.00000000                 \n",
       "Obesity                      6.831534e-01   0.03234152                 \n",
       "Chronic.sinus.problems       8.034008e-01   0.64471021                 \n",
       "                             Obesity   \n",
       "Seasonal.allergies.hay.fever 0.79552542\n",
       "smell_disorder               0.02796296\n",
       "taste_disorder               0.68315335\n",
       "Diabetes..high.blood.sugar.  0.03234152\n",
       "Obesity                      0.00000000\n",
       "Chronic.sinus.problems       0.13420114"
      ]
     },
     "metadata": {},
     "output_type": "display_data"
    }
   ],
   "source": [
    "M=cor(dft[ , health_atts],method='kendall')\n",
    "# mat : is a matrix of data\n",
    "# ... : further arguments to pass to the native R cor.test function\n",
    "cor.mtest <- function(mat) {\n",
    "    mat <- as.matrix(mat)\n",
    "    n <- ncol(mat)\n",
    "    p.mat<- matrix(NA, n, n)\n",
    "    diag(p.mat) <- 0\n",
    "    for (i in 1:(n - 1)) {\n",
    "        for (j in (i + 1):n) {\n",
    "            tmp <- cor.test(mat[, i], mat[, j],method=\"kendall\")\n",
    "            p.mat[i, j] <- p.mat[j, i] <- tmp$p.value\n",
    "        }\n",
    "    }\n",
    "  colnames(p.mat) <- rownames(p.mat) <- colnames(mat)\n",
    "  p.mat\n",
    "}\n",
    "# matrix of the p-value of the correlation\n",
    "p.mat <- cor.mtest(dft[ , health_atts])\n",
    "head(p.mat[, 1:5])"
   ]
  },
  {
   "cell_type": "code",
   "execution_count": 343,
   "metadata": {},
   "outputs": [
    {
     "data": {
      "text/html": [
       "<strong>png:</strong> 2"
      ],
      "text/latex": [
       "\\textbf{png:} 2"
      ],
      "text/markdown": [
       "**png:** 2"
      ],
      "text/plain": [
       "png \n",
       "  2 "
      ]
     },
     "metadata": {},
     "output_type": "display_data"
    }
   ],
   "source": [
    "col <- colorRampPalette(c(\"#BB4444\", \"#EE9988\", \"#FFFFFF\", \"#77AADD\", \"#4477AA\"))\n",
    "png(height=1200, width=1200, pointsize=15,file=\"../figures/corr_health3_lower.png\")\n",
    "colnames(M) <- c(\"Seasonal\\nAllergies\", \"Smell Disorder\", \"Taste Disorder\",\"Diabetes\",\"Obesity\",\"Chronic Sinus\\nProblems\",'High BP','Head Trauma','Dry Mouth' ,'Heart Disease\\n(Heart Attack)','Lung Disease\\n(Asthma/COPD)','Neurological\\nDisease','Others')\n",
    "rownames(M) <- c(\"Seasonal\\nAllergies\", \"Smell Disorder\", \"Taste Disorder\",\"Diabetes\",\"Obesity\",\"Chronic Sinus\\nProblems\",'High BP','Head Trauma','Dry Mouth' ,'Heart Disease\\n(Heart Attack)','Lung Disease\\n(Asthma/COPD)','Neurological\\nDisease','Others')\n",
    "pltt<-corrplot(M, method=\"color\",  \n",
    "         type=\"lower\", order=\"hclust\", \n",
    "         addCoef.col = \"black\", # Add coefficient of correlation\n",
    "         tl.col=\"black\", tl.srt=0, #Text label color and rotation\n",
    "         # Combine with significance\n",
    "         p.mat = p.mat, sig.level = 0.05, \n",
    "         # hide correlation coefficient on the principal diagonal\n",
    "         diag=FALSE,number.cex=1.5,tl.cex = 1.5\n",
    "         )\n",
    "dev.off()"
   ]
  },
  {
   "cell_type": "code",
   "execution_count": 349,
   "metadata": {},
   "outputs": [
    {
     "data": {
      "text/html": [
       "<style>\n",
       ".list-inline {list-style: none; margin:0; padding: 0}\n",
       ".list-inline>li {display: inline-block}\n",
       ".list-inline>li:not(:last-child)::after {content: \"\\00b7\"; padding: 0 .5ex}\n",
       "</style>\n",
       "<ol class=list-inline><li>1</li><li>1</li><li>1</li><li>1</li><li>1</li><li>1</li><li>1</li><li>1</li><li>1</li><li>1</li><li>1</li><li>1</li><li>1</li><li>1</li><li>1</li><li>1</li><li>1</li><li>1</li><li>1</li></ol>\n"
      ],
      "text/latex": [
       "\\begin{enumerate*}\n",
       "\\item 1\n",
       "\\item 1\n",
       "\\item 1\n",
       "\\item 1\n",
       "\\item 1\n",
       "\\item 1\n",
       "\\item 1\n",
       "\\item 1\n",
       "\\item 1\n",
       "\\item 1\n",
       "\\item 1\n",
       "\\item 1\n",
       "\\item 1\n",
       "\\item 1\n",
       "\\item 1\n",
       "\\item 1\n",
       "\\item 1\n",
       "\\item 1\n",
       "\\item 1\n",
       "\\end{enumerate*}\n"
      ],
      "text/markdown": [
       "1. 1\n",
       "2. 1\n",
       "3. 1\n",
       "4. 1\n",
       "5. 1\n",
       "6. 1\n",
       "7. 1\n",
       "8. 1\n",
       "9. 1\n",
       "10. 1\n",
       "11. 1\n",
       "12. 1\n",
       "13. 1\n",
       "14. 1\n",
       "15. 1\n",
       "16. 1\n",
       "17. 1\n",
       "18. 1\n",
       "19. 1\n",
       "\n",
       "\n"
      ],
      "text/plain": [
       " [1] 1 1 1 1 1 1 1 1 1 1 1 1 1 1 1 1 1 1 1"
      ]
     },
     "metadata": {},
     "output_type": "display_data"
    },
    {
     "data": {
      "text/html": [
       "<style>\n",
       ".list-inline {list-style: none; margin:0; padding: 0}\n",
       ".list-inline>li {display: inline-block}\n",
       ".list-inline>li:not(:last-child)::after {content: \"\\00b7\"; padding: 0 .5ex}\n",
       "</style>\n",
       "<ol class=list-inline><li>1</li><li>1</li><li>1</li><li>1</li><li>1</li><li>1</li><li>1</li><li>1</li><li>1</li><li>1</li><li>1</li><li>1</li><li>1</li></ol>\n"
      ],
      "text/latex": [
       "\\begin{enumerate*}\n",
       "\\item 1\n",
       "\\item 1\n",
       "\\item 1\n",
       "\\item 1\n",
       "\\item 1\n",
       "\\item 1\n",
       "\\item 1\n",
       "\\item 1\n",
       "\\item 1\n",
       "\\item 1\n",
       "\\item 1\n",
       "\\item 1\n",
       "\\item 1\n",
       "\\end{enumerate*}\n"
      ],
      "text/markdown": [
       "1. 1\n",
       "2. 1\n",
       "3. 1\n",
       "4. 1\n",
       "5. 1\n",
       "6. 1\n",
       "7. 1\n",
       "8. 1\n",
       "9. 1\n",
       "10. 1\n",
       "11. 1\n",
       "12. 1\n",
       "13. 1\n",
       "\n",
       "\n"
      ],
      "text/plain": [
       " [1] 1 1 1 1 1 1 1 1 1 1 1 1 1"
      ]
     },
     "metadata": {},
     "output_type": "display_data"
    }
   ],
   "source": [
    "lengths(symptoms_atts)\n",
    "lengths(colnames(M))"
   ]
  },
  {
   "cell_type": "code",
   "execution_count": 626,
   "metadata": {},
   "outputs": [
    {
     "data": {
      "text/html": [
       "<strong>png:</strong> 2"
      ],
      "text/latex": [
       "\\textbf{png:} 2"
      ],
      "text/markdown": [
       "**png:** 2"
      ],
      "text/plain": [
       "png \n",
       "  2 "
      ]
     },
     "metadata": {},
     "output_type": "display_data"
    }
   ],
   "source": [
    "symptoms_atts<-c('Fever','Changes.in.food.flavor','Changes.in.smell','Changes.in.taste','Headache','Fatigue','Body.aches','Nausea','Runny.nose','Cough.with.mucus','Dry.cough','Sore.throat','Skin.sensitivity','Abdominal.pain','Chest.tightness','Diarrhea','dry_mouth_com','Loss.of.appetite','difficult_breathing')\n",
    "# matrix of the p-value of the correlation\n",
    "M=cor(dft[ , symptoms_atts],method='kendall')\n",
    "p.mat <- cor.mtest(dft[ , symptoms_atts])\n",
    "\n",
    "\n",
    "col <- colorRampPalette(c(\"#BB4444\", \"#EE9988\", \"#FFFFFF\", \"#77AADD\", \"#4477AA\"))\n",
    "png(height=1200, width=1200, pointsize=15,file=\"../figures/corr_symptoms_lower1.png\")\n",
    "colnames(M) <- c('Fever','Food Flavor\\nChange','Smell Change','Taste Change','Headache','Fatigue','Body Aches','Nausea','Runny Nose','Cough with Mucus','Dry Cough','Sore throat','Skin Sensitivity','Abdominal Pain','Chest Tightness','Diarrhea','Dry Mouth','Loss of Appetite','Breathing Difficulty')\n",
    "rownames(M) <- c('Fever','Food Flavor\\nChange','Smell Change','Taste Change','Headache','Fatigue','Body Aches','Nausea','Runny Nose','Cough with Mucus','Dry Cough','Sore throat','Skin Sensitivity','Abdominal Pain','Chest Tightness','Diarrhea','Dry Mouth','Loss of Appetite','Breathing Difficulty')\n",
    "pltt<-corrplot(M, method=\"color\",  \n",
    "         type=\"lower\", order=\"hclust\", \n",
    "         addCoef.col = \"black\", # Add coefficient of correlation\n",
    "         tl.col=\"black\", tl.srt=45, #Text label color and rotation\n",
    "         # Combine with significance\n",
    "         p.mat = p.mat, sig.level = 0.05, \n",
    "         # hide correlation coefficient on the principal diagonal\n",
    "         diag=FALSE,number.cex=1.0,tl.cex = 1.5\n",
    "         )\n",
    "dev.off()"
   ]
  },
  {
   "cell_type": "code",
   "execution_count": 627,
   "metadata": {},
   "outputs": [
    {
     "data": {
      "text/html": [
       "<strong>png:</strong> 2"
      ],
      "text/latex": [
       "\\textbf{png:} 2"
      ],
      "text/markdown": [
       "**png:** 2"
      ],
      "text/plain": [
       "png \n",
       "  2 "
      ]
     },
     "metadata": {},
     "output_type": "display_data"
    }
   ],
   "source": [
    "library(corrplot)\n",
    "library(RColorBrewer)\n",
    "cor.mtest <- function(mat) {\n",
    "    mat <- as.matrix(mat)\n",
    "    n <- ncol(mat)\n",
    "    p.mat<- matrix(NA, n, n)\n",
    "    diag(p.mat) <- 0\n",
    "    for (i in 1:(n - 1)) {\n",
    "        for (j in (i + 1):n) {\n",
    "            tmp <- cor.test(mat[, i], mat[, j],method=\"kendall\")\n",
    "            p.mat[i, j] <- p.mat[j, i] <- tmp$p.value\n",
    "        }\n",
    "    }\n",
    "  colnames(p.mat) <- rownames(p.mat) <- colnames(mat)\n",
    "  p.mat\n",
    "}\n",
    "#dft$Bitter,dft$Sugar,dft$Salt,dft$ch\n",
    "#'Clove.lavang.','Coriander.seeds.Dhania','Garam.Goda.masala','coffee','smell_irritants_product'\n",
    "taste_test_atts<-c('Sugar','Salt','Sour','chilly')\n",
    "smell_test_atts<-c('Clove.lavang.','Coriander.seeds.Dhania','Garam.Goda.masala','smell_irritants_product','coffee')\n",
    "# matrix of the p-value of the correlation\n",
    "\n",
    "col <- colorRampPalette(c(\"#BB4444\", \"#EE9988\", \"#FFFFFF\", \"#77AADD\", \"#4477AA\"))\n",
    "png(height=500, width=1200, pointsize=15,file=\"../figures/corr_taste_smell__test_sep_symptoms_lower_sig1.png\")\n",
    "par(mfrow=c(1,2))\n",
    "    \n",
    "M=cor(dft[ , smell_test_atts],method='kendall')\n",
    "p.mat <- cor.mtest(dft[ , smell_test_atts])\n",
    "colnames(M) <- c('Spices/\\nHerbs-1','Spices/\\nHerbs-1','Spices\\nMix','Irritants','Others')\n",
    "rownames(M) <- c('Spices/\\nHerbs-1','Spices/\\nHerbs-1','Spices\\nMix','Irritants','Others')\n",
    "#colnames(M) <- c('Sweet','Sour','Salt','No')\n",
    "#rownames(M) <- c('Sweet','Sour','Salt','No')\n",
    "pltt2<-corrplot(M, method=\"color\",  \n",
    "         type=\"lower\", order=\"hclust\", \n",
    "         addCoef.col = \"black\", # Add coefficient of correlation\n",
    "         tl.col=\"black\", tl.srt=45, #Text label color and rotation\n",
    "         # Combine with significance\n",
    "         p.mat = p.mat, sig.level = 0.05, \n",
    "         # hide correlation coefficient on the principal diagonal\n",
    "         diag=FALSE,number.cex=1.0,tl.cex = 1.5\n",
    "         )\n",
    "\n",
    "\n",
    "\n",
    "\n",
    "M=cor(dft[ , taste_test_atts],method='kendall')\n",
    "p.mat <- cor.mtest(dft[ , taste_test_atts])\n",
    "\n",
    "\n",
    "\n",
    "colnames(M) <- c('Sweet','Salt','Sour','Chilly')\n",
    "rownames(M) <- c('Sweet','Salt','Sour','Chilly')\n",
    "\n",
    "pltt1<-corrplot(M, method=\"color\",  \n",
    "         type=\"lower\", order=\"hclust\", \n",
    "         addCoef.col = \"black\", # Add coefficient of correlation\n",
    "         tl.col=\"black\", tl.srt=45, #Text label color and rotation\n",
    "         # Combine with significance\n",
    "         p.mat = p.mat, sig.level = 0.05, \n",
    "         # hide correlation coefficient on the principal diagonal\n",
    "         diag=FALSE,number.cex=1.0,tl.cex = 1.5\n",
    "         )\n",
    "\n",
    "\n",
    "#both_pltt<-pltt2|pltt1\n",
    "dev.off()"
   ]
  },
  {
   "cell_type": "code",
   "execution_count": 3,
   "metadata": {},
   "outputs": [],
   "source": [
    "dft1=read.csv('../dataset/covid_survey_sel_data_pstd.csv')\n",
    "dft2=read.csv('../dataset/covid_survey_sel_data_pstd_sg.csv')"
   ]
  },
  {
   "cell_type": "code",
   "execution_count": 464,
   "metadata": {},
   "outputs": [],
   "source": [
    "library('ggmosaic')\n",
    "\n",
    "\n",
    "df_generic=read.csv('../dataset/generic_features.csv')\n",
    "#Smoker <- factor(df_generic$Smoker, levels=c(\"Not Known\", \"No\", \"Yes(Previous)\",\"Yes(Current)\"))\n",
    "p<-ggplot(data = df_generic) +\n",
    "  geom_mosaic(aes(x = product(Gender, Diagnosed), fill=Gender),offset=0.05)+\n",
    "  scale_fill_manual(values=c(\"red\",\"green\",\"brown\",\"plum1\",\"plum\"))+\n",
    "\n",
    "  theme(plot.title = element_text(hjust = 0.5),text = element_text(size=6),\n",
    "        axis.text.x = element_text(angle=0, hjust=0.5,vjust=0.5),legend.position=\"none\",#,colour = \"grey40\",size=4),\n",
    "       panel.background = element_rect(fill = \"white\",\n",
    "                                colour = \"white\",\n",
    "                                size = 0.5, linetype = \"solid\"),\n",
    "  panel.grid.major = element_line(size = 0.5, linetype = 'solid',\n",
    "                                colour = \"white\"), \n",
    "  panel.grid.minor = element_line(size = 0.25, linetype = 'solid',\n",
    "                                colour = \"white\"),axis.line = element_line(colour = \"black\"))+\n",
    "labs(x=expression(bold(\"Diagnosed\")),y=expression(bold(\"Gender\")))\n",
    "\n",
    "df_generic=read.csv('../dataset/generic_features.csv')\n",
    "df_generic$Contacts <- factor(df_generic$Contacts, levels=c(\"None\", \"1 to 4\", \"5 to 10\",\"11 to 20\",\"21 to 50\",\">50\"))\n",
    "q<-ggplot(data = df_generic) +\n",
    "  geom_mosaic(aes(x = product(Contacts, Diagnosed), fill=Contacts),offset=0.05)+\n",
    "  scale_fill_manual(values=c(\"red\",\"green\",\"brown\",\"plum1\",\"plum\",\"papayawhip\"))+\n",
    "\n",
    "  theme(plot.title = element_text(hjust = 0.5),text = element_text(size=6),\n",
    "        axis.text.x = element_text(angle=0, hjust=0.5,vjust=0.5),legend.position=\"none\",#,colour = \"grey40\",size=4),\n",
    "       panel.background = element_rect(fill = \"white\",\n",
    "                                colour = \"white\",\n",
    "                                size = 0.5, linetype = \"solid\"),\n",
    "  panel.grid.major = element_line(size = 0.5, linetype = 'solid',\n",
    "                                colour = \"white\"), \n",
    "  panel.grid.minor = element_line(size = 0.25, linetype = 'solid',\n",
    "                                colour = \"white\"),axis.line = element_line(colour = \"black\"))+\n",
    "labs(x=expression(bold(\"Diagnosed\")),y=expression(bold(\"In-Contact\")))\n",
    "\n",
    "\n",
    "df_generic=read.csv('../dataset/generic_features.csv')\n",
    "Smoker <- factor(df_generic$Smoker, levels=c(\"Not Known\", \"No\", \"Yes(Previous)\",\"Yes(Current)\"))\n",
    "r<-ggplot(data = df_generic) +\n",
    "  geom_mosaic(aes(x = product(Smoker, Diagnosed), fill=Smoker),offset=0.05)+\n",
    "  scale_fill_manual(values=c(\"red\",\"green\",\"brown\",\"plum1\",\"plum\"))+\n",
    "\n",
    "  theme(plot.title = element_text(hjust = 0.5),text = element_text(size=6),\n",
    "        axis.text.x = element_text(angle=0, hjust=0.5,vjust=0.5),legend.position=\"none\",#,colour = \"grey40\",size=4),\n",
    "       panel.background = element_rect(fill = \"white\",\n",
    "                                colour = \"white\",\n",
    "                                size = 0.5, linetype = \"solid\"),\n",
    "  panel.grid.major = element_line(size = 0.5, linetype = 'solid',\n",
    "                                colour = \"white\"), \n",
    "  panel.grid.minor = element_line(size = 0.25, linetype = 'solid',\n",
    "                                colour = \"white\"),axis.line = element_line(colour = \"black\"))+\n",
    "labs(x=expression(bold(\"Diagnosed\")),y=expression(bold(\"Smoker\")))\n",
    "\n",
    "\n",
    "options(repr.plot.width = 20, repr.plot.height = 10)\n",
    "ggsave(\"../figures/mosaic_gender_contacts__smoker_pstd.png\", p|q|r, width = 5, height = 2.1)"
   ]
  },
  {
   "cell_type": "code",
   "execution_count": 462,
   "metadata": {},
   "outputs": [],
   "source": [
    "library('ggmosaic')\n",
    "#library('ggpattern')\n",
    "\n",
    "df_generic=read.csv('../dataset/taste_smell_features.csv')\n",
    "df_generic$Taste_Change <- factor(df_generic$Taste_Change, levels=c(\"No\", \"Sour\",\"Bitter\",\"Salt\",\"Sweet\"))\n",
    "p<-ggplot(data = df_generic,pattern=Nerd) +\n",
    "  geom_mosaic(aes(x = product(Taste_Change, Diagnosed), fill=Taste_Change),offset=0.05)+\n",
    "  scale_fill_manual(values=c(\"red\",\"green\",\"brown\",\"plum1\",\"plum\"))+\n",
    "\n",
    "  theme(plot.title = element_text(hjust = 0.5),text = element_text(size=6),\n",
    "        axis.text.x = element_text(angle=0, hjust=0.5,vjust=0.5),legend.position=\"none\",#,colour = \"grey40\",size=4),\n",
    "       panel.background = element_rect(fill = \"white\",\n",
    "                                colour = \"white\",\n",
    "                                size = 0.5, linetype = \"solid\"),\n",
    "  panel.grid.major = element_line(size = 0.5, linetype = 'solid',\n",
    "                                colour = \"white\"), \n",
    "  panel.grid.minor = element_line(size = 0.25, linetype = 'solid',\n",
    "                                colour = \"white\"),axis.line = element_line(colour = \"black\"))+\n",
    "labs(x=expression(bold(\"Diagnosed\")),y=expression(bold(\"Taste Change\")))\n",
    "\n",
    "df_generic=read.csv('../dataset/taste_smell_features.csv')\n",
    "df_generic$Smell_Change <- factor(df_generic$Smell_Change, levels=c(\"No\",\"Slight\",\"Moderate\",\"Complete Loss\"))\n",
    "q<-ggplot(data = df_generic) +\n",
    "  geom_mosaic(aes(x = product(Smell_Change, Diagnosed), fill=Smell_Change),offset=0.05)+\n",
    "  scale_fill_manual(values=c(\"red\",\"green\",\"brown\",\"plum1\",\"plum\"))+\n",
    "\n",
    "  theme(plot.title = element_text(hjust = 0.5),text = element_text(size=6),\n",
    "        axis.text.x = element_text(angle=0, hjust=0.5,vjust=0.5),legend.position=\"none\",#,colour = \"grey40\",size=4),\n",
    "       panel.background = element_rect(fill = \"white\",\n",
    "                                colour = \"white\",\n",
    "                                size = 0.5, linetype = \"solid\"),\n",
    "  panel.grid.major = element_line(size = 0.5, linetype = 'solid',\n",
    "                                colour = \"white\"), \n",
    "  panel.grid.minor = element_line(size = 0.25, linetype = 'solid',\n",
    "                                colour = \"white\"),axis.line = element_line(colour = \"black\"))+\n",
    "labs(x=expression(bold(\"Diagnosed\")),y=expression(bold(\"Smell Change\")))\n",
    "\n",
    "\n",
    "\n",
    "\n",
    "\n",
    "options(repr.plot.width = 20, repr.plot.height = 10)\n",
    "ggsave(\"../figures/mosaic_taste_smell.png\", p|q, width = 3.5, height = 2.1)"
   ]
  },
  {
   "cell_type": "code",
   "execution_count": 408,
   "metadata": {},
   "outputs": [],
   "source": [
    "#h1 <- factor(dfh$h1, levels=c(\"No\",\"Yes\"))\n",
    "df2 <- data.frame(Diagnosed=rep(c(\"COVID\", \"Non-COVID\"), each=1),\n",
    "                Moral=rep(c(\"\")),\n",
    "                Percentage=c(0,2.24))\n",
    "p14<-ggplot(data=df2, aes(x=Diagnosed, y=Percentage, fill=Diagnosed)) +\n",
    "  ggtitle('')+\n",
    "  geom_bar(stat=\"identity\", width=0.8,position=position_dodge(width=0.8))+\n",
    "  scale_fill_manual(values=c(\"maroon\",\"lightsalmon\"))+\n",
    "  theme(plot.title = element_text(hjust = 0.5,vjust=0.5,size=5),text = element_text(size=6),\n",
    "        axis.text.x = element_text(angle=0, hjust=0.5,vjust=0.5,colour = \"grey20\",size=5),\n",
    "        axis.text.y = element_text(angle=0, hjust=0.5,vjust=0.5,colour = \"grey20\",size=5),\n",
    "        legend.position=\"none\",\n",
    "       panel.background = element_rect(fill = \"white\",\n",
    "                                colour = \"white\",\n",
    "                                size = 0.5, linetype = \"solid\"),\n",
    "  panel.grid.major = element_line(size = 0.5, linetype = 'solid',\n",
    "                                colour = \"white\"), \n",
    "  panel.grid.minor = element_line(size = 0.25, linetype = 'solid',\n",
    "                                colour = \"white\"),axis.line = element_line(colour = \"black\"))+\n",
    "labs(x=expression(bold(\"Diagnosed\")),y=expression(bold(\"Percentage\")),title=expression(bold('Neurological Disease')))"
   ]
  },
  {
   "cell_type": "code",
   "execution_count": 438,
   "metadata": {},
   "outputs": [],
   "source": [
    "#h1 <- factor(dfh$h1, levels=c(\"No\",\"Yes\"))\n",
    "df2 <- data.frame(Diagnosed=rep(c(\"COVID\", \"Non-COVID\"), each=1),\n",
    "                Moral=rep(c(\"\")),\n",
    "                Percentage=c(3.48,3.73))\n",
    "q16<-ggplot(data=df2, aes(x=Diagnosed, y=Percentage, fill=Diagnosed)) +\n",
    "  ggtitle('')+\n",
    "  geom_bar(stat=\"identity\", width=0.8,position=position_dodge(width=0.8))+\n",
    "  scale_fill_manual(values=c(\"maroon\",\"lightsalmon\"))+\n",
    "  theme(plot.title = element_text(hjust = 0.5,vjust=0.5,size=5),text = element_text(size=6),\n",
    "        axis.text.x = element_text(angle=0, hjust=0.5,vjust=0.5,colour = \"grey20\",size=5),\n",
    "        axis.text.y = element_text(angle=0, hjust=0.5,vjust=0.5,colour = \"grey20\",size=5),\n",
    "        legend.position=\"none\",\n",
    "       panel.background = element_rect(fill = \"white\",\n",
    "                                colour = \"white\",\n",
    "                                size = 0.5, linetype = \"solid\"),\n",
    "  panel.grid.major = element_line(size = 0.5, linetype = 'solid',\n",
    "                                colour = \"white\"), \n",
    "  panel.grid.minor = element_line(size = 0.25, linetype = 'solid',\n",
    "                                colour = \"white\"),axis.line = element_line(colour = \"black\"))+\n",
    "labs(x=expression(bold(\"Diagnosed\")),y=expression(bold(\"Percentage\")),title=expression(bold('Diarrhea')))"
   ]
  },
  {
   "cell_type": "code",
   "execution_count": 314,
   "metadata": {},
   "outputs": [],
   "source": [
    "df2 <- data.frame(Diagnosed=rep(c(\"COVID\", \"Non-COVID\"), each=13),\n",
    "                Moral=rep(c(\"Male\", \"Non-Smoker\", \"Smoker\\n(Past)\",\"Smoker\\n(Current)\",\"Smoker\\n(Not Mentioned)\",\"In-Contact\\n(None)\",\"In-Contact\\n(<5)\",\"In-Contact\\n(5-10)\",\"In-Contact\\n(11-20)\",\"In-Contact\\n(21-50)\",\"In-Contact\\n(>50)\",\"Symptomatic\",\"Co-morbid\"),2),\n",
    "                Pp1ercentage=c(64.35,78.27,5.22,12.17,4.35,6.09,13.04,22.61,25.22,19.13,13.91,88.7,60.87,70.89,83.58,4.48,8.21,3.73,10.45,26.12,29.85,14.18,12.18,8.95,61.19,33.58))\n",
    "#head(df2)\n",
    "df2$Moral<-factor(df2$Moral, levels = unique(df2$Moral))\n",
    "p1<-ggplot(data=df2, aes(x=Moral, y=Percentage, fill=Diagnosed)) +xlab(\"Gemeric Features\") + ylab(\"Percentage\")+\n",
    "  ggtitle('')+\n",
    "  geom_bar(stat=\"identity\", width=0.8,position=position_dodge(width=0.8))+\n",
    "  scale_fill_manual(values=c(\"maroon\",\"lightsalmon\"))+\n",
    "  theme(plot.title = element_text(hjust = 0.5),text = element_text(size=6),\n",
    "        axis.text.x = element_text(angle=0, hjust=0.5,vjust=0.5,colour = \"grey20\",size=4),\n",
    "        axis.text.y = element_text(angle=0, hjust=0.5,vjust=0.5,colour = \"grey20\",size=4),\n",
    "        legend.position=\"none\",\n",
    "       panel.background = element_rect(fill = \"white\",\n",
    "                                colour = \"white\",\n",
    "                                size = 0.5, linetype = \"solid\"),\n",
    "  panel.grid.major = element_line(size = 0.5, linetype = 'solid',\n",
    "                                colour = \"white\"), \n",
    "  panel.grid.minor = element_line(size = 0.25, linetype = 'solid',\n",
    "                                colour = \"white\"),axis.line = element_line(colour = \"black\"))"
   ]
  },
  {
   "cell_type": "code",
   "execution_count": 292,
   "metadata": {},
   "outputs": [],
   "source": [
    "h2 <- factor(dfh$h2, levels=c(\"No\",\"Yes\"))\n",
    "p2<-ggplot(data = dfh,aes(x = h2, y=Diagnosed, fill=h2))+\n",
    "\n",
    "  theme(plot.title = element_text(hjust = 0.5),text = element_text(size=6),\n",
    "        axis.text.x = element_text(angle=0, hjust=0.5,vjust=0.5),legend.position=\"none\",#,colour = \"grey40\",size=4),\n",
    "       panel.background = element_rect(fill = \"white\",\n",
    "                                colour = \"white\",\n",
    "                                size = 0.5, linetype = \"solid\"),\n",
    "  panel.grid.major = element_line(size = 0.5, linetype = 'solid',\n",
    "                                colour = \"white\"), \n",
    "  panel.grid.minor = element_line(size = 0.25, linetype = 'solid',\n",
    "                                colour = \"white\"),axis.line = element_line(colour = \"black\"))+\n",
    "labs(x=expression(bold(\"Diagnosed\")),y=expression(bold('Smell\\nDisorder')))"
   ]
  },
  {
   "cell_type": "code",
   "execution_count": 293,
   "metadata": {},
   "outputs": [],
   "source": [
    "h3 <- factor(dfh$h3, levels=c(\"No\",\"Yes\"))\n",
    "p3<-ggplot(data = dfh,aes(x = h3, y=Diagnosed, fill=h3))+\n",
    "\n",
    "  theme(plot.title = element_text(hjust = 0.5),text = element_text(size=6),\n",
    "        axis.text.x = element_text(angle=0, hjust=0.5,vjust=0.5),legend.position=\"none\",#,colour = \"grey40\",size=4),\n",
    "       panel.background = element_rect(fill = \"white\",\n",
    "                                colour = \"white\",\n",
    "                                size = 0.5, linetype = \"solid\"),\n",
    "  panel.grid.major = element_line(size = 0.5, linetype = 'solid',\n",
    "                                colour = \"white\"), \n",
    "  panel.grid.minor = element_line(size = 0.25, linetype = 'solid',\n",
    "                                colour = \"white\"),axis.line = element_line(colour = \"black\"))+\n",
    "labs(x=expression(bold(\"Diagnosed\")),y=expression(bold('Taste\\nDisorder')))"
   ]
  },
  {
   "cell_type": "code",
   "execution_count": 295,
   "metadata": {},
   "outputs": [],
   "source": [
    "h4 <- factor(dfh$h4, levels=c(\"No\",\"Yes\"))\n",
    "p4<-ggplot(data = dfh,aes(x = h4, y=Diagnosed, fill=h4))+\n",
    "\n",
    "  theme(plot.title = element_text(hjust = 0.5),text = element_text(size=6),\n",
    "        axis.text.x = element_text(angle=0, hjust=0.5,vjust=0.5),legend.position=\"none\",#,colour = \"grey40\",size=4),\n",
    "       panel.background = element_rect(fill = \"white\",\n",
    "                                colour = \"white\",\n",
    "                                size = 0.5, linetype = \"solid\"),\n",
    "  panel.grid.major = element_line(size = 0.5, linetype = 'solid',\n",
    "                                colour = \"white\"), \n",
    "  panel.grid.minor = element_line(size = 0.25, linetype = 'solid',\n",
    "                                colour = \"white\"),axis.line = element_line(colour = \"black\"))+\n",
    "labs(x=expression(bold(\"Diagnosed\")),y=expression(bold('No Comorbity')))"
   ]
  },
  {
   "cell_type": "code",
   "execution_count": 296,
   "metadata": {},
   "outputs": [],
   "source": [
    "h5 <- factor(dfh$h5, levels=c(\"No\",\"Yes\"))\n",
    "p5<-ggplot(data = dfh,aes(x = h5, y=Diagnosed, fill=h5))+\n",
    "\n",
    "  theme(plot.title = element_text(hjust = 0.5),text = element_text(size=6),\n",
    "        axis.text.x = element_text(angle=0, hjust=0.5,vjust=0.5),legend.position=\"none\",#,colour = \"grey40\",size=4),\n",
    "       panel.background = element_rect(fill = \"white\",\n",
    "                                colour = \"white\",\n",
    "                                size = 0.5, linetype = \"solid\"),\n",
    "  panel.grid.major = element_line(size = 0.5, linetype = 'solid',\n",
    "                                colour = \"white\"), \n",
    "  panel.grid.minor = element_line(size = 0.25, linetype = 'solid',\n",
    "                                colour = \"white\"),axis.line = element_line(colour = \"black\"))+\n",
    "labs(x=expression(bold(\"Diagnosed\")),y=expression(bold('Diabetes')))"
   ]
  },
  {
   "cell_type": "code",
   "execution_count": 297,
   "metadata": {},
   "outputs": [],
   "source": [
    "h6 <- factor(dfh$h6, levels=c(\"No\",\"Yes\"))\n",
    "p6<-ggplot(data = dfh,aes(x = h6, y=Diagnosed, fill=h6))+\n",
    "\n",
    "  theme(plot.title = element_text(hjust = 0.5),text = element_text(size=6),\n",
    "        axis.text.x = element_text(angle=0, hjust=0.5,vjust=0.5),legend.position=\"none\",#,colour = \"grey40\",size=4),\n",
    "       panel.background = element_rect(fill = \"white\",\n",
    "                                colour = \"white\",\n",
    "                                size = 0.5, linetype = \"solid\"),\n",
    "  panel.grid.major = element_line(size = 0.5, linetype = 'solid',\n",
    "                                colour = \"white\"), \n",
    "  panel.grid.minor = element_line(size = 0.25, linetype = 'solid',\n",
    "                                colour = \"white\"),axis.line = element_line(colour = \"black\"))+\n",
    "labs(x=expression(bold(\"Diagnosed\")),y=expression(bold('Obesity')))"
   ]
  },
  {
   "cell_type": "code",
   "execution_count": 298,
   "metadata": {},
   "outputs": [
    {
     "data": {
      "text/html": [
       "<style>\n",
       ".list-inline {list-style: none; margin:0; padding: 0}\n",
       ".list-inline>li {display: inline-block}\n",
       ".list-inline>li:not(:last-child)::after {content: \"\\00b7\"; padding: 0 .5ex}\n",
       "</style>\n",
       "<ol class=list-inline><li>'Seasonal\\nAllergies'</li><li>'Smell\\nDisorder'</li><li>'Taste\\nDisorder'</li><li>'No Comorbity'</li><li>'Diabetes'</li><li>'Obesity'</li><li>'Chronic\\nSinus\\nProblems'</li><li>'Other'</li><li>'High\\nBP'</li><li>'Head\\nTrauma'</li><li>'Dry\\nMouth'</li><li>'Heart\\nDisease'</li><li>'Lung\\nDisease'</li><li>'Neurological\\nDisease'</li></ol>\n"
      ],
      "text/latex": [
       "\\begin{enumerate*}\n",
       "\\item 'Seasonal\\textbackslash{}nAllergies'\n",
       "\\item 'Smell\\textbackslash{}nDisorder'\n",
       "\\item 'Taste\\textbackslash{}nDisorder'\n",
       "\\item 'No Comorbity'\n",
       "\\item 'Diabetes'\n",
       "\\item 'Obesity'\n",
       "\\item 'Chronic\\textbackslash{}nSinus\\textbackslash{}nProblems'\n",
       "\\item 'Other'\n",
       "\\item 'High\\textbackslash{}nBP'\n",
       "\\item 'Head\\textbackslash{}nTrauma'\n",
       "\\item 'Dry\\textbackslash{}nMouth'\n",
       "\\item 'Heart\\textbackslash{}nDisease'\n",
       "\\item 'Lung\\textbackslash{}nDisease'\n",
       "\\item 'Neurological\\textbackslash{}nDisease'\n",
       "\\end{enumerate*}\n"
      ],
      "text/markdown": [
       "1. 'Seasonal\\nAllergies'\n",
       "2. 'Smell\\nDisorder'\n",
       "3. 'Taste\\nDisorder'\n",
       "4. 'No Comorbity'\n",
       "5. 'Diabetes'\n",
       "6. 'Obesity'\n",
       "7. 'Chronic\\nSinus\\nProblems'\n",
       "8. 'Other'\n",
       "9. 'High\\nBP'\n",
       "10. 'Head\\nTrauma'\n",
       "11. 'Dry\\nMouth'\n",
       "12. 'Heart\\nDisease'\n",
       "13. 'Lung\\nDisease'\n",
       "14. 'Neurological\\nDisease'\n",
       "\n",
       "\n"
      ],
      "text/plain": [
       " [1] \"Seasonal\\nAllergies\"      \"Smell\\nDisorder\"         \n",
       " [3] \"Taste\\nDisorder\"          \"No Comorbity\"            \n",
       " [5] \"Diabetes\"                 \"Obesity\"                 \n",
       " [7] \"Chronic\\nSinus\\nProblems\" \"Other\"                   \n",
       " [9] \"High\\nBP\"                 \"Head\\nTrauma\"            \n",
       "[11] \"Dry\\nMouth\"               \"Heart\\nDisease\"          \n",
       "[13] \"Lung\\nDisease\"            \"Neurological\\nDisease\"   "
      ]
     },
     "metadata": {},
     "output_type": "display_data"
    }
   ],
   "source": [
    "h"
   ]
  },
  {
   "cell_type": "code",
   "execution_count": 299,
   "metadata": {},
   "outputs": [],
   "source": [
    "h7 <- factor(dfh$h7, levels=c(\"No\",\"Yes\"))\n",
    "p7<-ggplot(data = dfh,aes(x = h7, y=Diagnosed, fill=h7))+\n",
    "\n",
    "  theme(plot.title = element_text(hjust = 0.5),text = element_text(size=6),\n",
    "        axis.text.x = element_text(angle=0, hjust=0.5,vjust=0.5),legend.position=\"none\",#,colour = \"grey40\",size=4),\n",
    "       panel.background = element_rect(fill = \"white\",\n",
    "                                colour = \"white\",\n",
    "                                size = 0.5, linetype = \"solid\"),\n",
    "  panel.grid.major = element_line(size = 0.5, linetype = 'solid',\n",
    "                                colour = \"white\"), \n",
    "  panel.grid.minor = element_line(size = 0.25, linetype = 'solid',\n",
    "                                colour = \"white\"),axis.line = element_line(colour = \"black\"))+\n",
    "labs(x=expression(bold(\"Diagnosed\")),y=expression(bold('Chronic\\nSinus\\nProblems')))"
   ]
  },
  {
   "cell_type": "code",
   "execution_count": 300,
   "metadata": {},
   "outputs": [],
   "source": [
    "h8 <- factor(dfh$h8, levels=c(\"No\",\"Yes\"))\n",
    "p8<-ggplot(data = dfh,aes(x = h8, y=Diagnosed, fill=h8))+\n",
    "\n",
    "  theme(plot.title = element_text(hjust = 0.5),text = element_text(size=6),\n",
    "        axis.text.x = element_text(angle=0, hjust=0.5,vjust=0.5),legend.position=\"none\",#,colour = \"grey40\",size=4),\n",
    "       panel.background = element_rect(fill = \"white\",\n",
    "                                colour = \"white\",\n",
    "                                size = 0.5, linetype = \"solid\"),\n",
    "  panel.grid.major = element_line(size = 0.5, linetype = 'solid',\n",
    "                                colour = \"white\"), \n",
    "  panel.grid.minor = element_line(size = 0.25, linetype = 'solid',\n",
    "                                colour = \"white\"),axis.line = element_line(colour = \"black\"))+\n",
    "labs(x=expression(bold(\"Diagnosed\")),y=expression(bold('Other')))"
   ]
  },
  {
   "cell_type": "code",
   "execution_count": 301,
   "metadata": {},
   "outputs": [],
   "source": [
    "h9 <- factor(dfh$h9, levels=c(\"No\",\"Yes\"))\n",
    "p9<-ggplot(data = dfh,aes(x = h9, y=Diagnosed, fill=h9))+\n",
    "\n",
    "  theme(plot.title = element_text(hjust = 0.5),text = element_text(size=6),\n",
    "        axis.text.x = element_text(angle=0, hjust=0.5,vjust=0.5),legend.position=\"none\",#,colour = \"grey40\",size=4),\n",
    "       panel.background = element_rect(fill = \"white\",\n",
    "                                colour = \"white\",\n",
    "                                size = 0.5, linetype = \"solid\"),\n",
    "  panel.grid.major = element_line(size = 0.5, linetype = 'solid',\n",
    "                                colour = \"white\"), \n",
    "  panel.grid.minor = element_line(size = 0.25, linetype = 'solid',\n",
    "                                colour = \"white\"),axis.line = element_line(colour = \"black\"))+\n",
    "labs(x=expression(bold(\"Diagnosed\")),y=expression(bold('High\\nBP')))"
   ]
  },
  {
   "cell_type": "code",
   "execution_count": 303,
   "metadata": {},
   "outputs": [],
   "source": [
    "h10 <- factor(dfh$h10, levels=c(\"No\",\"Yes\"))\n",
    "p10<-ggplot(data = dfh,aes(x = h10, y=Diagnosed, fill=h10))+\n",
    "\n",
    "  theme(plot.title = element_text(hjust = 0.5),text = element_text(size=6),\n",
    "        axis.text.x = element_text(angle=0, hjust=0.5,vjust=0.5),legend.position=\"none\",#,colour = \"grey40\",size=4),\n",
    "       panel.background = element_rect(fill = \"white\",\n",
    "                                colour = \"white\",\n",
    "                                size = 0.5, linetype = \"solid\"),\n",
    "  panel.grid.major = element_line(size = 0.5, linetype = 'solid',\n",
    "                                colour = \"white\"), \n",
    "  panel.grid.minor = element_line(size = 0.25, linetype = 'solid',\n",
    "                                colour = \"white\"),axis.line = element_line(colour = \"black\"))+\n",
    "labs(x=expression(bold(\"Diagnosed\")),y=expression(bold('Head\\nTrauma')))"
   ]
  },
  {
   "cell_type": "code",
   "execution_count": 304,
   "metadata": {},
   "outputs": [],
   "source": [
    "h11 <- factor(dfh$h11, levels=c(\"No\",\"Yes\"))\n",
    "p11<-ggplot(data = dfh,aes(x = h11, y=Diagnosed, fill=h11))+\n",
    "\n",
    "  theme(plot.title = element_text(hjust = 0.5),text = element_text(size=6),\n",
    "        axis.text.x = element_text(angle=0, hjust=0.5,vjust=0.5),legend.position=\"none\",#,colour = \"grey40\",size=4),\n",
    "       panel.background = element_rect(fill = \"white\",\n",
    "                                colour = \"white\",\n",
    "                                size = 0.5, linetype = \"solid\"),\n",
    "  panel.grid.major = element_line(size = 0.5, linetype = 'solid',\n",
    "                                colour = \"white\"), \n",
    "  panel.grid.minor = element_line(size = 0.25, linetype = 'solid',\n",
    "                                colour = \"white\"),axis.line = element_line(colour = \"black\"))+\n",
    "labs(x=expression(bold(\"Diagnosed\")),y=expression(bold('Dry\\nMouth')))"
   ]
  },
  {
   "cell_type": "code",
   "execution_count": 305,
   "metadata": {},
   "outputs": [],
   "source": [
    "h12 <- factor(dfh$h12, levels=c(\"No\",\"Yes\"))\n",
    "p12<-ggplot(data = dfh,aes(x = h12, y=Diagnosed, fill=h12))+\n",
    "\n",
    "  theme(plot.title = element_text(hjust = 0.5),text = element_text(size=6),\n",
    "        axis.text.x = element_text(angle=0, hjust=0.5,vjust=0.5),legend.position=\"none\",#,colour = \"grey40\",size=4),\n",
    "       panel.background = element_rect(fill = \"white\",\n",
    "                                colour = \"white\",\n",
    "                                size = 0.5, linetype = \"solid\"),\n",
    "  panel.grid.major = element_line(size = 0.5, linetype = 'solid',\n",
    "                                colour = \"white\"), \n",
    "  panel.grid.minor = element_line(size = 0.25, linetype = 'solid',\n",
    "                                colour = \"white\"),axis.line = element_line(colour = \"black\"))+\n",
    "labs(x=expression(bold(\"Diagnosed\")),y=expression(bold('Heart\\nDisease')))"
   ]
  },
  {
   "cell_type": "code",
   "execution_count": 306,
   "metadata": {},
   "outputs": [],
   "source": [
    "h13 <- factor(dfh$h13, levels=c(\"No\",\"Yes\"))\n",
    "p13<-ggplot(data = dfh,aes(x = h13, y=Diagnosed, fill=h13))+\n",
    "\n",
    "  theme(plot.title = element_text(hjust = 0.5),text = element_text(size=6),\n",
    "        axis.text.x = element_text(angle=0, hjust=0.5,vjust=0.5),legend.position=\"none\",#,colour = \"grey40\",size=4),\n",
    "       panel.background = element_rect(fill = \"white\",\n",
    "                                colour = \"white\",\n",
    "                                size = 0.5, linetype = \"solid\"),\n",
    "  panel.grid.major = element_line(size = 0.5, linetype = 'solid',\n",
    "                                colour = \"white\"), \n",
    "  panel.grid.minor = element_line(size = 0.25, linetype = 'solid',\n",
    "                                colour = \"white\"),axis.line = element_line(colour = \"black\"))+\n",
    "labs(x=expression(bold(\"Diagnosed\")),y=expression(bold('Lung\\nDisease')))"
   ]
  },
  {
   "cell_type": "code",
   "execution_count": 307,
   "metadata": {},
   "outputs": [],
   "source": [
    "h14 <- factor(dfh$h14, levels=c(\"No\",\"Yes\"))\n",
    "p14<-ggplot(data = dfh,aes(x = h14, y=Diagnosed, fill=h14))+\n",
    "\n",
    "  theme(plot.title = element_text(hjust = 0.5),text = element_text(size=6),\n",
    "        axis.text.x = element_text(angle=0, hjust=0.5,vjust=0.5),legend.position=\"none\",#,colour = \"grey40\",size=4),\n",
    "       panel.background = element_rect(fill = \"white\",\n",
    "                                colour = \"white\",\n",
    "                                size = 0.5, linetype = \"solid\"),\n",
    "  panel.grid.major = element_line(size = 0.5, linetype = 'solid',\n",
    "                                colour = \"white\"), \n",
    "  panel.grid.minor = element_line(size = 0.25, linetype = 'solid',\n",
    "                                colour = \"white\"),axis.line = element_line(colour = \"black\"))+\n",
    "labs(x=expression(bold(\"Diagnosed\")),y=expression(bold('Neurological\\nDisease')))"
   ]
  },
  {
   "cell_type": "code",
   "execution_count": null,
   "metadata": {},
   "outputs": [],
   "source": [
    "options(repr.plot.width = 20, repr.plot.height = 10)\n",
    "ggsave(\"../figures/mosaic_gender_contacts__smoker_pstd.png\", p|q|r, width = 5, height = 2.1)"
   ]
  },
  {
   "cell_type": "code",
   "execution_count": 605,
   "metadata": {},
   "outputs": [],
   "source": [
    "pe <- ggplot() + theme_void()\n",
    "comb1<-plot_grid(p1,p2,p3,p5, labels = c('A', 'B','C','D'), label_size = 6, nrow = 1)\n",
    "comb2<-plot_grid(p6,p7,p9,p10, labels = c('E','F','G','H'), label_size = 6, nrow = 1)\n",
    "comb3<-plot_grid(p11,p12,p13,p14, labels = c('I','J','K','L'), label_size = 6, nrow = 1)\n",
    "comb4<-plot_grid(p8,p4,pe,pe,labels = c('M', 'N','',''), label_size = 6, nrow = 1)\n",
    "comb<-plot_grid(comb1,comb2,comb3,comb4,nrow = 4)\n",
    "\n",
    "options(repr.plot.width = 20, repr.plot.height = 10)\n",
    "#both_plt <- pos_plt|neg_plt\n",
    "#pos_plt\n",
    "ggsave(\"../figures/health_features_all_bar1.png\", comb, width = 6, height = 8.4)"
   ]
  },
  {
   "cell_type": "code",
   "execution_count": 606,
   "metadata": {},
   "outputs": [],
   "source": [
    "pe <- ggplot() + theme_void()\n",
    "comb1<-plot_grid(q1,q2,q3,q4, labels = c('A', 'B','C','D'), label_size = 6, nrow = 1)\n",
    "comb2<-plot_grid(q5,q6,q7,q8, labels = c('E','F','G','H'), label_size = 6, nrow = 1)\n",
    "comb3<-plot_grid(q9,q10,q11,q12, labels = c('I','J','K','L'), label_size = 6, nrow = 1)\n",
    "comb4<-plot_grid(q13,q14,q15,q16, labels = c('M', 'N','O','P'), label_size = 6, nrow = 1)\n",
    "comb5<-plot_grid(q17,q18,q19,q20, labels = c('Q', 'R','S','T'), label_size = 6, nrow = 1)\n",
    "comb<-plot_grid(comb1,comb2,comb3,comb4,comb5,nrow = 5)\n",
    "\n",
    "options(repr.plot.width = 20, repr.plot.height = 10)\n",
    "#both_plt <- pos_plt|neg_plt\n",
    "#pos_plt\n",
    "ggsave(\"../figures/symptoms_features_all_bar1.png\", comb, width = 7, height = 10.5)"
   ]
  },
  {
   "cell_type": "code",
   "execution_count": 499,
   "metadata": {},
   "outputs": [],
   "source": [
    "pe <- ggplot() + theme_void()\n",
    "comb1<-plot_grid(ql1,ql2,ql3, labels = c('A', 'B','C'), label_size = 6, nrow = 1)\n",
    "comb2<-plot_grid(ql4,ql5,pe, labels = c('D','E'), label_size = 6, nrow = 1)\n",
    "comb<-plot_grid(comb1,comb2,nrow = 2)\n",
    "\n",
    "options(repr.plot.width = 20, repr.plot.height = 10)\n",
    "#both_plt <- pos_plt|neg_plt\n",
    "#pos_plt\n",
    "ggsave(\"../figures/test_density_multi.png\", comb, width = 5, height = 4.2)"
   ]
  },
  {
   "cell_type": "code",
   "execution_count": 565,
   "metadata": {},
   "outputs": [
    {
     "data": {
      "text/html": [
       "<strong>png:</strong> 2"
      ],
      "text/latex": [
       "\\textbf{png:} 2"
      ],
      "text/markdown": [
       "**png:** 2"
      ],
      "text/plain": [
       "png \n",
       "  2 "
      ]
     },
     "metadata": {},
     "output_type": "display_data"
    }
   ],
   "source": [
    "dft2.pca <- PCA(dft2[-1][-35], graph = FALSE,ncp=34)\n",
    "bp1<-as.ggplot(fviz_pca_biplot(dft2.pca,axes = c(1, 2),\n",
    "                col.ind = dft2$Diagnosed, \n",
    "                #palette=wes_palette(n=5, name=\"Darjeeling1\"),\n",
    "                palette = c(\"maroon\", \"lightsalmon\"), \n",
    "                addEllipses = FALSE, label = \"var\",\n",
    "                col.var = \"black\", repel = TRUE,\n",
    "                legend.title='Diagnosed',title='',legend.size=25)+labs(x=expression(bold('DIM-1')),y=expression(bold('DIM-2')))+#theme_minimal()\n",
    "theme(legend.text=element_text(size=18),text = element_text(size = 28),axis.title = element_text(size = 20),axis.text = element_text(size = 22))+ guides(shape = guide_legend(override.aes = list(size = 5)))\n",
    ")\n",
    "png(\"../figures/biplot_d12.png\",width = 600, height = 600)\n",
    "options(repr.plot.width = 20, repr.plot.height = 10)\n",
    "bp1\n",
    "dev.off()"
   ]
  },
  {
   "cell_type": "code",
   "execution_count": 706,
   "metadata": {},
   "outputs": [
    {
     "data": {
      "image/png": "[encoded data removed]",
      "text/plain": [
       "plot without title"
      ]
     },
     "metadata": {
      "image/png": {
       "height": 600,
       "width": 1200
      }
     },
     "output_type": "display_data"
    }
   ],
   "source": [
    "dft2.pca=prcomp(dft2[-1][-35])\n",
    "prpca<-fviz_eig(dft2.pca,ncp=34,\n",
    "  barfill = \"lightsalmon\",\n",
    "  barcolor = \"lightsalmon\",\n",
    "  linecolor = \"maroon\")+\n",
    "  theme(plot.title = element_text(hjust = 0.5),text = element_text(size=8),\n",
    "        axis.text.x = element_text(angle=0, hjust=0.5,vjust=0.5,colour = \"grey20\",size=4),\n",
    "        axis.text.y = element_text(angle=0, hjust=0.5,vjust=0.5,colour = \"grey20\",size=4),\n",
    "        legend.position=\"none\",#legend.key.size = unit(0.4,\"line\"),\n",
    "       panel.background = element_rect(fill = \"white\",\n",
    "                                colour = \"white\",\n",
    "                                size = 0.5, linetype = \"solid\"),\n",
    "  panel.grid.major = element_line(size = 0.5, linetype = 'solid',\n",
    "                                colour = \"white\"), \n",
    "  panel.grid.minor = element_line(size = 0.25, linetype = 'solid',\n",
    "                                colour = \"white\"),axis.line = element_line(colour = \"black\"))+labs(x=expression(bold('Principal Components')),y=expression(bold('Explained Variance (%)')), title='')\n",
    "dft21.pca <- dft2.pca$sdev^2 \n",
    "dft211.pca <- dft21.pca/sum(dft21.pca)\n",
    "\n",
    "df <- data.frame(x=1:length(dft211.pca),\n",
    "                 y=cumsum(dft211.pca)*100/4)\n",
    "prpca <- prpca + \n",
    "     geom_point(data=df, aes(x, y), size=1.5, color=\"red\",shape=17) +\n",
    "     geom_line(data=df, aes(x, y), color=\"red\") +\n",
    "     scale_y_continuous(sec.axis = sec_axis(~ . * 4, \n",
    "                                   name = expression(bold(\"Cumulative Variance (%)\") )))\n",
    "#print(p)\n",
    "options(repr.plot.width = 20, repr.plot.height = 10)\n",
    "#both_plt <- pos_plt|neg_plt\n",
    "prpca\n",
    "ggsave(\"../figures/scree_plot_prcomp3.png\", prpca, width =8, height = 5)\n",
    "#dev.off()"
   ]
  },
  {
   "cell_type": "code",
   "execution_count": null,
   "metadata": {},
   "outputs": [],
   "source": [
    "df <- data.frame(x=1:length(dft211.pca),\n",
    "                 y=cumsum(dft211.pca)*100/4)"
   ]
  },
  {
   "cell_type": "code",
   "execution_count": 705,
   "metadata": {},
   "outputs": [
    {
     "data": {
      "text/html": [
       "<strong>png:</strong> 2"
      ],
      "text/latex": [
       "\\textbf{png:} 2"
      ],
      "text/markdown": [
       "**png:** 2"
      ],
      "text/plain": [
       "png \n",
       "  2 "
      ]
     },
     "metadata": {},
     "output_type": "display_data"
    }
   ],
   "source": [
    "bp1<-as.ggplot(fviz_pca_biplot(dft2.pca,axes = c(1, 2),\n",
    "                col.ind = dft2$Diagnosed, \n",
    "                #palette=wes_palette(n=5, name=\"Darjeeling1\"),\n",
    "                palette = c(\"maroon\", \"lightsalmon\"), \n",
    "                addEllipses = FALSE, label = \"var\",\n",
    "                col.var = \"black\", repel = TRUE,\n",
    "                legend.title='Diagnosed',title='',legend.size=25)+labs(x=expression(bold('DIM-1')),y=expression(bold('DIM-2')))+#theme_minimal()\n",
    "theme(legend.text=element_text(size=18),text = element_text(size = 28),axis.title = element_text(size = 20),axis.text = element_text(size = 22))+ guides(shape = guide_legend(override.aes = list(size = 5)))\n",
    ")\n",
    "png(\"../figures/biplot_promp_d12.png\",width = 1200, height = 1200)\n",
    "options(repr.plot.width = 20, repr.plot.height = 10)\n",
    "bp1\n",
    "dev.off()"
   ]
  },
  {
   "cell_type": "code",
   "execution_count": null,
   "metadata": {},
   "outputs": [],
   "source": [
    "df <- data.frame(id=c('GEN\\n(B+HI+GS)','GEN\\n(B+HI+GS+TSS)','SM','TA','SM+TA','SM+TA+GEN\\n(B+HI+GS+TSS)'), min=c(63.2,63.64,68.75,56.92,67.38,68.0), max=c(76.16,76.92,83.72,71.43,80.15,80.0))\n",
    "df$id<-factor(df$id, levels = unique(df$id))\n",
    "library(ggplot2)\n",
    "p<-ggplot(df, aes(x=id))+\n",
    "geom_linerange(aes(ymin=min,ymax=max),linetype=2,color=\"blue\")+\n",
    "geom_point(aes(y=min),size=1,color=\"red\")+\n",
    "geom_point(aes(y=max),size=1,color=\"red\")+\n",
    "#theme_bw()\n",
    "theme(plot.title = element_text(hjust = 0.5),text = element_text(size=6),\n",
    "        axis.text.x = element_text(angle=0, hjust=0.5,vjust=0.5),legend.position=\"none\",#,colour = \"grey40\",size=4),\n",
    "       panel.background = element_rect(fill = \"white\",\n",
    "                                colour = \"white\",\n",
    "                                size = 0.5, linetype = \"solid\"),\n",
    "  panel.grid.major = element_line(size = 0.5, linetype = 'solid',\n",
    "                                colour = \"white\"), \n",
    "  panel.grid.minor = element_line(size = 0.25, linetype = 'solid',\n",
    "                                colour = \"white\"),axis.line = element_line(colour = \"black\"))+\n",
    "labs(x=expression(bold(\"Feature Set\")),y=expression(bold(\"Evaluation Metric\\nScore(LB to UB)\")),title=expression(bold(\"Accuracy\")))\n",
    "\n",
    "\n",
    "options(repr.plot.width = 20, repr.plot.height = 20)\n",
    "ggsave(\"../figures/acc.png\", p, width = 5, height = 5)"
   ]
  },
  {
   "cell_type": "code",
   "execution_count": null,
   "metadata": {},
   "outputs": [],
   "source": [
    "df <- data.frame(id=c('GEN\\n(B+HI+GS)','GEN\\n(B+HI+GS+TSS)','SM','TA','SM+TA','SM+TA+GEN\\n(B+HI+GS+TSS)'), min=c(63.43,64.17,69.49,57.21,67.76,68.68), max=c(76.24,76.93,84.48,71.82,80.83,80.97))\n",
    "df$id<-factor(df$id, levels = unique(df$id))\n",
    "library(ggplot2)\n",
    "p<-ggplot(df, aes(x=id))+\n",
    "geom_linerange(aes(ymin=min,ymax=max),linetype=2,color=\"blue\")+\n",
    "geom_point(aes(y=min),size=1,color=\"red\")+\n",
    "geom_point(aes(y=max),size=1,color=\"red\")+\n",
    "#theme_bw()\n",
    "theme(plot.title = element_text(hjust = 0.5),text = element_text(size=6),\n",
    "        axis.text.x = element_text(angle=0, hjust=0.5,vjust=0.5),legend.position=\"none\",#,colour = \"grey40\",size=4),\n",
    "       panel.background = element_rect(fill = \"white\",\n",
    "                                colour = \"white\",\n",
    "                                size = 0.5, linetype = \"solid\"),\n",
    "  panel.grid.major = element_line(size = 0.5, linetype = 'solid',\n",
    "                                colour = \"white\"), \n",
    "  panel.grid.minor = element_line(size = 0.25, linetype = 'solid',\n",
    "                                colour = \"white\"),axis.line = element_line(colour = \"black\"))+\n",
    "labs(x=expression(bold(\"Feature Set\")),y=expression(bold(\"Evaluation Metric\\nScore(LB to UB)\")),title=expression(bold(\"Precision\")))\n",
    "\n",
    "\n",
    "options(repr.plot.width = 20, repr.plot.height = 20)\n",
    "ggsave(\"../figures/pc.png\", p, width = 5, height = 5)"
   ]
  },
  {
   "cell_type": "code",
   "execution_count": null,
   "metadata": {},
   "outputs": [],
   "source": [
    "df <- data.frame(id=c('GEN\\n(B+HI+GS)','GEN\\n(B+HI+GS+TSS)','SM','TA','SM+TA','SM+TA+GEN\\n(B+HI+GS+TSS)'), min=c(63.2,63.64,68.75,56.92,67.38,68.0), max=c(76.16,76.92,83.72,71.43,80.15,80.0))\n",
    "df$id<-factor(df$id, levels = unique(df$id))\n",
    "library(ggplot2)\n",
    "p<-ggplot(df, aes(x=id))+\n",
    "geom_linerange(aes(ymin=min,ymax=max),linetype=2,color=\"blue\")+\n",
    "geom_point(aes(y=min),size=1,color=\"red\")+\n",
    "geom_point(aes(y=max),size=1,color=\"red\")+\n",
    "#theme_bw()\n",
    "theme(plot.title = element_text(hjust = 0.5),text = element_text(size=6),\n",
    "        axis.text.x = element_text(angle=0, hjust=0.5,vjust=0.5),legend.position=\"none\",#,colour = \"grey40\",size=4),\n",
    "       panel.background = element_rect(fill = \"white\",\n",
    "                                colour = \"white\",\n",
    "                                size = 0.5, linetype = \"solid\"),\n",
    "  panel.grid.major = element_line(size = 0.5, linetype = 'solid',\n",
    "                                colour = \"white\"), \n",
    "  panel.grid.minor = element_line(size = 0.25, linetype = 'solid',\n",
    "                                colour = \"white\"),axis.line = element_line(colour = \"black\"))+\n",
    "labs(x=expression(bold(\"Feature Set\")),y=expression(bold(\"Evaluation Metric\\nScore(LB to UB)\")),title=expression(bold(\"Recall\")))\n",
    "\n",
    "\n",
    "options(repr.plot.width = 20, repr.plot.height = 20)\n",
    "ggsave(\"../figures/re.png\", p, width = 5, height = 5)"
   ]
  },
  {
   "cell_type": "code",
   "execution_count": null,
   "metadata": {},
   "outputs": [],
   "source": [
    "df <- data.frame(id=c('GEN\\n(B+HI+GS)','GEN\\n(B+HI+GS+TSS)','SM','TA','SM+TA','SM+TA+GEN\\n(B+HI+GS+TSS)'), min=c(62.85,63.58,67.70,56.22,67.25,66.95), max=c(76.15,76.9,83.41,71.3,79.87,79.76))\n",
    "df$id<-factor(df$id, levels = unique(df$id))\n",
    "library(ggplot2)\n",
    "p<-ggplot(df, aes(x=id))+\n",
    "geom_linerange(aes(ymin=min,ymax=max),linetype=2,color=\"blue\")+\n",
    "geom_point(aes(y=min),size=1,color=\"red\")+\n",
    "geom_point(aes(y=max),size=1,color=\"red\")+\n",
    "#theme_bw()\n",
    "theme(plot.title = element_text(hjust = 0.5),text = element_text(size=6),\n",
    "        axis.text.x = element_text(angle=0, hjust=0.5,vjust=0.5),legend.position=\"none\",#,colour = \"grey40\",size=4),\n",
    "       panel.background = element_rect(fill = \"white\",\n",
    "                                colour = \"white\",\n",
    "                                size = 0.5, linetype = \"solid\"),\n",
    "  panel.grid.major = element_line(size = 0.5, linetype = 'solid',\n",
    "                                colour = \"white\"), \n",
    "  panel.grid.minor = element_line(size = 0.25, linetype = 'solid',\n",
    "                                colour = \"white\"),axis.line = element_line(colour = \"black\"))+\n",
    "labs(x=expression(bold(\"Feature Set\")),y=expression(bold(\"Evaluation Metric\\nScore(LB to UB)\")),title=expression(bold(\"F1-Score\")))\n",
    "\n",
    "\n",
    "options(repr.plot.width = 20, repr.plot.height = 20)\n",
    "ggsave(\"../figures/f1.png\", p, width = 5, height = 5)"
   ]
  },
  {
   "cell_type": "code",
   "execution_count": null,
   "metadata": {},
   "outputs": [],
   "source": [
    "df <- data.frame(id=c('GEN\\n(B+HI+GS)','GEN\\n(B+HI+GS+TSS)','SM','TA','SM+TA','SM+TA+GEN\\n(B+HI+GS+TSS)'), min=c(63.26,63.71,66.7,56.97,67.06,66.97), max=c(76.03,76.87,82.48,71.19,79.43,79.38))\n",
    "df$id<-factor(df$id, levels = unique(df$id))\n",
    "library(ggplot2)\n",
    "p<-ggplot(df, aes(x=id))+\n",
    "geom_linerange(aes(ymin=min,ymax=max),linetype=2,color=\"blue\")+\n",
    "geom_point(aes(y=min),size=1,color=\"red\")+\n",
    "geom_point(aes(y=max),size=1,color=\"red\")+\n",
    "#theme_bw()\n",
    "theme(plot.title = element_text(hjust = 0.5),text = element_text(size=6),\n",
    "        axis.text.x = element_text(angle=0, hjust=0.5,vjust=0.5),legend.position=\"none\",#,colour = \"grey40\",size=4),\n",
    "       panel.background = element_rect(fill = \"white\",\n",
    "                                colour = \"white\",\n",
    "                                size = 0.5, linetype = \"solid\"),\n",
    "  panel.grid.major = element_line(size = 0.5, linetype = 'solid',\n",
    "                                colour = \"white\"), \n",
    "  panel.grid.minor = element_line(size = 0.25, linetype = 'solid',\n",
    "                                colour = \"white\"),axis.line = element_line(colour = \"black\"))+\n",
    "labs(x=expression(bold(\"Feature Set\")),y=expression(bold(\"Evaluation Metric\\nScore(LB to UB)\")),title=expression(bold(\"AUC\")))\n",
    "\n",
    "\n",
    "options(repr.plot.width = 20, repr.plot.height = 20)\n",
    "ggsave(\"../figures/auc.png\", p, width = 5, height = 5)"
   ]
  },
  {
   "cell_type": "code",
   "execution_count": null,
   "metadata": {},
   "outputs": [],
   "source": [
    "d=data.frame(x1=x1, x2=x2,y1=c(70.27,72.38,57.58,68.71,71.62,70.41,72.12,57.33,68.33,71.8,69.73,70.49,56.78,66.85,70.11,69.6,70.67,56.2,66.76,70.1), y2=c(80.41,86.32,74.02,82.52,82.69,82.8,86.93,74.66,83.89,83.74,79.76,85.21,72.74,81.56,81.7,79.92,85.56,72.92,81.83,82.16), Features=c('GEN','SM','TA','SM+TA','GEN+SM+TA','GEN','SM','TA','SM+TA','GEN+SM+TA','GEN','SM','TA','SM+TA','GEN+SM+TA','GEN','SM','TA','SM+TA','GEN+SM+TA'))\n",
    "d$Features = factor(d$Features, levels=c('GEN','SM','TA','SM+TA','GEN+SM+TA'))\n",
    "p<-ggplot() + \n",
    "#scale_x_continuous(name=\"x\") + \n",
    "#scale_y_continuous(name=\"y\") +\n",
    "geom_rect(data=d, mapping=aes(xmin=x1, xmax=x2, ymin=y1, ymax=y2, fill=Features), color=\"black\", alpha=0.5) +\n",
    "#geom_text(data=d, aes(x=x1+(x2-x1)/2, label=c(3.5,12,20.5,29)),size=4) +\n",
    "theme(plot.title = element_text(hjust = 0.5),text = element_text(size=12,face='bold'),axis.text.x = element_blank(),axis.ticks.x = element_blank(),axis.text.y=element_text(size=12,face='bold'),legend.text=element_text(size=12,face='bold'),\n",
    "  #axis.ticks = element_blank(),\n",
    "       panel.background = element_rect(fill = \"white\",\n",
    "                                colour = \"white\",\n",
    "                                size = 0.5, linetype = \"solid\"),\n",
    "  panel.grid.major = element_line(size = 0.5, linetype = 'solid',\n",
    "                                colour = \"white\"), \n",
    "  panel.grid.minor = element_line(size = 0.25, linetype = 'solid',\n",
    "                                colour = \"white\"),axis.line = element_line(colour = \"black\"))+\n",
    "#coord_flip(clip = \"off\") +\n",
    "labs(x=expression(bold(\"Feature Set\")),y=expression(bold(\"Evaluation Metric Score (LB to UB)\")),title=expression(bold(\"Accuracy\\t\\t\\t\\t\\tPrecision\\t\\t\\t\\t\\tRecall\\t\\t\\t\\t\\tF1-Score\")))\n",
    "p<-p+ geom_vline(xintercept=8.5,linetype=\"dotted\")\n",
    "p<-p+ geom_vline(xintercept=18.5,linetype=\"dotted\")\n",
    "p<-p+ geom_vline(xintercept=28.5,linetype=\"dotted\")\n",
    "#scale_x_discrete(labels=c(\"3.5\" = \"Dose 0.5\", \"12\" = \"Dose 1\",\n",
    "#                              \"20.5\" = \"Dose 2\",\"29\"=\"Dose 3\"))\n",
    "ggsave(\"../figures/comp.png\", p, width = 12, height = 5)"
   ]
  },
  {
   "cell_type": "code",
   "execution_count": null,
   "metadata": {},
   "outputs": [],
   "source": []
  }
 ],
 "metadata": {
  "kernelspec": {
   "display_name": "R",
   "language": "R",
   "name": "ir"
  },
  "language_info": {
   "codemirror_mode": "r",
   "file_extension": ".r",
   "mimetype": "text/x-r-source",
   "name": "R",
   "pygments_lexer": "r",
   "version": "4.0.5"
  }
 },
 "nbformat": 4,
 "nbformat_minor": 4
}
