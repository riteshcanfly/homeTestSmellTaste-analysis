{
 "cells": [
  {
   "cell_type": "code",
   "execution_count": 1,
   "metadata": {},
   "outputs": [
    {
     "name": "stdout",
     "output_type": "stream",
     "text": [
      "(249, 69)\n"
     ]
    },
    {
     "data": {
      "text/html": [
       "<div>\n",
       "<style scoped>\n",
       "    .dataframe tbody tr th:only-of-type {\n",
       "        vertical-align: middle;\n",
       "    }\n",
       "\n",
       "    .dataframe tbody tr th {\n",
       "        vertical-align: top;\n",
       "    }\n",
       "\n",
       "    .dataframe thead th {\n",
       "        text-align: right;\n",
       "    }\n",
       "</style>\n",
       "<table border=\"1\" class=\"dataframe\">\n",
       "  <thead>\n",
       "    <tr style=\"text-align: right;\">\n",
       "      <th></th>\n",
       "      <th>laundry detergent</th>\n",
       "      <th>Clove(lavang)</th>\n",
       "      <th>Coriander seeds/Dhania</th>\n",
       "      <th>Garam/Goda masala</th>\n",
       "      <th>lemon</th>\n",
       "      <th>Milk</th>\n",
       "      <th>coffee</th>\n",
       "      <th>Sugar</th>\n",
       "      <th>Salt</th>\n",
       "      <th>Sour</th>\n",
       "      <th>...</th>\n",
       "      <th>Diarrhea</th>\n",
       "      <th>dry_mouth_com</th>\n",
       "      <th>Loss of appetite</th>\n",
       "      <th>difficult_breathing</th>\n",
       "      <th>no_chnage_in_taste</th>\n",
       "      <th>change_in_bitter</th>\n",
       "      <th>change_in_sweet</th>\n",
       "      <th>change_in_sour</th>\n",
       "      <th>change_in_salt</th>\n",
       "      <th>Diagnosed</th>\n",
       "    </tr>\n",
       "  </thead>\n",
       "  <tbody>\n",
       "    <tr>\n",
       "      <th>0</th>\n",
       "      <td>75.0</td>\n",
       "      <td>72.0</td>\n",
       "      <td>66.000000</td>\n",
       "      <td>71.000000</td>\n",
       "      <td>77.0</td>\n",
       "      <td>70.0</td>\n",
       "      <td>71.0</td>\n",
       "      <td>69.0</td>\n",
       "      <td>63.0</td>\n",
       "      <td>93.000000</td>\n",
       "      <td>...</td>\n",
       "      <td>0</td>\n",
       "      <td>0</td>\n",
       "      <td>0</td>\n",
       "      <td>0</td>\n",
       "      <td>1</td>\n",
       "      <td>0</td>\n",
       "      <td>0</td>\n",
       "      <td>0</td>\n",
       "      <td>0</td>\n",
       "      <td>Non-COVID</td>\n",
       "    </tr>\n",
       "    <tr>\n",
       "      <th>1</th>\n",
       "      <td>53.0</td>\n",
       "      <td>89.0</td>\n",
       "      <td>100.000000</td>\n",
       "      <td>71.000000</td>\n",
       "      <td>50.0</td>\n",
       "      <td>77.0</td>\n",
       "      <td>84.0</td>\n",
       "      <td>70.0</td>\n",
       "      <td>95.0</td>\n",
       "      <td>100.000000</td>\n",
       "      <td>...</td>\n",
       "      <td>0</td>\n",
       "      <td>0</td>\n",
       "      <td>0</td>\n",
       "      <td>0</td>\n",
       "      <td>1</td>\n",
       "      <td>0</td>\n",
       "      <td>0</td>\n",
       "      <td>0</td>\n",
       "      <td>0</td>\n",
       "      <td>Non-COVID</td>\n",
       "    </tr>\n",
       "    <tr>\n",
       "      <th>2</th>\n",
       "      <td>80.0</td>\n",
       "      <td>100.0</td>\n",
       "      <td>100.000000</td>\n",
       "      <td>100.000000</td>\n",
       "      <td>99.0</td>\n",
       "      <td>100.0</td>\n",
       "      <td>100.0</td>\n",
       "      <td>83.0</td>\n",
       "      <td>74.0</td>\n",
       "      <td>66.000000</td>\n",
       "      <td>...</td>\n",
       "      <td>0</td>\n",
       "      <td>0</td>\n",
       "      <td>0</td>\n",
       "      <td>0</td>\n",
       "      <td>1</td>\n",
       "      <td>0</td>\n",
       "      <td>0</td>\n",
       "      <td>0</td>\n",
       "      <td>0</td>\n",
       "      <td>Non-COVID</td>\n",
       "    </tr>\n",
       "    <tr>\n",
       "      <th>3</th>\n",
       "      <td>76.0</td>\n",
       "      <td>87.0</td>\n",
       "      <td>59.955823</td>\n",
       "      <td>65.345382</td>\n",
       "      <td>55.0</td>\n",
       "      <td>50.0</td>\n",
       "      <td>30.0</td>\n",
       "      <td>69.0</td>\n",
       "      <td>56.0</td>\n",
       "      <td>71.710843</td>\n",
       "      <td>...</td>\n",
       "      <td>0</td>\n",
       "      <td>0</td>\n",
       "      <td>0</td>\n",
       "      <td>0</td>\n",
       "      <td>1</td>\n",
       "      <td>0</td>\n",
       "      <td>0</td>\n",
       "      <td>0</td>\n",
       "      <td>0</td>\n",
       "      <td>Non-COVID</td>\n",
       "    </tr>\n",
       "    <tr>\n",
       "      <th>4</th>\n",
       "      <td>75.0</td>\n",
       "      <td>88.0</td>\n",
       "      <td>96.000000</td>\n",
       "      <td>92.000000</td>\n",
       "      <td>68.0</td>\n",
       "      <td>27.0</td>\n",
       "      <td>79.0</td>\n",
       "      <td>69.0</td>\n",
       "      <td>85.0</td>\n",
       "      <td>89.000000</td>\n",
       "      <td>...</td>\n",
       "      <td>0</td>\n",
       "      <td>0</td>\n",
       "      <td>0</td>\n",
       "      <td>0</td>\n",
       "      <td>1</td>\n",
       "      <td>0</td>\n",
       "      <td>0</td>\n",
       "      <td>0</td>\n",
       "      <td>0</td>\n",
       "      <td>Non-COVID</td>\n",
       "    </tr>\n",
       "  </tbody>\n",
       "</table>\n",
       "<p>5 rows × 68 columns</p>\n",
       "</div>"
      ],
      "text/plain": [
       "   laundry detergent  Clove(lavang)  Coriander seeds/Dhania  \\\n",
       "0               75.0           72.0               66.000000   \n",
       "1               53.0           89.0              100.000000   \n",
       "2               80.0          100.0              100.000000   \n",
       "3               76.0           87.0               59.955823   \n",
       "4               75.0           88.0               96.000000   \n",
       "\n",
       "   Garam/Goda masala  lemon   Milk  coffee  Sugar  Salt        Sour  ...  \\\n",
       "0          71.000000   77.0   70.0    71.0   69.0  63.0   93.000000  ...   \n",
       "1          71.000000   50.0   77.0    84.0   70.0  95.0  100.000000  ...   \n",
       "2         100.000000   99.0  100.0   100.0   83.0  74.0   66.000000  ...   \n",
       "3          65.345382   55.0   50.0    30.0   69.0  56.0   71.710843  ...   \n",
       "4          92.000000   68.0   27.0    79.0   69.0  85.0   89.000000  ...   \n",
       "\n",
       "   Diarrhea  dry_mouth_com  Loss of appetite  difficult_breathing  \\\n",
       "0         0              0                 0                    0   \n",
       "1         0              0                 0                    0   \n",
       "2         0              0                 0                    0   \n",
       "3         0              0                 0                    0   \n",
       "4         0              0                 0                    0   \n",
       "\n",
       "   no_chnage_in_taste  change_in_bitter  change_in_sweet  change_in_sour  \\\n",
       "0                   1                 0                0               0   \n",
       "1                   1                 0                0               0   \n",
       "2                   1                 0                0               0   \n",
       "3                   1                 0                0               0   \n",
       "4                   1                 0                0               0   \n",
       "\n",
       "   change_in_salt  Diagnosed  \n",
       "0               0  Non-COVID  \n",
       "1               0  Non-COVID  \n",
       "2               0  Non-COVID  \n",
       "3               0  Non-COVID  \n",
       "4               0  Non-COVID  \n",
       "\n",
       "[5 rows x 68 columns]"
      ]
     },
     "execution_count": 1,
     "metadata": {},
     "output_type": "execute_result"
    }
   ],
   "source": [
    "import pandas as pd\n",
    "df=pd.read_csv('../dataset/covid_survey_data.csv')\n",
    "print(df.shape)\n",
    "df.drop(columns=['Unnamed: 0'],inplace=True)\n",
    "df.head(5)"
   ]
  },
  {
   "cell_type": "code",
   "execution_count": 8,
   "metadata": {},
   "outputs": [],
   "source": [
    "cols=df.columns.tolist()\n",
    "#cols=[]\n",
    "df = df[cols]\n",
    "#df.columns\n",
    "smell=['laundry detergent', 'Clove(lavang)', 'Coriander seeds/Dhania',\n",
    "       'Garam/Goda masala', 'lemon', 'Milk', 'coffee', 'smell_irritants_product']\n",
    "taste=['Sugar', 'Salt', 'Sour','Bitter', 'chilly']\n",
    "generic=['No_smoke',\n",
    "       'Prefer_not_to_say_smoke', 'Yes_current_smoker', 'Yes_former smoker',\n",
    "       'smell_complete_loss', 'moderate_smell_change', 'No_change_smell',\n",
    "       'slight_change', 'contact_11_20', 'contact_21_50', 'contact_5_10',\n",
    "       'contact_less_5', 'contact_greater_50', 'contacts_none', 'Female',\n",
    "       'Seasonal allergies/hay fever', 'smell_disorder', 'taste_disorder',\n",
    "       'no_comorbity', 'Diabetes (high blood sugar)', 'Obesity',\n",
    "       'Chronic sinus problems', 'Other', 'High blood pressure', 'Head trauma',\n",
    "       'Dry mouth', 'Heart disease (heart attack)',\n",
    "       'Lung disease (asthma/COPD)', 'Neurological disease', 'Fever',\n",
    "       'Changes in food flavor', 'Changes in smell', 'Changes in taste',\n",
    "       'Headache', 'Fatigue', 'Body aches', 'Nausea', 'No symptoms',\n",
    "       'Runny nose', 'Cough with mucus', 'Dry cough', 'Sore throat',\n",
    "       'Skin sensitivity', 'Abdominal pain', 'Chest tightness', 'Diarrhea',\n",
    "       'dry_mouth_com', 'Loss of appetite', 'difficult_breathing',\n",
    "       'no_chnage_in_taste', 'change_in_bitter', 'change_in_sweet',\n",
    "       'change_in_sour', 'change_in_salt']\n",
    "label=['Diagnosed']"
   ]
  },
  {
   "cell_type": "code",
   "execution_count": 105,
   "metadata": {},
   "outputs": [],
   "source": [
    "colnames=['Spices/Herbs-1','Spices/Herbs-2','Spices_Mix','Other_Smell_Products','Sweet','Salt','Sour','Chilly','Smell_Irritant_Products','Smell_Complete_Loss','Moderate_Smell_Change','No_Change_Smell','Slight_Change','Contact_11_20','Contact_21_50','Contact_5_10','Contact_less_5','Contact_greater_50','Contacts_None','No_Comorbity','Fever','Smell_Change','Taste_Change','Headache','No_symptoms','Runny_Nose','Cough_with_Mucus','Chest_Tightness','Difficult_Breathing','No_Chnage_in_Taste','Change_in_Bitter','Change_in_Sweet','Change_in_Sour','Change_in_Salt','Diagnosed']"
   ]
  },
  {
   "cell_type": "code",
   "execution_count": 12,
   "metadata": {},
   "outputs": [],
   "source": [
    "from sklearn.preprocessing import StandardScaler\n",
    "from sklearn.decomposition import PCA\n",
    "from sklearn.metrics import accuracy_score,f1_score,roc_auc_score,make_scorer,precision_score,recall_score\n",
    "\n",
    "def standarize(X_train,X_test):\n",
    "    X_train_num=X_train[list(X_train.columns.values[0:9])]\n",
    "    X_train_cat=X_train[list(X_train.columns.values[9:])]\n",
    "    #labels=list(X_train['Diagnosed'])\n",
    "\n",
    "\n",
    "    X_test_num=X_test[list(X_test.columns.values[0:9])]\n",
    "    X_test_cat=X_test[list(X_test.columns.values[9:])]\n",
    "    #labels=list(X_test['Diagnosed'])\n",
    "\n",
    "    st_scale=StandardScaler().fit(X_train_num)\n",
    "    X_train_num=pd.DataFrame(st_scale.transform(X_train_num), index=X_train_num.index, columns=X_train_num.columns)\n",
    "    X_test_num=pd.DataFrame(st_scale.transform(X_test_num), index=X_test_num.index, columns=X_test_num.columns)\n",
    "\n",
    "    X_train=pd.concat([X_train_num,X_train_cat],axis=1)\n",
    "    X_test=pd.concat([X_test_num,X_test_cat],axis=1)\n",
    "    return X_train,X_test\n",
    "\n",
    "def pca_transformed(X_train,X_test):\n",
    "    pca=PCA()\n",
    "    X_train = pca.fit_transform(X_train)\n",
    "    X_test = pca.transform(X_test)\n",
    "    vrs=list(pca.explained_variance_ratio_)\n",
    "    sum_vrs=0\n",
    "    ind=len(vrs)-1\n",
    "    for i in range(len(vrs)):\n",
    "        sum_vrs+=vrs[i]\n",
    "        if sum_vrs>=0.9:\n",
    "            ind=i\n",
    "            break\n",
    "    X_train[:,0:ind+1]\n",
    "    X_test[:,0:ind+1]\n",
    "    return X_train,X_test\n",
    "\n",
    "\n",
    "from pandas import read_csv\n",
    "def evaluation_metrics(y_test, y_pred):\n",
    "    \"\"\" \n",
    "    different performance measures (dict)\n",
    "    \"\"\"\n",
    "\n",
    "    acc= accuracy_score(y_test,y_pred)\n",
    "    pr=precision_score(y_test,y_pred,average='weighted')\n",
    "    rc=recall_score(y_test,y_pred,average='weighted')\n",
    "    f1 = f1_score(y_test,y_pred,average='weighted')\n",
    "    auc =roc_auc_score(y_test,y_pred,average='weighted')\n",
    "    metric=[acc,pr,rc,f1,auc]\n",
    "    return metric"
   ]
  },
  {
   "cell_type": "code",
   "execution_count": null,
   "metadata": {},
   "outputs": [
    {
     "name": "stdout",
     "output_type": "stream",
     "text": [
      "Automatically created module for IPython interactive environment\n",
      "svc\n"
     ]
    },
    {
     "data": {
      "image/png": "[encoded data removed]",
      "text/plain": [
       "<Figure size 432x288 with 2 Axes>"
      ]
     },
     "metadata": {
      "needs_background": "light"
     },
     "output_type": "display_data"
    },
    {
     "name": "stdout",
     "output_type": "stream",
     "text": [
      "[SVC(C=1, class_weight='balanced', gamma=0.1, probability=True, random_state=0), 0.7299159663865546, 0.7454501638712164, 0.625, 0.6710738916256158, 0.7212719298245613]\n",
      "[0.6933333333333334, 0.694017094017094, 0.6933333333333334, 0.6935520294764368, 0.6928571428571428]\n",
      "gnb\n"
     ]
    },
    {
     "data": {
      "image/png": "[encoded data removed]",
      "text/plain": [
       "<Figure size 432x288 with 2 Axes>"
      ]
     },
     "metadata": {
      "needs_background": "light"
     },
     "output_type": "display_data"
    },
    {
     "name": "stdout",
     "output_type": "stream",
     "text": [
      "[GaussianNB(var_smoothing=5.336699231206302e-08), 0.7178151260504202, 0.7667032967032967, 0.6, 0.659132530508939, 0.7087719298245614]\n",
      "[0.6533333333333333, 0.6610234337637494, 0.6533333333333333, 0.6529634898055949, 0.6571428571428573]\n",
      "lr\n"
     ]
    },
    {
     "data": {
      "image/png": "[encoded data removed]",
      "text/plain": [
       "<Figure size 432x288 with 2 Axes>"
      ]
     },
     "metadata": {
      "needs_background": "light"
     },
     "output_type": "display_data"
    },
    {
     "name": "stdout",
     "output_type": "stream",
     "text": [
      "[LogisticRegression(C=1, class_weight='balanced', fit_intercept=False,\n",
      "                   max_iter=500, random_state=0, solver='liblinear'), 0.7415126050420169, 0.7254988149105795, 0.7125, 0.7146400602240425, 0.7387061403508772]\n",
      "[0.6666666666666666, 0.6661884265901483, 0.6666666666666666, 0.666308820898193, 0.6642857142857143]\n",
      "dt\n"
     ]
    },
    {
     "data": {
      "image/png": "[encoded data removed]",
      "text/plain": [
       "<Figure size 432x288 with 2 Axes>"
      ]
     },
     "metadata": {
      "needs_background": "light"
     },
     "output_type": "display_data"
    },
    {
     "name": "stdout",
     "output_type": "stream",
     "text": [
      "[DecisionTreeClassifier(class_weight='balanced', max_depth=5,\n",
      "                       min_samples_split=5, random_state=0), 0.7929411764705883, 0.786470588235294, 0.775, 0.7680854629241727, 0.7904239766081871]\n",
      "[0.56, 0.5627311522048365, 0.56, 0.5604696673189824, 0.5607142857142857]\n",
      "rf\n"
     ]
    },
    {
     "data": {
      "image/png": "[encoded data removed]",
      "text/plain": [
       "<Figure size 432x288 with 2 Axes>"
      ]
     },
     "metadata": {
      "needs_background": "light"
     },
     "output_type": "display_data"
    }
   ],
   "source": [
    "from matplotlib import pyplot as plt\n",
    "import seaborn as sns\n",
    "from sklearn.svm import SVC\n",
    "from sklearn.naive_bayes import GaussianNB\n",
    "from sklearn.linear_model import LogisticRegression\n",
    "from sklearn.tree import DecisionTreeClassifier\n",
    "from sklearn.ensemble import RandomForestClassifier\n",
    "from xgboost import XGBClassifier\n",
    "from sklearn.neighbors import KNeighborsClassifier\n",
    "from sklearn.ensemble import GradientBoostingClassifier\n",
    "from sklearn.model_selection import GridSearchCV, cross_val_score, KFold, cross_validate, StratifiedKFold\n",
    "from sklearn.metrics import roc_curve, auc\n",
    "import numpy as np\n",
    "np.random.seed(0)\n",
    "import warnings\n",
    "warnings.simplefilter('ignore')\n",
    "from sklearn.metrics import accuracy_score,f1_score,roc_auc_score,make_scorer,precision_score,recall_score\n",
    "print(__doc__)\n",
    "cv_dict={}\n",
    "test_dict={}\n",
    "\n",
    "# Choose cross-validation techniques for the inner and outer loops,\n",
    "# independently of the dataset.\n",
    "\n",
    "# E.g \"GroupKFold\", \"LeaveOneOut\", \"LeaveOneGroupOut\", etc.\n",
    "\n",
    "scoring={'Accuracy':make_scorer(accuracy_score),'Precision':make_scorer(precision_score),'Recall':make_scorer(recall_score),'F1 Score':make_scorer(f1_score),'AUC':make_scorer(roc_auc_score)}\n",
    "\n",
    "inner_cv = StratifiedKFold(n_splits=5, shuffle=True, random_state=0)\n",
    "outer_cv = StratifiedKFold(n_splits=5, shuffle=True, random_state=0)\n",
    "\n",
    "mts=['svc','gnb','lr','dt','rf']\n",
    "# Set up possible values of parameters to optimize over\n",
    "p_grids=[[] for i in range(5)]\n",
    "p_grids[0] = {\"C\": [1, 10, 100, 1000, 10000],\"gamma\": [.0001, .001, .01, .1, .2, .5]}\n",
    "p_grids[1]={'var_smoothing': np.logspace(0,-9, num=100)}\n",
    "p_grids[2]={\"C\": [1, 10, 100, 1000, 10000],\"fit_intercept\":[True,False],\"penalty\":['l1', 'l2']}\n",
    "p_grids[3]={'criterion':['gini','entropy'],'max_depth':  [1, 5, 10, 50], \"min_samples_split\": [5, 10, 100, 500]}\n",
    "p_grids[4] = { 'n_estimators': [100,200],'max_features': ['auto', 'sqrt', 'log2'],'max_depth': [3, 5, 10],'min_samples_split': [2, 5, 10],'criterion' :['gini', 'entropy']}\n",
    "#p_grids[5]= {'max_depth':  [4,5,6,7,8], \"n_estimators\": [10, 20,50,70,100,150] }\n",
    "k_range = list(range(1, 31))\n",
    "weight_options = ['uniform', 'distance']\n",
    "#p_grids[6] = dict(n_neighbors=k_range, weights=weight_options)\n",
    "#p_grid = {\"loss\":[\"deviance\"],\"learning_rate\": [0.01, 0.025, 0.05, 0.075, 0.1, 0.15, 0.2],\"min_samples_split\": np.linspace(0.1, 0.5, 12),\"min_samples_leaf\": np.linspace(0.1, 0.5, 12),\"max_depth\":[3,5,8],\"max_features\":[\"log2\",\"sqrt\"],\"criterion\": [\"friedman_mse\",  \"mae\"],\"subsample\":[0.5, 0.8, 0.85, 0.9, 0.95, 1.0],\"n_estimators\":[10]}\n",
    "\n",
    "# ML model\n",
    "models=[[] for i in range(5)]\n",
    "models[0] = SVC(kernel=\"rbf\",random_state=0,class_weight='balanced',probability=True)\n",
    "models[1]=GaussianNB()\n",
    "models[2]=LogisticRegression(random_state=0,solver='liblinear',max_iter=500,class_weight='balanced')\n",
    "models[3]=DecisionTreeClassifier(random_state=0,class_weight='balanced')\n",
    "models[4]=RandomForestClassifier(random_state=0,class_weight='balanced')\n",
    "#models[5]=XGBClassifier(random_state=0,class_weight='balanced',probability=True)\n",
    "#models[6]=KNeighborsClassifier()\n",
    "#model=GradientBoostingClassifier(random_state=0)\n",
    "\n",
    "#data=pd.read_csv('../dataset/covid_survey_data_sg.csv')\n",
    "data=df[generic+label]\n",
    "values=data.values\n",
    "X=data.iloc[:, 0 : -1]\n",
    "Y=list(values[:,-1])\n",
    "Y=[0 if val=='Non-COVID' else 1 for val in Y]\n",
    "from sklearn.model_selection import train_test_split\n",
    "X_train, X_test, Y_train, Y_test = train_test_split(X, Y, stratify= Y,  random_state = 0,test_size = 0.3)\n",
    "#X_train,X_test=standarize(X_train,X_test)\n",
    "\n",
    "for i in range(5):\n",
    "    mt=mts[i]\n",
    "    print(mt)\n",
    "    p_grid=p_grids[i]\n",
    "    model=models[i]\n",
    "    clf = GridSearchCV(estimator=model, param_grid=p_grid, cv=inner_cv,scoring=scoring,refit='AUC')\n",
    "    clf.fit(X_train, Y_train)\n",
    "\n",
    "    # Nested CV with parameter optimization\n",
    "    nested_cvscore = cross_validate(clf, X=X_train, y=Y_train, cv=outer_cv,scoring=scoring)\n",
    "    cv_dict[mt]=[clf.best_estimator_,nested_cvscore['test_Accuracy'].mean(),nested_cvscore['test_Precision'].mean(),nested_cvscore['test_Recall'].mean(),nested_cvscore['test_F1 Score'].mean(),nested_cvscore['test_AUC'].mean()]\n",
    "\n",
    "\n",
    "    model=cv_dict[mt][0]\n",
    "    model.fit(X_train,Y_train)\n",
    "    Y_pred=model.predict(X_test)\n",
    "    from sklearn.metrics import confusion_matrix\n",
    "    cm=confusion_matrix(Y_test,Y_pred)\n",
    "\n",
    "    import seaborn as sns\n",
    "    import matplotlib.pyplot as plt     \n",
    "\n",
    "    sns.heatmap(cm, annot=True,fmt=\"d\",cmap='Blues')\n",
    "    plt.title('confusion Matrix')\n",
    "    plt.ylabel(\"Actual 'y'\", fontdict= {'fontsize' : 14})\n",
    "    plt.xlabel(\"predicted 'y'\", fontdict= {'fontsize' : 14})\n",
    "    plt.show()\n",
    "\n",
    "    test_dict[mt]=evaluation_metrics(Y_test,Y_pred)\n",
    "    #evaluation_metrics(Y_test,Y_pred)\n",
    "    print(cv_dict[mt])\n",
    "    print(test_dict[mt])\n",
    "\n",
    "#     import pickle\n",
    "#     with open('../dataset/cv_dict_sel_pstd_t','wb') as f:\n",
    "#         pickle.dump(cv_dict,f)\n",
    "#     with open('../dataset/test_dict_sel_pstd_t','wb') as f:\n",
    "#         pickle.dump(test_dict,f)\n",
    "        \n",
    "\n",
    "\n"
   ]
  },
  {
   "cell_type": "code",
   "execution_count": 15,
   "metadata": {},
   "outputs": [
    {
     "name": "stdout",
     "output_type": "stream",
     "text": [
      "[RandomForestClassifier(class_weight='balanced', max_depth=10, random_state=0), 0.7810084033613446, 0.8052470405411583, 0.7125, 0.7496356396964916, 0.7755482456140352]\n",
      "[0.6666666666666666, 0.6659399224806202, 0.6666666666666666, 0.6652280764850447, 0.6625]\n"
     ]
    }
   ],
   "source": [
    "print(cv_dict[mt])\n",
    "print(test_dict[mt])"
   ]
  },
  {
   "cell_type": "code",
   "execution_count": 22,
   "metadata": {},
   "outputs": [
    {
     "data": {
      "text/plain": [
       "249"
      ]
     },
     "execution_count": 22,
     "metadata": {},
     "output_type": "execute_result"
    }
   ],
   "source": [
    "np.shape(data.values)\n",
    "len(data)"
   ]
  },
  {
   "cell_type": "code",
   "execution_count": 24,
   "metadata": {},
   "outputs": [
    {
     "name": "stdout",
     "output_type": "stream",
     "text": [
      "svc \n",
      "\n",
      "gnb 99397\n",
      "\n",
      "lr 999\n",
      "\n",
      "rf 999\n",
      "\n",
      "dt 999\n",
      "\n",
      "i= 999\r"
     ]
    }
   ],
   "source": [
    "import numpy\n",
    "from pandas import read_csv\n",
    "from sklearn.utils import resample\n",
    "from sklearn.tree import DecisionTreeClassifier\n",
    "from sklearn.metrics import accuracy_score\n",
    "from matplotlib import pyplot\n",
    "# load dataset\n",
    "#data = read_csv('../dataset/covid_survey_data40.csv')\n",
    "#values = data.values[:,1:]\n",
    "values=data.values\n",
    "# configure bootstrap\n",
    "n_iterations = 1000\n",
    "n_size = int(len(data) * 0.50)\n",
    "clfs=['svc','gnb','lr','rf','dt']\n",
    "stats_dict = {}\n",
    "# with open('../dataset/cv_dict_sel_pstd_t','rb') as f:\n",
    "#     cv_dict=pickle.load(f)\n",
    "for i in range(5):\n",
    "    clf=clfs[i]\n",
    "    print(clf,'\\n')\n",
    "    # run bootstrap\n",
    "    acc_stats = []\n",
    "    pre_stats = []\n",
    "    rec_stats = []\n",
    "    f1_stats = []\n",
    "    auc_stats = []\n",
    "    for i in range(n_iterations):\n",
    "        print('i=',i,end='\\r')\n",
    "        # prepare train and test sets\n",
    "        train = resample(values, stratify=values[:,-1],n_samples=n_size)\n",
    "        test = numpy.array([x for x in values if x.tolist() not in train.tolist()])\n",
    "        train[:,-1]=np.array([0 if val=='Non-COVID' else 1 for val in list(train[:,-1])])\n",
    "        test[:,-1]=np.array([0 if val=='Non-COVID' else 1 for val in list(test[:,-1])])\n",
    "        X_train=pd.DataFrame(train[:,:-1])\n",
    "        #X_train.columns=colnames[:-1]\n",
    "        X_test=pd.DataFrame(test[:,:-1])\n",
    "        #X_test.columns=colnames[:-1]\n",
    "        Y_train=list(train[:,-1])\n",
    "        Y_test=list(test[:,-1])\n",
    "        #X_train,X_test=standarize(X_train,X_test)\n",
    "        # fit model\n",
    "        model = cv_dict[clf][0]\n",
    "        model.fit(X_train, Y_train)\n",
    "        # evaluate model\n",
    "        predictions = model.predict(X_test)\n",
    "        acc_stats.append(accuracy_score(Y_test, predictions))\n",
    "        pre_stats.append(precision_score(Y_test, predictions,average='weighted'))\n",
    "        rec_stats.append(recall_score(Y_test, predictions,average='weighted'))\n",
    "        f1_stats.append(f1_score(Y_test, predictions,average='weighted'))\n",
    "        #atest=[0 if val=='Non-COVID' else 1 for val in list(Y_test)]\n",
    "        #apred=[0 if val=='Non-COVID' else 1 for val in list(predictions)]\n",
    "        auc_stats.append(roc_auc_score(Y_test, predictions,average='weighted'))\n",
    "        #print('i=',i,' score=',score,' train shape= ',np.shape(train),' test shape= ',np.shape(test),' train ratio=',list(train[:,-1]).count('Non-COVID')/list(train[:,-1]).count('Positive'),' test_ratio=',list(test[:,-1]).count('Non-COVID')/list(test[:,-1]).count('Positive'),end='\\r')\n",
    "    # plot scores\n",
    "    #pyplot.hist(stats)\n",
    "    #pyplot.show()\n",
    "    # confidence intervals\n",
    "    alpha = 0.95\n",
    "    p = ((1.0-alpha)/2.0) * 100\n",
    "    acc_lower = max(0.0, numpy.percentile(acc_stats, p))\n",
    "    pre_lower = max(0.0, numpy.percentile(pre_stats, p))\n",
    "    rec_lower = max(0.0, numpy.percentile(rec_stats, p))\n",
    "    f1_lower = max(0.0, numpy.percentile(f1_stats, p))\n",
    "    auc_lower = max(0.0, numpy.percentile(auc_stats, p))\n",
    "    p = (alpha+((1.0-alpha)/2.0)) * 100\n",
    "    acc_upper = min(1.0, numpy.percentile(acc_stats, p))\n",
    "    pre_upper = min(1.0, numpy.percentile(pre_stats, p))\n",
    "    rec_upper = min(1.0, numpy.percentile(rec_stats, p))\n",
    "    f1_upper = min(1.0, numpy.percentile(f1_stats, p))\n",
    "    auc_upper = min(1.0, numpy.percentile(auc_stats, p))\n",
    "    stats_dict[clf]=[(round(acc_lower*100,2),round(acc_upper*100,2)),(round(pre_lower*100,2),round(pre_upper*100,2)),(round(rec_lower*100,2),round(rec_upper*100,2)),(round(f1_lower*100,2),round(f1_upper*100,2)),(round(auc_lower*100,2),round(auc_upper*100,2))]\n",
    "    #print('%.1f confidence interval %.1f%% and %.1f%%' % (alpha*100, lower*100, upper*100))\n",
    "# with open('../dataset/stats_sel_pstd_dict_t','wb') as f:\n",
    "#     pickle.dump(stats_dict,f)\n",
    "    "
   ]
  },
  {
   "cell_type": "code",
   "execution_count": 25,
   "metadata": {},
   "outputs": [
    {
     "name": "stdout",
     "output_type": "stream",
     "text": [
      "+---------------------+----------------+----------------+----------------+----------------+----------------+\n",
      "|        Model        |    Accuracy    |   Precision    |     Recall     |    F1 Score    |      Auc       |\n",
      "+---------------------+----------------+----------------+----------------+----------------+----------------+\n",
      "|     Naive Bayes     | (51.14, 72.73) | (52.93, 73.94) | (51.14, 72.73) | (45.92, 72.58) | (51.95, 72.85) |\n",
      "|     Decison Tree    | (56.06, 73.53) | (56.3, 73.76)  | (56.06, 73.53) | (55.74, 73.52) | (56.08, 73.48) |\n",
      "|    Random Forest    | (62.09, 75.19) | (62.31, 75.38) | (62.09, 75.19) | (61.8, 75.16)  | (62.11, 75.08) |\n",
      "| Logistic Regression | (61.94, 75.2)  | (62.18, 75.55) | (61.94, 75.2)  | (61.76, 75.22) | (61.85, 75.37) |\n",
      "|         SVM         | (63.64, 76.92) | (64.17, 76.93) | (63.64, 76.92) | (63.58, 76.9)  | (63.71, 76.87) |\n",
      "+---------------------+----------------+----------------+----------------+----------------+----------------+\n"
     ]
    }
   ],
   "source": [
    "from prettytable import PrettyTable\n",
    "#generic\n",
    "x = PrettyTable()\n",
    "x.field_names = [ \"Model\", 'Accuracy', 'Precision', 'Recall', 'F1 Score', 'Auc']\n",
    "x.add_row(['Naive Bayes']+stats_dict['gnb'])\n",
    "x.add_row(['Decison Tree']+stats_dict['dt'])\n",
    "x.add_row(['Random Forest']+stats_dict['rf'])\n",
    "x.add_row(['Logistic Regression']+stats_dict['lr'])\n",
    "x.add_row(['SVM']+stats_dict['svc'])\n",
    "print(x)"
   ]
  },
  {
   "cell_type": "markdown",
   "metadata": {},
   "source": [
    "### Smell Test"
   ]
  },
  {
   "cell_type": "code",
   "execution_count": 26,
   "metadata": {},
   "outputs": [
    {
     "name": "stdout",
     "output_type": "stream",
     "text": [
      "Automatically created module for IPython interactive environment\n",
      "svc\n"
     ]
    },
    {
     "data": {
      "image/png": "[encoded data removed]",
      "text/plain": [
       "<Figure size 432x288 with 2 Axes>"
      ]
     },
     "metadata": {
      "needs_background": "light"
     },
     "output_type": "display_data"
    },
    {
     "name": "stdout",
     "output_type": "stream",
     "text": [
      "[SVC(C=1, class_weight='balanced', gamma=0.2, probability=True, random_state=0), 0.7294117647058823, 0.7060568086883876, 0.7125, 0.7040336134453782, 0.7284722222222222]\n",
      "[0.6666666666666666, 0.6713762428048142, 0.6666666666666666, 0.65893043531651, 0.6571428571428571]\n",
      "gnb\n"
     ]
    },
    {
     "data": {
      "image/png": "[encoded data removed]",
      "text/plain": [
       "<Figure size 432x288 with 2 Axes>"
      ]
     },
     "metadata": {
      "needs_background": "light"
     },
     "output_type": "display_data"
    },
    {
     "name": "stdout",
     "output_type": "stream",
     "text": [
      "[GaussianNB(var_smoothing=0.533669923120631), 0.6779831932773109, 0.885, 0.35, 0.49718614718614723, 0.6533625730994153]\n",
      "[0.6533333333333333, 0.7022222222222223, 0.6533333333333333, 0.6186666666666667, 0.6339285714285715]\n",
      "lr\n"
     ]
    },
    {
     "data": {
      "image/png": "[encoded data removed]",
      "text/plain": [
       "<Figure size 432x288 with 2 Axes>"
      ]
     },
     "metadata": {
      "needs_background": "light"
     },
     "output_type": "display_data"
    },
    {
     "name": "stdout",
     "output_type": "stream",
     "text": [
      "[LogisticRegression(C=100, class_weight='balanced', fit_intercept=False,\n",
      "                   max_iter=500, penalty='l1', random_state=0,\n",
      "                   solver='liblinear'), 0.6721008403361345, 0.673950204384987, 0.65, 0.6407356321839082, 0.6694444444444445]\n",
      "[0.64, 0.6407407407407407, 0.64, 0.6402567302549474, 0.6392857142857142]\n",
      "dt\n"
     ]
    },
    {
     "data": {
      "image/png": "[encoded data removed]",
      "text/plain": [
       "<Figure size 432x288 with 2 Axes>"
      ]
     },
     "metadata": {
      "needs_background": "light"
     },
     "output_type": "display_data"
    },
    {
     "name": "stdout",
     "output_type": "stream",
     "text": [
      "[DecisionTreeClassifier(class_weight='balanced', max_depth=5,\n",
      "                       min_samples_split=100, random_state=0), 0.6952941176470588, 0.7160446570972887, 0.675, 0.6612519568716513, 0.6933479532163743]\n",
      "[0.6266666666666667, 0.6271604938271605, 0.6266666666666667, 0.6195503421309874, 0.6178571428571429]\n",
      "rf\n"
     ]
    },
    {
     "data": {
      "image/png": "[encoded data removed]",
      "text/plain": [
       "<Figure size 432x288 with 2 Axes>"
      ]
     },
     "metadata": {
      "needs_background": "light"
     },
     "output_type": "display_data"
    },
    {
     "name": "stdout",
     "output_type": "stream",
     "text": [
      "[RandomForestClassifier(class_weight='balanced', criterion='entropy',\n",
      "                       max_depth=3, min_samples_split=5, random_state=0), 0.7700840336134454, 0.7727985739750445, 0.7375, 0.7459310336729692, 0.7678728070175438]\n",
      "[0.68, 0.6936454849498328, 0.68, 0.6677661169415292, 0.6678571428571429]\n",
      "svc \n",
      "\n",
      "gnb 99\n",
      "\n",
      "lr 999\n",
      "\n",
      "rf 999\n",
      "\n",
      "dt 999\n",
      "\n",
      "+---------------------+----------------+----------------+----------------+----------------+----------------+\n",
      "|        Model        |    Accuracy    |   Precision    |     Recall     |    F1 Score    |      Auc       |\n",
      "+---------------------+----------------+----------------+----------------+----------------+----------------+\n",
      "|     Naive Bayes     | (64.11, 76.23) | (63.85, 80.99) | (64.11, 76.23) | (61.59, 74.46) | (60.9, 72.55)  |\n",
      "|     Decison Tree    | (53.72, 78.33) | (56.72, 80.92) | (53.72, 78.33) | (50.17, 78.21) | (54.16, 77.55) |\n",
      "|    Random Forest    | (68.75, 83.72) | (69.49, 84.48) | (68.75, 83.72) | (67.7, 83.41)  | (66.7, 82.48)  |\n",
      "| Logistic Regression | (54.76, 70.23) | (55.19, 72.17) | (54.76, 70.23) | (54.49, 70.2)  | (54.4, 70.73)  |\n",
      "|         SVM         | (65.89, 80.65) | (66.93, 80.95) | (65.89, 80.65) | (65.02, 80.52) | (64.76, 80.56) |\n",
      "+---------------------+----------------+----------------+----------------+----------------+----------------+\n"
     ]
    }
   ],
   "source": [
    "from matplotlib import pyplot as plt\n",
    "import seaborn as sns\n",
    "from sklearn.svm import SVC\n",
    "from sklearn.naive_bayes import GaussianNB\n",
    "from sklearn.linear_model import LogisticRegression\n",
    "from sklearn.tree import DecisionTreeClassifier\n",
    "from sklearn.ensemble import RandomForestClassifier\n",
    "from xgboost import XGBClassifier\n",
    "from sklearn.neighbors import KNeighborsClassifier\n",
    "from sklearn.ensemble import GradientBoostingClassifier\n",
    "from sklearn.model_selection import GridSearchCV, cross_val_score, KFold, cross_validate, StratifiedKFold\n",
    "from sklearn.metrics import roc_curve, auc\n",
    "import numpy as np\n",
    "np.random.seed(0)\n",
    "import warnings\n",
    "warnings.simplefilter('ignore')\n",
    "from sklearn.metrics import accuracy_score,f1_score,roc_auc_score,make_scorer,precision_score,recall_score\n",
    "print(__doc__)\n",
    "cv_dict={}\n",
    "test_dict={}\n",
    "\n",
    "# Choose cross-validation techniques for the inner and outer loops,\n",
    "# independently of the dataset.\n",
    "\n",
    "# E.g \"GroupKFold\", \"LeaveOneOut\", \"LeaveOneGroupOut\", etc.\n",
    "\n",
    "scoring={'Accuracy':make_scorer(accuracy_score),'Precision':make_scorer(precision_score),'Recall':make_scorer(recall_score),'F1 Score':make_scorer(f1_score),'AUC':make_scorer(roc_auc_score)}\n",
    "\n",
    "inner_cv = StratifiedKFold(n_splits=5, shuffle=True, random_state=0)\n",
    "outer_cv = StratifiedKFold(n_splits=5, shuffle=True, random_state=0)\n",
    "\n",
    "mts=['svc','gnb','lr','dt','rf']\n",
    "# Set up possible values of parameters to optimize over\n",
    "p_grids=[[] for i in range(5)]\n",
    "p_grids[0] = {\"C\": [1, 10, 100, 1000, 10000],\"gamma\": [.0001, .001, .01, .1, .2, .5]}\n",
    "p_grids[1]={'var_smoothing': np.logspace(0,-9, num=100)}\n",
    "p_grids[2]={\"C\": [1, 10, 100, 1000, 10000],\"fit_intercept\":[True,False],\"penalty\":['l1', 'l2']}\n",
    "p_grids[3]={'criterion':['gini','entropy'],'max_depth':  [1, 5, 10, 50], \"min_samples_split\": [5, 10, 100, 500]}\n",
    "p_grids[4] = { 'n_estimators': [100,200],'max_features': ['auto', 'sqrt', 'log2'],'max_depth': [3, 5, 10],'min_samples_split': [2, 5, 10],'criterion' :['gini', 'entropy']}\n",
    "#p_grids[5]= {'max_depth':  [4,5,6,7,8], \"n_estimators\": [10, 20,50,70,100,150] }\n",
    "k_range = list(range(1, 31))\n",
    "weight_options = ['uniform', 'distance']\n",
    "#p_grids[6] = dict(n_neighbors=k_range, weights=weight_options)\n",
    "#p_grid = {\"loss\":[\"deviance\"],\"learning_rate\": [0.01, 0.025, 0.05, 0.075, 0.1, 0.15, 0.2],\"min_samples_split\": np.linspace(0.1, 0.5, 12),\"min_samples_leaf\": np.linspace(0.1, 0.5, 12),\"max_depth\":[3,5,8],\"max_features\":[\"log2\",\"sqrt\"],\"criterion\": [\"friedman_mse\",  \"mae\"],\"subsample\":[0.5, 0.8, 0.85, 0.9, 0.95, 1.0],\"n_estimators\":[10]}\n",
    "\n",
    "# ML model\n",
    "models=[[] for i in range(5)]\n",
    "models[0] = SVC(kernel=\"rbf\",random_state=0,class_weight='balanced',probability=True)\n",
    "models[1]=GaussianNB()\n",
    "models[2]=LogisticRegression(random_state=0,solver='liblinear',max_iter=500,class_weight='balanced')\n",
    "models[3]=DecisionTreeClassifier(random_state=0,class_weight='balanced')\n",
    "models[4]=RandomForestClassifier(random_state=0,class_weight='balanced')\n",
    "#models[5]=XGBClassifier(random_state=0,class_weight='balanced',probability=True)\n",
    "#models[6]=KNeighborsClassifier()\n",
    "#model=GradientBoostingClassifier(random_state=0)\n",
    "\n",
    "#data=pd.read_csv('../dataset/covid_survey_data_sg.csv')\n",
    "data=df[smell+label]\n",
    "values=data.values\n",
    "X=data.iloc[:, 0 : -1]\n",
    "Y=list(values[:,-1])\n",
    "Y=[0 if val=='Non-COVID' else 1 for val in Y]\n",
    "from sklearn.model_selection import train_test_split\n",
    "X_train, X_test, Y_train, Y_test = train_test_split(X, Y, stratify= Y,  random_state = 0,test_size = 0.3)\n",
    "#X_train,X_test=standarize(X_train,X_test)\n",
    "st_scale=StandardScaler().fit(X_train)\n",
    "X_train=pd.DataFrame(st_scale.transform(X_train), index=X_train.index, columns=X_train.columns)\n",
    "X_test=pd.DataFrame(st_scale.transform(X_test), index=X_test.index, columns=X_test.columns)\n",
    "\n",
    "for i in range(5):\n",
    "    mt=mts[i]\n",
    "    print(mt)\n",
    "    p_grid=p_grids[i]\n",
    "    model=models[i]\n",
    "    clf = GridSearchCV(estimator=model, param_grid=p_grid, cv=inner_cv,scoring=scoring,refit='AUC')\n",
    "    clf.fit(X_train, Y_train)\n",
    "\n",
    "    # Nested CV with parameter optimization\n",
    "    nested_cvscore = cross_validate(clf, X=X_train, y=Y_train, cv=outer_cv,scoring=scoring)\n",
    "    cv_dict[mt]=[clf.best_estimator_,nested_cvscore['test_Accuracy'].mean(),nested_cvscore['test_Precision'].mean(),nested_cvscore['test_Recall'].mean(),nested_cvscore['test_F1 Score'].mean(),nested_cvscore['test_AUC'].mean()]\n",
    "\n",
    "\n",
    "    model=cv_dict[mt][0]\n",
    "    model.fit(X_train,Y_train)\n",
    "    Y_pred=model.predict(X_test)\n",
    "    from sklearn.metrics import confusion_matrix\n",
    "    cm=confusion_matrix(Y_test,Y_pred)\n",
    "\n",
    "    import seaborn as sns\n",
    "    import matplotlib.pyplot as plt     \n",
    "\n",
    "    sns.heatmap(cm, annot=True,fmt=\"d\",cmap='Blues')\n",
    "    plt.title('confusion Matrix')\n",
    "    plt.ylabel(\"Actual 'y'\", fontdict= {'fontsize' : 14})\n",
    "    plt.xlabel(\"predicted 'y'\", fontdict= {'fontsize' : 14})\n",
    "    plt.show()\n",
    "\n",
    "    test_dict[mt]=evaluation_metrics(Y_test,Y_pred)\n",
    "    #evaluation_metrics(Y_test,Y_pred)\n",
    "    print(cv_dict[mt])\n",
    "    print(test_dict[mt])\n",
    "\n",
    "#     import pickle\n",
    "#     with open('../dataset/cv_dict_sel_pstd_t','wb') as f:\n",
    "#         pickle.dump(cv_dict,f)\n",
    "#     with open('../dataset/test_dict_sel_pstd_t','wb') as f:\n",
    "#         pickle.dump(test_dict,f)\n",
    "        \n",
    "import numpy\n",
    "from pandas import read_csv\n",
    "from sklearn.utils import resample\n",
    "from sklearn.tree import DecisionTreeClassifier\n",
    "from sklearn.metrics import accuracy_score\n",
    "from matplotlib import pyplot\n",
    "# load dataset\n",
    "#data = read_csv('../dataset/covid_survey_data40.csv')\n",
    "#values = data.values[:,1:]\n",
    "values=data.values\n",
    "# configure bootstrap\n",
    "n_iterations = 1000\n",
    "n_size = int(len(data) * 0.50)\n",
    "clfs=['svc','gnb','lr','rf','dt']\n",
    "stats_dict = {}\n",
    "# with open('../dataset/cv_dict_sel_pstd_t','rb') as f:\n",
    "#     cv_dict=pickle.load(f)\n",
    "for i in range(5):\n",
    "    clf=clfs[i]\n",
    "    print(clf,'\\n')\n",
    "    # run bootstrap\n",
    "    acc_stats = []\n",
    "    pre_stats = []\n",
    "    rec_stats = []\n",
    "    f1_stats = []\n",
    "    auc_stats = []\n",
    "    for i in range(n_iterations):\n",
    "        print('i=',i,end='\\r')\n",
    "        # prepare train and test sets\n",
    "        train = resample(values, stratify=values[:,-1],n_samples=n_size)\n",
    "        test = numpy.array([x for x in values if x.tolist() not in train.tolist()])\n",
    "        train[:,-1]=np.array([0 if val=='Non-COVID' else 1 for val in list(train[:,-1])])\n",
    "        test[:,-1]=np.array([0 if val=='Non-COVID' else 1 for val in list(test[:,-1])])\n",
    "        X_train=pd.DataFrame(train[:,:-1])\n",
    "        #X_train.columns=colnames[:-1]\n",
    "        X_test=pd.DataFrame(test[:,:-1])\n",
    "        #X_test.columns=colnames[:-1]\n",
    "        \n",
    "        st_scale=StandardScaler().fit(X_train)\n",
    "        X_train=pd.DataFrame(st_scale.transform(X_train), index=X_train.index, columns=X_train.columns)\n",
    "        X_test=pd.DataFrame(st_scale.transform(X_test), index=X_test.index, columns=X_test.columns)\n",
    "\n",
    "        Y_train=list(train[:,-1])\n",
    "        Y_test=list(test[:,-1])\n",
    "        #X_train,X_test=standarize(X_train,X_test)\n",
    "        # fit model\n",
    "        model = cv_dict[clf][0]\n",
    "        model.fit(X_train, Y_train)\n",
    "        # evaluate model\n",
    "        predictions = model.predict(X_test)\n",
    "        acc_stats.append(accuracy_score(Y_test, predictions))\n",
    "        pre_stats.append(precision_score(Y_test, predictions,average='weighted'))\n",
    "        rec_stats.append(recall_score(Y_test, predictions,average='weighted'))\n",
    "        f1_stats.append(f1_score(Y_test, predictions,average='weighted'))\n",
    "        #atest=[0 if val=='Non-COVID' else 1 for val in list(Y_test)]\n",
    "        #apred=[0 if val=='Non-COVID' else 1 for val in list(predictions)]\n",
    "        auc_stats.append(roc_auc_score(Y_test, predictions,average='weighted'))\n",
    "        #print('i=',i,' score=',score,' train shape= ',np.shape(train),' test shape= ',np.shape(test),' train ratio=',list(train[:,-1]).count('Non-COVID')/list(train[:,-1]).count('Positive'),' test_ratio=',list(test[:,-1]).count('Non-COVID')/list(test[:,-1]).count('Positive'),end='\\r')\n",
    "    # plot scores\n",
    "    #pyplot.hist(stats)\n",
    "    #pyplot.show()\n",
    "    # confidence intervals\n",
    "    alpha = 0.95\n",
    "    p = ((1.0-alpha)/2.0) * 100\n",
    "    acc_lower = max(0.0, numpy.percentile(acc_stats, p))\n",
    "    pre_lower = max(0.0, numpy.percentile(pre_stats, p))\n",
    "    rec_lower = max(0.0, numpy.percentile(rec_stats, p))\n",
    "    f1_lower = max(0.0, numpy.percentile(f1_stats, p))\n",
    "    auc_lower = max(0.0, numpy.percentile(auc_stats, p))\n",
    "    p = (alpha+((1.0-alpha)/2.0)) * 100\n",
    "    acc_upper = min(1.0, numpy.percentile(acc_stats, p))\n",
    "    pre_upper = min(1.0, numpy.percentile(pre_stats, p))\n",
    "    rec_upper = min(1.0, numpy.percentile(rec_stats, p))\n",
    "    f1_upper = min(1.0, numpy.percentile(f1_stats, p))\n",
    "    auc_upper = min(1.0, numpy.percentile(auc_stats, p))\n",
    "    stats_dict[clf]=[(round(acc_lower*100,2),round(acc_upper*100,2)),(round(pre_lower*100,2),round(pre_upper*100,2)),(round(rec_lower*100,2),round(rec_upper*100,2)),(round(f1_lower*100,2),round(f1_upper*100,2)),(round(auc_lower*100,2),round(auc_upper*100,2))]\n",
    "    #print('%.1f confidence interval %.1f%% and %.1f%%' % (alpha*100, lower*100, upper*100))\n",
    "# with open('../dataset/stats_sel_pstd_dict_t','wb') as f:\n",
    "#     pickle.dump(stats_dict,f)\n",
    "    \n",
    "\n",
    "\n",
    "from prettytable import PrettyTable\n",
    "#generic\n",
    "x = PrettyTable()\n",
    "x.field_names = [ \"Model\", 'Accuracy', 'Precision', 'Recall', 'F1 Score', 'Auc']\n",
    "x.add_row(['Naive Bayes']+stats_dict['gnb'])\n",
    "x.add_row(['Decison Tree']+stats_dict['dt'])\n",
    "x.add_row(['Random Forest']+stats_dict['rf'])\n",
    "x.add_row(['Logistic Regression']+stats_dict['lr'])\n",
    "x.add_row(['SVM']+stats_dict['svc'])\n",
    "print(x)"
   ]
  },
  {
   "cell_type": "markdown",
   "metadata": {},
   "source": [
    "### Taste Test"
   ]
  },
  {
   "cell_type": "code",
   "execution_count": 27,
   "metadata": {},
   "outputs": [
    {
     "name": "stdout",
     "output_type": "stream",
     "text": [
      "Automatically created module for IPython interactive environment\n",
      "svc\n"
     ]
    },
    {
     "data": {
      "image/png": "[encoded data removed]",
      "text/plain": [
       "<Figure size 432x288 with 2 Axes>"
      ]
     },
     "metadata": {
      "needs_background": "light"
     },
     "output_type": "display_data"
    },
    {
     "name": "stdout",
     "output_type": "stream",
     "text": [
      "[SVC(C=1, class_weight='balanced', gamma=0.2, probability=True, random_state=0), 0.5974789915966386, 0.5615995872033024, 0.6125, 0.5844146534469115, 0.5986476608187135]\n",
      "[0.5066666666666667, 0.5040213178294572, 0.5066666666666667, 0.504537553197866, 0.5017857142857143]\n",
      "gnb\n"
     ]
    },
    {
     "data": {
      "image/png": "[encoded data removed]",
      "text/plain": [
       "<Figure size 432x288 with 2 Axes>"
      ]
     },
     "metadata": {
      "needs_background": "light"
     },
     "output_type": "display_data"
    },
    {
     "name": "stdout",
     "output_type": "stream",
     "text": [
      "[GaussianNB(var_smoothing=0.8111308307896871), 0.6092436974789915, 0.8428571428571429, 0.2125, 0.3309756604951113, 0.5793494152046783]\n",
      "[0.6133333333333333, 0.6632275132275133, 0.6133333333333333, 0.5618949252909179, 0.5910714285714286]\n",
      "lr\n"
     ]
    },
    {
     "data": {
      "image/png": "[encoded data removed]",
      "text/plain": [
       "<Figure size 432x288 with 2 Axes>"
      ]
     },
     "metadata": {
      "needs_background": "light"
     },
     "output_type": "display_data"
    },
    {
     "name": "stdout",
     "output_type": "stream",
     "text": [
      "[LogisticRegression(C=1, class_weight='balanced', fit_intercept=False,\n",
      "                   max_iter=500, random_state=0, solver='liblinear'), 0.47714285714285715, 0.42755894260538224, 0.4125, 0.41754176116801256, 0.4720394736842105]\n",
      "[0.5733333333333334, 0.579818268770923, 0.5733333333333334, 0.5728781412991939, 0.5767857142857142]\n",
      "dt\n"
     ]
    },
    {
     "data": {
      "image/png": "[encoded data removed]",
      "text/plain": [
       "<Figure size 432x288 with 2 Axes>"
      ]
     },
     "metadata": {
      "needs_background": "light"
     },
     "output_type": "display_data"
    },
    {
     "name": "stdout",
     "output_type": "stream",
     "text": [
      "[DecisionTreeClassifier(class_weight='balanced', max_depth=5,\n",
      "                       min_samples_split=100, random_state=0), 0.5801680672268907, 0.5534632034632034, 0.475, 0.5076812947401182, 0.572295321637427]\n",
      "[0.4666666666666667, 0.4533333333333333, 0.4666666666666667, 0.4518518518518518, 0.4553571428571428]\n",
      "rf\n"
     ]
    },
    {
     "data": {
      "image/png": "[encoded data removed]",
      "text/plain": [
       "<Figure size 432x288 with 2 Axes>"
      ]
     },
     "metadata": {
      "needs_background": "light"
     },
     "output_type": "display_data"
    },
    {
     "name": "stdout",
     "output_type": "stream",
     "text": [
      "[RandomForestClassifier(class_weight='balanced', max_depth=10,\n",
      "                       min_samples_split=10, n_estimators=200, random_state=0), 0.6492436974789916, 0.6322926093514328, 0.575, 0.5998504832208947, 0.6439327485380117]\n",
      "[0.56, 0.5579941860465116, 0.56, 0.5581010609602589, 0.5553571428571429]\n",
      "svc \n",
      "\n",
      "gnb 99\n",
      "\n",
      "lr 999\n",
      "\n",
      "rf 999\n",
      "\n",
      "dt 999\n",
      "\n",
      "+---------------------+----------------+----------------+----------------+----------------+----------------+\n",
      "|        Model        |    Accuracy    |   Precision    |     Recall     |    F1 Score    |      Auc       |\n",
      "+---------------------+----------------+----------------+----------------+----------------+----------------+\n",
      "|     Naive Bayes     | (54.41, 67.44) | (53.82, 76.63) | (54.41, 67.44) | (51.6, 63.72)  | (53.07, 64.17) |\n",
      "|     Decison Tree    | (43.84, 66.19) | (44.15, 72.53) | (43.84, 66.19) | (37.45, 64.97) | (45.81, 64.87) |\n",
      "|    Random Forest    | (56.92, 71.43) | (57.21, 71.82) | (56.92, 71.43) | (56.22, 71.3)  | (56.97, 71.19) |\n",
      "| Logistic Regression | (44.78, 58.02) | (44.97, 58.31) | (44.78, 58.02) | (44.48, 57.92) | (44.68, 57.94) |\n",
      "|         SVM         | (49.63, 66.67) | (49.63, 73.21) | (49.63, 66.67) | (48.41, 65.91) | (49.23, 65.67) |\n",
      "+---------------------+----------------+----------------+----------------+----------------+----------------+\n"
     ]
    }
   ],
   "source": [
    "from matplotlib import pyplot as plt\n",
    "import seaborn as sns\n",
    "from sklearn.svm import SVC\n",
    "from sklearn.naive_bayes import GaussianNB\n",
    "from sklearn.linear_model import LogisticRegression\n",
    "from sklearn.tree import DecisionTreeClassifier\n",
    "from sklearn.ensemble import RandomForestClassifier\n",
    "from xgboost import XGBClassifier\n",
    "from sklearn.neighbors import KNeighborsClassifier\n",
    "from sklearn.ensemble import GradientBoostingClassifier\n",
    "from sklearn.model_selection import GridSearchCV, cross_val_score, KFold, cross_validate, StratifiedKFold\n",
    "from sklearn.metrics import roc_curve, auc\n",
    "import numpy as np\n",
    "np.random.seed(0)\n",
    "import warnings\n",
    "warnings.simplefilter('ignore')\n",
    "from sklearn.metrics import accuracy_score,f1_score,roc_auc_score,make_scorer,precision_score,recall_score\n",
    "print(__doc__)\n",
    "cv_dict={}\n",
    "test_dict={}\n",
    "\n",
    "# Choose cross-validation techniques for the inner and outer loops,\n",
    "# independently of the dataset.\n",
    "\n",
    "# E.g \"GroupKFold\", \"LeaveOneOut\", \"LeaveOneGroupOut\", etc.\n",
    "\n",
    "scoring={'Accuracy':make_scorer(accuracy_score),'Precision':make_scorer(precision_score),'Recall':make_scorer(recall_score),'F1 Score':make_scorer(f1_score),'AUC':make_scorer(roc_auc_score)}\n",
    "\n",
    "inner_cv = StratifiedKFold(n_splits=5, shuffle=True, random_state=0)\n",
    "outer_cv = StratifiedKFold(n_splits=5, shuffle=True, random_state=0)\n",
    "\n",
    "mts=['svc','gnb','lr','dt','rf']\n",
    "# Set up possible values of parameters to optimize over\n",
    "p_grids=[[] for i in range(5)]\n",
    "p_grids[0] = {\"C\": [1, 10, 100, 1000, 10000],\"gamma\": [.0001, .001, .01, .1, .2, .5]}\n",
    "p_grids[1]={'var_smoothing': np.logspace(0,-9, num=100)}\n",
    "p_grids[2]={\"C\": [1, 10, 100, 1000, 10000],\"fit_intercept\":[True,False],\"penalty\":['l1', 'l2']}\n",
    "p_grids[3]={'criterion':['gini','entropy'],'max_depth':  [1, 5, 10, 50], \"min_samples_split\": [5, 10, 100, 500]}\n",
    "p_grids[4] = { 'n_estimators': [100,200],'max_features': ['auto', 'sqrt', 'log2'],'max_depth': [3, 5, 10],'min_samples_split': [2, 5, 10],'criterion' :['gini', 'entropy']}\n",
    "#p_grids[5]= {'max_depth':  [4,5,6,7,8], \"n_estimators\": [10, 20,50,70,100,150] }\n",
    "k_range = list(range(1, 31))\n",
    "weight_options = ['uniform', 'distance']\n",
    "#p_grids[6] = dict(n_neighbors=k_range, weights=weight_options)\n",
    "#p_grid = {\"loss\":[\"deviance\"],\"learning_rate\": [0.01, 0.025, 0.05, 0.075, 0.1, 0.15, 0.2],\"min_samples_split\": np.linspace(0.1, 0.5, 12),\"min_samples_leaf\": np.linspace(0.1, 0.5, 12),\"max_depth\":[3,5,8],\"max_features\":[\"log2\",\"sqrt\"],\"criterion\": [\"friedman_mse\",  \"mae\"],\"subsample\":[0.5, 0.8, 0.85, 0.9, 0.95, 1.0],\"n_estimators\":[10]}\n",
    "\n",
    "# ML model\n",
    "models=[[] for i in range(5)]\n",
    "models[0] = SVC(kernel=\"rbf\",random_state=0,class_weight='balanced',probability=True)\n",
    "models[1]=GaussianNB()\n",
    "models[2]=LogisticRegression(random_state=0,solver='liblinear',max_iter=500,class_weight='balanced')\n",
    "models[3]=DecisionTreeClassifier(random_state=0,class_weight='balanced')\n",
    "models[4]=RandomForestClassifier(random_state=0,class_weight='balanced')\n",
    "#models[5]=XGBClassifier(random_state=0,class_weight='balanced',probability=True)\n",
    "#models[6]=KNeighborsClassifier()\n",
    "#model=GradientBoostingClassifier(random_state=0)\n",
    "\n",
    "#data=pd.read_csv('../dataset/covid_survey_data_sg.csv')\n",
    "data=df[taste+label]\n",
    "values=data.values\n",
    "X=data.iloc[:, 0 : -1]\n",
    "Y=list(values[:,-1])\n",
    "Y=[0 if val=='Non-COVID' else 1 for val in Y]\n",
    "from sklearn.model_selection import train_test_split\n",
    "X_train, X_test, Y_train, Y_test = train_test_split(X, Y, stratify= Y,  random_state = 0,test_size = 0.3)\n",
    "#X_train,X_test=standarize(X_train,X_test)\n",
    "st_scale=StandardScaler().fit(X_train)\n",
    "X_train=pd.DataFrame(st_scale.transform(X_train), index=X_train.index, columns=X_train.columns)\n",
    "X_test=pd.DataFrame(st_scale.transform(X_test), index=X_test.index, columns=X_test.columns)\n",
    "\n",
    "for i in range(5):\n",
    "    mt=mts[i]\n",
    "    print(mt)\n",
    "    p_grid=p_grids[i]\n",
    "    model=models[i]\n",
    "    clf = GridSearchCV(estimator=model, param_grid=p_grid, cv=inner_cv,scoring=scoring,refit='AUC')\n",
    "    clf.fit(X_train, Y_train)\n",
    "\n",
    "    # Nested CV with parameter optimization\n",
    "    nested_cvscore = cross_validate(clf, X=X_train, y=Y_train, cv=outer_cv,scoring=scoring)\n",
    "    cv_dict[mt]=[clf.best_estimator_,nested_cvscore['test_Accuracy'].mean(),nested_cvscore['test_Precision'].mean(),nested_cvscore['test_Recall'].mean(),nested_cvscore['test_F1 Score'].mean(),nested_cvscore['test_AUC'].mean()]\n",
    "\n",
    "\n",
    "    model=cv_dict[mt][0]\n",
    "    model.fit(X_train,Y_train)\n",
    "    Y_pred=model.predict(X_test)\n",
    "    from sklearn.metrics import confusion_matrix\n",
    "    cm=confusion_matrix(Y_test,Y_pred)\n",
    "\n",
    "    import seaborn as sns\n",
    "    import matplotlib.pyplot as plt     \n",
    "\n",
    "    sns.heatmap(cm, annot=True,fmt=\"d\",cmap='Blues')\n",
    "    plt.title('confusion Matrix')\n",
    "    plt.ylabel(\"Actual 'y'\", fontdict= {'fontsize' : 14})\n",
    "    plt.xlabel(\"predicted 'y'\", fontdict= {'fontsize' : 14})\n",
    "    plt.show()\n",
    "\n",
    "    test_dict[mt]=evaluation_metrics(Y_test,Y_pred)\n",
    "    #evaluation_metrics(Y_test,Y_pred)\n",
    "    print(cv_dict[mt])\n",
    "    print(test_dict[mt])\n",
    "\n",
    "#     import pickle\n",
    "#     with open('../dataset/cv_dict_sel_pstd_t','wb') as f:\n",
    "#         pickle.dump(cv_dict,f)\n",
    "#     with open('../dataset/test_dict_sel_pstd_t','wb') as f:\n",
    "#         pickle.dump(test_dict,f)\n",
    "        \n",
    "import numpy\n",
    "from pandas import read_csv\n",
    "from sklearn.utils import resample\n",
    "from sklearn.tree import DecisionTreeClassifier\n",
    "from sklearn.metrics import accuracy_score\n",
    "from matplotlib import pyplot\n",
    "# load dataset\n",
    "#data = read_csv('../dataset/covid_survey_data40.csv')\n",
    "#values = data.values[:,1:]\n",
    "values=data.values\n",
    "# configure bootstrap\n",
    "n_iterations = 1000\n",
    "n_size = int(len(data) * 0.50)\n",
    "clfs=['svc','gnb','lr','rf','dt']\n",
    "stats_dict = {}\n",
    "# with open('../dataset/cv_dict_sel_pstd_t','rb') as f:\n",
    "#     cv_dict=pickle.load(f)\n",
    "for i in range(5):\n",
    "    clf=clfs[i]\n",
    "    print(clf,'\\n')\n",
    "    # run bootstrap\n",
    "    acc_stats = []\n",
    "    pre_stats = []\n",
    "    rec_stats = []\n",
    "    f1_stats = []\n",
    "    auc_stats = []\n",
    "    for i in range(n_iterations):\n",
    "        print('i=',i,end='\\r')\n",
    "        # prepare train and test sets\n",
    "        train = resample(values, stratify=values[:,-1],n_samples=n_size)\n",
    "        test = numpy.array([x for x in values if x.tolist() not in train.tolist()])\n",
    "        train[:,-1]=np.array([0 if val=='Non-COVID' else 1 for val in list(train[:,-1])])\n",
    "        test[:,-1]=np.array([0 if val=='Non-COVID' else 1 for val in list(test[:,-1])])\n",
    "        X_train=pd.DataFrame(train[:,:-1])\n",
    "        #X_train.columns=colnames[:-1]\n",
    "        X_test=pd.DataFrame(test[:,:-1])\n",
    "        #X_test.columns=colnames[:-1]\n",
    "        \n",
    "        st_scale=StandardScaler().fit(X_train)\n",
    "        X_train=pd.DataFrame(st_scale.transform(X_train), index=X_train.index, columns=X_train.columns)\n",
    "        X_test=pd.DataFrame(st_scale.transform(X_test), index=X_test.index, columns=X_test.columns)\n",
    "\n",
    "        Y_train=list(train[:,-1])\n",
    "        Y_test=list(test[:,-1])\n",
    "        #X_train,X_test=standarize(X_train,X_test)\n",
    "        # fit model\n",
    "        model = cv_dict[clf][0]\n",
    "        model.fit(X_train, Y_train)\n",
    "        # evaluate model\n",
    "        predictions = model.predict(X_test)\n",
    "        acc_stats.append(accuracy_score(Y_test, predictions))\n",
    "        pre_stats.append(precision_score(Y_test, predictions,average='weighted'))\n",
    "        rec_stats.append(recall_score(Y_test, predictions,average='weighted'))\n",
    "        f1_stats.append(f1_score(Y_test, predictions,average='weighted'))\n",
    "        #atest=[0 if val=='Non-COVID' else 1 for val in list(Y_test)]\n",
    "        #apred=[0 if val=='Non-COVID' else 1 for val in list(predictions)]\n",
    "        auc_stats.append(roc_auc_score(Y_test, predictions,average='weighted'))\n",
    "        #print('i=',i,' score=',score,' train shape= ',np.shape(train),' test shape= ',np.shape(test),' train ratio=',list(train[:,-1]).count('Non-COVID')/list(train[:,-1]).count('Positive'),' test_ratio=',list(test[:,-1]).count('Non-COVID')/list(test[:,-1]).count('Positive'),end='\\r')\n",
    "    # plot scores\n",
    "    #pyplot.hist(stats)\n",
    "    #pyplot.show()\n",
    "    # confidence intervals\n",
    "    alpha = 0.95\n",
    "    p = ((1.0-alpha)/2.0) * 100\n",
    "    acc_lower = max(0.0, numpy.percentile(acc_stats, p))\n",
    "    pre_lower = max(0.0, numpy.percentile(pre_stats, p))\n",
    "    rec_lower = max(0.0, numpy.percentile(rec_stats, p))\n",
    "    f1_lower = max(0.0, numpy.percentile(f1_stats, p))\n",
    "    auc_lower = max(0.0, numpy.percentile(auc_stats, p))\n",
    "    p = (alpha+((1.0-alpha)/2.0)) * 100\n",
    "    acc_upper = min(1.0, numpy.percentile(acc_stats, p))\n",
    "    pre_upper = min(1.0, numpy.percentile(pre_stats, p))\n",
    "    rec_upper = min(1.0, numpy.percentile(rec_stats, p))\n",
    "    f1_upper = min(1.0, numpy.percentile(f1_stats, p))\n",
    "    auc_upper = min(1.0, numpy.percentile(auc_stats, p))\n",
    "    stats_dict[clf]=[(round(acc_lower*100,2),round(acc_upper*100,2)),(round(pre_lower*100,2),round(pre_upper*100,2)),(round(rec_lower*100,2),round(rec_upper*100,2)),(round(f1_lower*100,2),round(f1_upper*100,2)),(round(auc_lower*100,2),round(auc_upper*100,2))]\n",
    "    #print('%.1f confidence interval %.1f%% and %.1f%%' % (alpha*100, lower*100, upper*100))\n",
    "# with open('../dataset/stats_sel_pstd_dict_t','wb') as f:\n",
    "#     pickle.dump(stats_dict,f)\n",
    "    \n",
    "\n",
    "\n",
    "from prettytable import PrettyTable\n",
    "#generic\n",
    "x = PrettyTable()\n",
    "x.field_names = [ \"Model\", 'Accuracy', 'Precision', 'Recall', 'F1 Score', 'Auc']\n",
    "x.add_row(['Naive Bayes']+stats_dict['gnb'])\n",
    "x.add_row(['Decison Tree']+stats_dict['dt'])\n",
    "x.add_row(['Random Forest']+stats_dict['rf'])\n",
    "x.add_row(['Logistic Regression']+stats_dict['lr'])\n",
    "x.add_row(['SVM']+stats_dict['svc'])\n",
    "print(x)"
   ]
  },
  {
   "cell_type": "markdown",
   "metadata": {},
   "source": [
    "### Taste+Smell"
   ]
  },
  {
   "cell_type": "code",
   "execution_count": 28,
   "metadata": {},
   "outputs": [
    {
     "name": "stdout",
     "output_type": "stream",
     "text": [
      "Automatically created module for IPython interactive environment\n",
      "svc\n"
     ]
    },
    {
     "data": {
      "image/png": "[encoded data removed]",
      "text/plain": [
       "<Figure size 432x288 with 2 Axes>"
      ]
     },
     "metadata": {
      "needs_background": "light"
     },
     "output_type": "display_data"
    },
    {
     "name": "stdout",
     "output_type": "stream",
     "text": [
      "[SVC(C=1, class_weight='balanced', gamma=0.1, probability=True, random_state=0), 0.7472268907563024, 0.7176470588235294, 0.7625, 0.7383838383838384, 0.748501461988304]\n",
      "[0.6533333333333333, 0.6535732133933033, 0.6533333333333333, 0.6491763565891472, 0.6464285714285714]\n",
      "gnb\n"
     ]
    },
    {
     "data": {
      "image/png": "[encoded data removed]",
      "text/plain": [
       "<Figure size 432x288 with 2 Axes>"
      ]
     },
     "metadata": {
      "needs_background": "light"
     },
     "output_type": "display_data"
    },
    {
     "name": "stdout",
     "output_type": "stream",
     "text": [
      "[GaussianNB(var_smoothing=0.23101297000831597), 0.6433613445378151, 0.7555555555555556, 0.3625, 0.4818967698967699, 0.6221856725146199]\n",
      "[0.68, 0.7112781954887217, 0.68, 0.6592592592592592, 0.6642857142857144]\n",
      "lr\n"
     ]
    },
    {
     "data": {
      "image/png": "[encoded data removed]",
      "text/plain": [
       "<Figure size 432x288 with 2 Axes>"
      ]
     },
     "metadata": {
      "needs_background": "light"
     },
     "output_type": "display_data"
    },
    {
     "name": "stdout",
     "output_type": "stream",
     "text": [
      "[LogisticRegression(C=10, class_weight='balanced', max_iter=500, penalty='l1',\n",
      "                   random_state=0, solver='liblinear'), 0.6838655462184875, 0.67, 0.6875, 0.6626083506492633, 0.6829312865497077]\n",
      "[0.6133333333333333, 0.6141025641025641, 0.6133333333333333, 0.6136090806442028, 0.6125]\n",
      "dt\n"
     ]
    },
    {
     "data": {
      "image/png": "[encoded data removed]",
      "text/plain": [
       "<Figure size 432x288 with 2 Axes>"
      ]
     },
     "metadata": {
      "needs_background": "light"
     },
     "output_type": "display_data"
    },
    {
     "name": "stdout",
     "output_type": "stream",
     "text": [
      "[DecisionTreeClassifier(class_weight='balanced', criterion='entropy',\n",
      "                       max_depth=10, min_samples_split=5, random_state=0), 0.7588235294117648, 0.6995375752409, 0.85, 0.7646726854157195, 0.76593567251462]\n",
      "[0.68, 0.6797653958944281, 0.68, 0.677922077922078, 0.675]\n",
      "rf\n"
     ]
    },
    {
     "data": {
      "image/png": "[encoded data removed]",
      "text/plain": [
       "<Figure size 432x288 with 2 Axes>"
      ]
     },
     "metadata": {
      "needs_background": "light"
     },
     "output_type": "display_data"
    },
    {
     "name": "stdout",
     "output_type": "stream",
     "text": [
      "[RandomForestClassifier(class_weight='balanced', max_depth=5,\n",
      "                       min_samples_split=5, n_estimators=200, random_state=0), 0.7816806722689076, 0.7786435786435787, 0.7625, 0.7613488251059409, 0.7803728070175439]\n",
      "[0.72, 0.744082332761578, 0.72, 0.7076400679117147, 0.7071428571428571]\n",
      "svc \n",
      "\n",
      "gnb 99\n",
      "\n",
      "lr 999267335466621920994\n",
      "\n",
      "rf 999\n",
      "\n",
      "dt 999\n",
      "\n",
      "+---------------------+----------------+----------------+----------------+----------------+----------------+\n",
      "|        Model        |    Accuracy    |   Precision    |     Recall     |    F1 Score    |      Auc       |\n",
      "+---------------------+----------------+----------------+----------------+----------------+----------------+\n",
      "|     Naive Bayes     | (60.13, 72.92) | (59.79, 77.43) | (60.13, 72.92) | (58.93, 71.11) | (58.64, 70.56) |\n",
      "|     Decison Tree    | (59.57, 77.47) | (60.13, 77.69) | (59.57, 77.47) | (59.68, 77.49) | (59.66, 77.27) |\n",
      "|    Random Forest    | (67.38, 80.15) | (67.76, 80.83) | (67.38, 80.15) | (67.25, 79.87) | (67.06, 79.43) |\n",
      "| Logistic Regression | (52.48, 66.89) | (52.53, 67.63) | (52.48, 66.89) | (52.21, 66.7)  | (52.17, 66.91) |\n",
      "|         SVM         | (61.76, 76.06) | (62.45, 76.58) | (61.76, 76.06) | (60.99, 75.9)  | (60.97, 75.59) |\n",
      "+---------------------+----------------+----------------+----------------+----------------+----------------+\n"
     ]
    }
   ],
   "source": [
    "from matplotlib import pyplot as plt\n",
    "import seaborn as sns\n",
    "from sklearn.svm import SVC\n",
    "from sklearn.naive_bayes import GaussianNB\n",
    "from sklearn.linear_model import LogisticRegression\n",
    "from sklearn.tree import DecisionTreeClassifier\n",
    "from sklearn.ensemble import RandomForestClassifier\n",
    "from xgboost import XGBClassifier\n",
    "from sklearn.neighbors import KNeighborsClassifier\n",
    "from sklearn.ensemble import GradientBoostingClassifier\n",
    "from sklearn.model_selection import GridSearchCV, cross_val_score, KFold, cross_validate, StratifiedKFold\n",
    "from sklearn.metrics import roc_curve, auc\n",
    "import numpy as np\n",
    "np.random.seed(0)\n",
    "import warnings\n",
    "warnings.simplefilter('ignore')\n",
    "from sklearn.metrics import accuracy_score,f1_score,roc_auc_score,make_scorer,precision_score,recall_score\n",
    "print(__doc__)\n",
    "cv_dict={}\n",
    "test_dict={}\n",
    "\n",
    "# Choose cross-validation techniques for the inner and outer loops,\n",
    "# independently of the dataset.\n",
    "\n",
    "# E.g \"GroupKFold\", \"LeaveOneOut\", \"LeaveOneGroupOut\", etc.\n",
    "\n",
    "scoring={'Accuracy':make_scorer(accuracy_score),'Precision':make_scorer(precision_score),'Recall':make_scorer(recall_score),'F1 Score':make_scorer(f1_score),'AUC':make_scorer(roc_auc_score)}\n",
    "\n",
    "inner_cv = StratifiedKFold(n_splits=5, shuffle=True, random_state=0)\n",
    "outer_cv = StratifiedKFold(n_splits=5, shuffle=True, random_state=0)\n",
    "\n",
    "mts=['svc','gnb','lr','dt','rf']\n",
    "# Set up possible values of parameters to optimize over\n",
    "p_grids=[[] for i in range(5)]\n",
    "p_grids[0] = {\"C\": [1, 10, 100, 1000, 10000],\"gamma\": [.0001, .001, .01, .1, .2, .5]}\n",
    "p_grids[1]={'var_smoothing': np.logspace(0,-9, num=100)}\n",
    "p_grids[2]={\"C\": [1, 10, 100, 1000, 10000],\"fit_intercept\":[True,False],\"penalty\":['l1', 'l2']}\n",
    "p_grids[3]={'criterion':['gini','entropy'],'max_depth':  [1, 5, 10, 50], \"min_samples_split\": [5, 10, 100, 500]}\n",
    "p_grids[4] = { 'n_estimators': [100,200],'max_features': ['auto', 'sqrt', 'log2'],'max_depth': [3, 5, 10],'min_samples_split': [2, 5, 10],'criterion' :['gini', 'entropy']}\n",
    "#p_grids[5]= {'max_depth':  [4,5,6,7,8], \"n_estimators\": [10, 20,50,70,100,150] }\n",
    "k_range = list(range(1, 31))\n",
    "weight_options = ['uniform', 'distance']\n",
    "#p_grids[6] = dict(n_neighbors=k_range, weights=weight_options)\n",
    "#p_grid = {\"loss\":[\"deviance\"],\"learning_rate\": [0.01, 0.025, 0.05, 0.075, 0.1, 0.15, 0.2],\"min_samples_split\": np.linspace(0.1, 0.5, 12),\"min_samples_leaf\": np.linspace(0.1, 0.5, 12),\"max_depth\":[3,5,8],\"max_features\":[\"log2\",\"sqrt\"],\"criterion\": [\"friedman_mse\",  \"mae\"],\"subsample\":[0.5, 0.8, 0.85, 0.9, 0.95, 1.0],\"n_estimators\":[10]}\n",
    "\n",
    "# ML model\n",
    "models=[[] for i in range(5)]\n",
    "models[0] = SVC(kernel=\"rbf\",random_state=0,class_weight='balanced',probability=True)\n",
    "models[1]=GaussianNB()\n",
    "models[2]=LogisticRegression(random_state=0,solver='liblinear',max_iter=500,class_weight='balanced')\n",
    "models[3]=DecisionTreeClassifier(random_state=0,class_weight='balanced')\n",
    "models[4]=RandomForestClassifier(random_state=0,class_weight='balanced')\n",
    "#models[5]=XGBClassifier(random_state=0,class_weight='balanced',probability=True)\n",
    "#models[6]=KNeighborsClassifier()\n",
    "#model=GradientBoostingClassifier(random_state=0)\n",
    "\n",
    "#data=pd.read_csv('../dataset/covid_survey_data_sg.csv')\n",
    "data=df[smell+taste+label]\n",
    "values=data.values\n",
    "X=data.iloc[:, 0 : -1]\n",
    "Y=list(values[:,-1])\n",
    "Y=[0 if val=='Non-COVID' else 1 for val in Y]\n",
    "from sklearn.model_selection import train_test_split\n",
    "X_train, X_test, Y_train, Y_test = train_test_split(X, Y, stratify= Y,  random_state = 0,test_size = 0.3)\n",
    "#X_train,X_test=standarize(X_train,X_test)\n",
    "st_scale=StandardScaler().fit(X_train)\n",
    "X_train=pd.DataFrame(st_scale.transform(X_train), index=X_train.index, columns=X_train.columns)\n",
    "X_test=pd.DataFrame(st_scale.transform(X_test), index=X_test.index, columns=X_test.columns)\n",
    "\n",
    "for i in range(5):\n",
    "    mt=mts[i]\n",
    "    print(mt)\n",
    "    p_grid=p_grids[i]\n",
    "    model=models[i]\n",
    "    clf = GridSearchCV(estimator=model, param_grid=p_grid, cv=inner_cv,scoring=scoring,refit='AUC')\n",
    "    clf.fit(X_train, Y_train)\n",
    "\n",
    "    # Nested CV with parameter optimization\n",
    "    nested_cvscore = cross_validate(clf, X=X_train, y=Y_train, cv=outer_cv,scoring=scoring)\n",
    "    cv_dict[mt]=[clf.best_estimator_,nested_cvscore['test_Accuracy'].mean(),nested_cvscore['test_Precision'].mean(),nested_cvscore['test_Recall'].mean(),nested_cvscore['test_F1 Score'].mean(),nested_cvscore['test_AUC'].mean()]\n",
    "\n",
    "\n",
    "    model=cv_dict[mt][0]\n",
    "    model.fit(X_train,Y_train)\n",
    "    Y_pred=model.predict(X_test)\n",
    "    from sklearn.metrics import confusion_matrix\n",
    "    cm=confusion_matrix(Y_test,Y_pred)\n",
    "\n",
    "    import seaborn as sns\n",
    "    import matplotlib.pyplot as plt     \n",
    "\n",
    "    sns.heatmap(cm, annot=True,fmt=\"d\",cmap='Blues')\n",
    "    plt.title('confusion Matrix')\n",
    "    plt.ylabel(\"Actual 'y'\", fontdict= {'fontsize' : 14})\n",
    "    plt.xlabel(\"predicted 'y'\", fontdict= {'fontsize' : 14})\n",
    "    plt.show()\n",
    "\n",
    "    test_dict[mt]=evaluation_metrics(Y_test,Y_pred)\n",
    "    #evaluation_metrics(Y_test,Y_pred)\n",
    "    print(cv_dict[mt])\n",
    "    print(test_dict[mt])\n",
    "\n",
    "#     import pickle\n",
    "#     with open('../dataset/cv_dict_sel_pstd_t','wb') as f:\n",
    "#         pickle.dump(cv_dict,f)\n",
    "#     with open('../dataset/test_dict_sel_pstd_t','wb') as f:\n",
    "#         pickle.dump(test_dict,f)\n",
    "        \n",
    "import numpy\n",
    "from pandas import read_csv\n",
    "from sklearn.utils import resample\n",
    "from sklearn.tree import DecisionTreeClassifier\n",
    "from sklearn.metrics import accuracy_score\n",
    "from matplotlib import pyplot\n",
    "# load dataset\n",
    "#data = read_csv('../dataset/covid_survey_data40.csv')\n",
    "#values = data.values[:,1:]\n",
    "values=data.values\n",
    "# configure bootstrap\n",
    "n_iterations = 1000\n",
    "n_size = int(len(data) * 0.50)\n",
    "clfs=['svc','gnb','lr','rf','dt']\n",
    "stats_dict = {}\n",
    "# with open('../dataset/cv_dict_sel_pstd_t','rb') as f:\n",
    "#     cv_dict=pickle.load(f)\n",
    "for i in range(5):\n",
    "    clf=clfs[i]\n",
    "    print(clf,'\\n')\n",
    "    # run bootstrap\n",
    "    acc_stats = []\n",
    "    pre_stats = []\n",
    "    rec_stats = []\n",
    "    f1_stats = []\n",
    "    auc_stats = []\n",
    "    for i in range(n_iterations):\n",
    "        print('i=',i,end='\\r')\n",
    "        # prepare train and test sets\n",
    "        train = resample(values, stratify=values[:,-1],n_samples=n_size)\n",
    "        test = numpy.array([x for x in values if x.tolist() not in train.tolist()])\n",
    "        train[:,-1]=np.array([0 if val=='Non-COVID' else 1 for val in list(train[:,-1])])\n",
    "        test[:,-1]=np.array([0 if val=='Non-COVID' else 1 for val in list(test[:,-1])])\n",
    "        X_train=pd.DataFrame(train[:,:-1])\n",
    "        #X_train.columns=colnames[:-1]\n",
    "        X_test=pd.DataFrame(test[:,:-1])\n",
    "        #X_test.columns=colnames[:-1]\n",
    "        \n",
    "        st_scale=StandardScaler().fit(X_train)\n",
    "        X_train=pd.DataFrame(st_scale.transform(X_train), index=X_train.index, columns=X_train.columns)\n",
    "        X_test=pd.DataFrame(st_scale.transform(X_test), index=X_test.index, columns=X_test.columns)\n",
    "\n",
    "        Y_train=list(train[:,-1])\n",
    "        Y_test=list(test[:,-1])\n",
    "        #X_train,X_test=standarize(X_train,X_test)\n",
    "        # fit model\n",
    "        model = cv_dict[clf][0]\n",
    "        model.fit(X_train, Y_train)\n",
    "        # evaluate model\n",
    "        predictions = model.predict(X_test)\n",
    "        acc_stats.append(accuracy_score(Y_test, predictions))\n",
    "        pre_stats.append(precision_score(Y_test, predictions,average='weighted'))\n",
    "        rec_stats.append(recall_score(Y_test, predictions,average='weighted'))\n",
    "        f1_stats.append(f1_score(Y_test, predictions,average='weighted'))\n",
    "        #atest=[0 if val=='Non-COVID' else 1 for val in list(Y_test)]\n",
    "        #apred=[0 if val=='Non-COVID' else 1 for val in list(predictions)]\n",
    "        auc_stats.append(roc_auc_score(Y_test, predictions,average='weighted'))\n",
    "        #print('i=',i,' score=',score,' train shape= ',np.shape(train),' test shape= ',np.shape(test),' train ratio=',list(train[:,-1]).count('Non-COVID')/list(train[:,-1]).count('Positive'),' test_ratio=',list(test[:,-1]).count('Non-COVID')/list(test[:,-1]).count('Positive'),end='\\r')\n",
    "    # plot scores\n",
    "    #pyplot.hist(stats)\n",
    "    #pyplot.show()\n",
    "    # confidence intervals\n",
    "    alpha = 0.95\n",
    "    p = ((1.0-alpha)/2.0) * 100\n",
    "    acc_lower = max(0.0, numpy.percentile(acc_stats, p))\n",
    "    pre_lower = max(0.0, numpy.percentile(pre_stats, p))\n",
    "    rec_lower = max(0.0, numpy.percentile(rec_stats, p))\n",
    "    f1_lower = max(0.0, numpy.percentile(f1_stats, p))\n",
    "    auc_lower = max(0.0, numpy.percentile(auc_stats, p))\n",
    "    p = (alpha+((1.0-alpha)/2.0)) * 100\n",
    "    acc_upper = min(1.0, numpy.percentile(acc_stats, p))\n",
    "    pre_upper = min(1.0, numpy.percentile(pre_stats, p))\n",
    "    rec_upper = min(1.0, numpy.percentile(rec_stats, p))\n",
    "    f1_upper = min(1.0, numpy.percentile(f1_stats, p))\n",
    "    auc_upper = min(1.0, numpy.percentile(auc_stats, p))\n",
    "    stats_dict[clf]=[(round(acc_lower*100,2),round(acc_upper*100,2)),(round(pre_lower*100,2),round(pre_upper*100,2)),(round(rec_lower*100,2),round(rec_upper*100,2)),(round(f1_lower*100,2),round(f1_upper*100,2)),(round(auc_lower*100,2),round(auc_upper*100,2))]\n",
    "    #print('%.1f confidence interval %.1f%% and %.1f%%' % (alpha*100, lower*100, upper*100))\n",
    "# with open('../dataset/stats_sel_pstd_dict_t','wb') as f:\n",
    "#     pickle.dump(stats_dict,f)\n",
    "    \n",
    "\n",
    "\n",
    "from prettytable import PrettyTable\n",
    "#generic\n",
    "x = PrettyTable()\n",
    "x.field_names = [ \"Model\", 'Accuracy', 'Precision', 'Recall', 'F1 Score', 'Auc']\n",
    "x.add_row(['Naive Bayes']+stats_dict['gnb'])\n",
    "x.add_row(['Decison Tree']+stats_dict['dt'])\n",
    "x.add_row(['Random Forest']+stats_dict['rf'])\n",
    "x.add_row(['Logistic Regression']+stats_dict['lr'])\n",
    "x.add_row(['SVM']+stats_dict['svc'])\n",
    "print(x)"
   ]
  },
  {
   "cell_type": "markdown",
   "metadata": {},
   "source": [
    "### Generic+Smell+Taste"
   ]
  },
  {
   "cell_type": "code",
   "execution_count": 29,
   "metadata": {},
   "outputs": [],
   "source": [
    "def standarize(X_train,X_test):\n",
    "    X_train_num=X_train[list(X_train.columns.values[0:13])]\n",
    "    X_train_cat=X_train[list(X_train.columns.values[13:])]\n",
    "    #labels=list(X_train['Diagnosed'])\n",
    "\n",
    "\n",
    "    X_test_num=X_test[list(X_test.columns.values[0:13])]\n",
    "    X_test_cat=X_test[list(X_test.columns.values[13:])]\n",
    "    #labels=list(X_test['Diagnosed'])\n",
    "\n",
    "    st_scale=StandardScaler().fit(X_train_num)\n",
    "    X_train_num=pd.DataFrame(st_scale.transform(X_train_num), index=X_train_num.index, columns=X_train_num.columns)\n",
    "    X_test_num=pd.DataFrame(st_scale.transform(X_test_num), index=X_test_num.index, columns=X_test_num.columns)\n",
    "\n",
    "    X_train=pd.concat([X_train_num,X_train_cat],axis=1)\n",
    "    X_test=pd.concat([X_test_num,X_test_cat],axis=1)\n",
    "    return X_train,X_test"
   ]
  },
  {
   "cell_type": "code",
   "execution_count": 30,
   "metadata": {},
   "outputs": [
    {
     "name": "stdout",
     "output_type": "stream",
     "text": [
      "Automatically created module for IPython interactive environment\n",
      "svc\n"
     ]
    },
    {
     "data": {
      "image/png": "[encoded data removed]",
      "text/plain": [
       "<Figure size 432x288 with 2 Axes>"
      ]
     },
     "metadata": {
      "needs_background": "light"
     },
     "output_type": "display_data"
    },
    {
     "name": "stdout",
     "output_type": "stream",
     "text": [
      "[SVC(C=10, class_weight='balanced', gamma=0.001, probability=True,\n",
      "    random_state=0), 0.7640336134453782, 0.7815350877192981, 0.7125, 0.7342808661926309, 0.7597587719298246]\n",
      "[0.6, 0.5988455988455988, 0.6, 0.5989956958393113, 0.5964285714285714]\n",
      "gnb\n"
     ]
    },
    {
     "data": {
      "image/png": "[encoded data removed]",
      "text/plain": [
       "<Figure size 432x288 with 2 Axes>"
      ]
     },
     "metadata": {
      "needs_background": "light"
     },
     "output_type": "display_data"
    },
    {
     "name": "stdout",
     "output_type": "stream",
     "text": [
      "[GaussianNB(var_smoothing=8.111308307896873e-08), 0.6894117647058823, 0.7305378831694621, 0.5875, 0.6388834154351396, 0.6817616959064328]\n",
      "[0.64, 0.6457142857142858, 0.64, 0.64, 0.6428571428571428]\n",
      "lr\n"
     ]
    },
    {
     "data": {
      "image/png": "[encoded data removed]",
      "text/plain": [
       "<Figure size 432x288 with 2 Axes>"
      ]
     },
     "metadata": {
      "needs_background": "light"
     },
     "output_type": "display_data"
    },
    {
     "name": "stdout",
     "output_type": "stream",
     "text": [
      "[LogisticRegression(C=1, class_weight='balanced', fit_intercept=False,\n",
      "                   max_iter=500, random_state=0, solver='liblinear'), 0.7527731092436976, 0.7623577660729364, 0.7, 0.7233862433862434, 0.7482456140350877]\n",
      "[0.6533333333333333, 0.6533333333333333, 0.6533333333333333, 0.6533333333333333, 0.6517857142857144]\n",
      "dt\n"
     ]
    },
    {
     "data": {
      "image/png": "[encoded data removed]",
      "text/plain": [
       "<Figure size 432x288 with 2 Axes>"
      ]
     },
     "metadata": {
      "needs_background": "light"
     },
     "output_type": "display_data"
    },
    {
     "name": "stdout",
     "output_type": "stream",
     "text": [
      "[DecisionTreeClassifier(class_weight='balanced', max_depth=1,\n",
      "                       min_samples_split=5, random_state=0), 0.7870588235294118, 0.7943137254901961, 0.725, 0.753540008378718, 0.7820906432748538]\n",
      "[0.6533333333333333, 0.6525252525252525, 0.6533333333333333, 0.6524629363940697, 0.6499999999999999]\n",
      "rf\n"
     ]
    },
    {
     "data": {
      "image/png": "[encoded data removed]",
      "text/plain": [
       "<Figure size 432x288 with 2 Axes>"
      ]
     },
     "metadata": {
      "needs_background": "light"
     },
     "output_type": "display_data"
    },
    {
     "name": "stdout",
     "output_type": "stream",
     "text": [
      "[RandomForestClassifier(class_weight='balanced', max_depth=3,\n",
      "                       min_samples_split=5, n_estimators=200, random_state=0), 0.8215126050420167, 0.8743283032756717, 0.7375, 0.7889401148021837, 0.8149488304093568]\n",
      "[0.64, 0.6404255319148936, 0.64, 0.6344827586206897, 0.6321428571428571]\n",
      "svc \n",
      "\n",
      "gnb 997240245526634861\n",
      "\n",
      "lr 999\n",
      "\n",
      "rf 999\n",
      "\n",
      "dt 999\n",
      "\n",
      "+---------------------+----------------+----------------+----------------+----------------+----------------+\n",
      "|        Model        |    Accuracy    |   Precision    |     Recall     |    F1 Score    |      Auc       |\n",
      "+---------------------+----------------+----------------+----------------+----------------+----------------+\n",
      "|     Naive Bayes     | (49.67, 74.84) | (54.54, 76.34) | (49.67, 74.84) | (43.78, 74.56) | (52.04, 74.23) |\n",
      "|     Decison Tree    | (59.49, 77.5)  | (63.3, 79.13)  | (59.49, 77.5)  | (55.71, 77.47) | (58.1, 77.18)  |\n",
      "|    Random Forest    |  (68.0, 80.0)  | (68.68, 80.97) |  (68.0, 80.0)  | (66.95, 79.76) | (66.97, 79.38) |\n",
      "| Logistic Regression | (64.47, 76.43) | (64.63, 76.48) | (64.47, 76.43) | (64.45, 76.39) |  (64.3, 76.2)  |\n",
      "|         SVM         | (63.01, 78.06) | (64.94, 78.81) | (63.01, 78.06) | (59.98, 77.84) | (61.23, 77.31) |\n",
      "+---------------------+----------------+----------------+----------------+----------------+----------------+\n"
     ]
    }
   ],
   "source": [
    "from matplotlib import pyplot as plt\n",
    "import seaborn as sns\n",
    "from sklearn.svm import SVC\n",
    "from sklearn.naive_bayes import GaussianNB\n",
    "from sklearn.linear_model import LogisticRegression\n",
    "from sklearn.tree import DecisionTreeClassifier\n",
    "from sklearn.ensemble import RandomForestClassifier\n",
    "from xgboost import XGBClassifier\n",
    "from sklearn.neighbors import KNeighborsClassifier\n",
    "from sklearn.ensemble import GradientBoostingClassifier\n",
    "from sklearn.model_selection import GridSearchCV, cross_val_score, KFold, cross_validate, StratifiedKFold\n",
    "from sklearn.metrics import roc_curve, auc\n",
    "import numpy as np\n",
    "np.random.seed(0)\n",
    "import warnings\n",
    "warnings.simplefilter('ignore')\n",
    "from sklearn.metrics import accuracy_score,f1_score,roc_auc_score,make_scorer,precision_score,recall_score\n",
    "print(__doc__)\n",
    "cv_dict={}\n",
    "test_dict={}\n",
    "\n",
    "# Choose cross-validation techniques for the inner and outer loops,\n",
    "# independently of the dataset.\n",
    "\n",
    "# E.g \"GroupKFold\", \"LeaveOneOut\", \"LeaveOneGroupOut\", etc.\n",
    "\n",
    "scoring={'Accuracy':make_scorer(accuracy_score),'Precision':make_scorer(precision_score),'Recall':make_scorer(recall_score),'F1 Score':make_scorer(f1_score),'AUC':make_scorer(roc_auc_score)}\n",
    "\n",
    "inner_cv = StratifiedKFold(n_splits=5, shuffle=True, random_state=0)\n",
    "outer_cv = StratifiedKFold(n_splits=5, shuffle=True, random_state=0)\n",
    "\n",
    "mts=['svc','gnb','lr','dt','rf']\n",
    "# Set up possible values of parameters to optimize over\n",
    "p_grids=[[] for i in range(5)]\n",
    "p_grids[0] = {\"C\": [1, 10, 100, 1000, 10000],\"gamma\": [.0001, .001, .01, .1, .2, .5]}\n",
    "p_grids[1]={'var_smoothing': np.logspace(0,-9, num=100)}\n",
    "p_grids[2]={\"C\": [1, 10, 100, 1000, 10000],\"fit_intercept\":[True,False],\"penalty\":['l1', 'l2']}\n",
    "p_grids[3]={'criterion':['gini','entropy'],'max_depth':  [1, 5, 10, 50], \"min_samples_split\": [5, 10, 100, 500]}\n",
    "p_grids[4] = { 'n_estimators': [100,200],'max_features': ['auto', 'sqrt', 'log2'],'max_depth': [3, 5, 10],'min_samples_split': [2, 5, 10],'criterion' :['gini', 'entropy']}\n",
    "#p_grids[5]= {'max_depth':  [4,5,6,7,8], \"n_estimators\": [10, 20,50,70,100,150] }\n",
    "k_range = list(range(1, 31))\n",
    "weight_options = ['uniform', 'distance']\n",
    "#p_grids[6] = dict(n_neighbors=k_range, weights=weight_options)\n",
    "#p_grid = {\"loss\":[\"deviance\"],\"learning_rate\": [0.01, 0.025, 0.05, 0.075, 0.1, 0.15, 0.2],\"min_samples_split\": np.linspace(0.1, 0.5, 12),\"min_samples_leaf\": np.linspace(0.1, 0.5, 12),\"max_depth\":[3,5,8],\"max_features\":[\"log2\",\"sqrt\"],\"criterion\": [\"friedman_mse\",  \"mae\"],\"subsample\":[0.5, 0.8, 0.85, 0.9, 0.95, 1.0],\"n_estimators\":[10]}\n",
    "\n",
    "# ML model\n",
    "models=[[] for i in range(5)]\n",
    "models[0] = SVC(kernel=\"rbf\",random_state=0,class_weight='balanced',probability=True)\n",
    "models[1]=GaussianNB()\n",
    "models[2]=LogisticRegression(random_state=0,solver='liblinear',max_iter=500,class_weight='balanced')\n",
    "models[3]=DecisionTreeClassifier(random_state=0,class_weight='balanced')\n",
    "models[4]=RandomForestClassifier(random_state=0,class_weight='balanced')\n",
    "#models[5]=XGBClassifier(random_state=0,class_weight='balanced',probability=True)\n",
    "#models[6]=KNeighborsClassifier()\n",
    "#model=GradientBoostingClassifier(random_state=0)\n",
    "\n",
    "#data=pd.read_csv('../dataset/covid_survey_data_sg.csv')\n",
    "data=df[smell+taste+generic+label]\n",
    "values=data.values\n",
    "X=data.iloc[:, 0 : -1]\n",
    "Y=list(values[:,-1])\n",
    "Y=[0 if val=='Non-COVID' else 1 for val in Y]\n",
    "from sklearn.model_selection import train_test_split\n",
    "X_train, X_test, Y_train, Y_test = train_test_split(X, Y, stratify= Y,  random_state = 0,test_size = 0.3)\n",
    "X_train,X_test=standarize(X_train,X_test)\n",
    "#st_scale=StandardScaler().fit(X_train)\n",
    "#X_train=pd.DataFrame(st_scale.transform(X_train), index=X_train.index, columns=X_train.columns)\n",
    "#X_test=pd.DataFrame(st_scale.transform(X_test), index=X_test.index, columns=X_test.columns)\n",
    "\n",
    "for i in range(5):\n",
    "    mt=mts[i]\n",
    "    print(mt)\n",
    "    p_grid=p_grids[i]\n",
    "    model=models[i]\n",
    "    clf = GridSearchCV(estimator=model, param_grid=p_grid, cv=inner_cv,scoring=scoring,refit='AUC')\n",
    "    clf.fit(X_train, Y_train)\n",
    "\n",
    "    # Nested CV with parameter optimization\n",
    "    nested_cvscore = cross_validate(clf, X=X_train, y=Y_train, cv=outer_cv,scoring=scoring)\n",
    "    cv_dict[mt]=[clf.best_estimator_,nested_cvscore['test_Accuracy'].mean(),nested_cvscore['test_Precision'].mean(),nested_cvscore['test_Recall'].mean(),nested_cvscore['test_F1 Score'].mean(),nested_cvscore['test_AUC'].mean()]\n",
    "\n",
    "\n",
    "    model=cv_dict[mt][0]\n",
    "    model.fit(X_train,Y_train)\n",
    "    Y_pred=model.predict(X_test)\n",
    "    from sklearn.metrics import confusion_matrix\n",
    "    cm=confusion_matrix(Y_test,Y_pred)\n",
    "\n",
    "    import seaborn as sns\n",
    "    import matplotlib.pyplot as plt     \n",
    "\n",
    "    sns.heatmap(cm, annot=True,fmt=\"d\",cmap='Blues')\n",
    "    plt.title('confusion Matrix')\n",
    "    plt.ylabel(\"Actual 'y'\", fontdict= {'fontsize' : 14})\n",
    "    plt.xlabel(\"predicted 'y'\", fontdict= {'fontsize' : 14})\n",
    "    plt.show()\n",
    "\n",
    "    test_dict[mt]=evaluation_metrics(Y_test,Y_pred)\n",
    "    #evaluation_metrics(Y_test,Y_pred)\n",
    "    print(cv_dict[mt])\n",
    "    print(test_dict[mt])\n",
    "\n",
    "#     import pickle\n",
    "#     with open('../dataset/cv_dict_sel_pstd_t','wb') as f:\n",
    "#         pickle.dump(cv_dict,f)\n",
    "#     with open('../dataset/test_dict_sel_pstd_t','wb') as f:\n",
    "#         pickle.dump(test_dict,f)\n",
    "        \n",
    "import numpy\n",
    "from pandas import read_csv\n",
    "from sklearn.utils import resample\n",
    "from sklearn.tree import DecisionTreeClassifier\n",
    "from sklearn.metrics import accuracy_score\n",
    "from matplotlib import pyplot\n",
    "# load dataset\n",
    "#data = read_csv('../dataset/covid_survey_data40.csv')\n",
    "#values = data.values[:,1:]\n",
    "values=data.values\n",
    "# configure bootstrap\n",
    "n_iterations = 1000\n",
    "n_size = int(len(data) * 0.50)\n",
    "clfs=['svc','gnb','lr','rf','dt']\n",
    "stats_dict = {}\n",
    "# with open('../dataset/cv_dict_sel_pstd_t','rb') as f:\n",
    "#     cv_dict=pickle.load(f)\n",
    "for i in range(5):\n",
    "    clf=clfs[i]\n",
    "    print(clf,'\\n')\n",
    "    # run bootstrap\n",
    "    acc_stats = []\n",
    "    pre_stats = []\n",
    "    rec_stats = []\n",
    "    f1_stats = []\n",
    "    auc_stats = []\n",
    "    for i in range(n_iterations):\n",
    "        print('i=',i,end='\\r')\n",
    "        # prepare train and test sets\n",
    "        train = resample(values, stratify=values[:,-1],n_samples=n_size)\n",
    "        test = numpy.array([x for x in values if x.tolist() not in train.tolist()])\n",
    "        train[:,-1]=np.array([0 if val=='Non-COVID' else 1 for val in list(train[:,-1])])\n",
    "        test[:,-1]=np.array([0 if val=='Non-COVID' else 1 for val in list(test[:,-1])])\n",
    "        X_train=pd.DataFrame(train[:,:-1])\n",
    "        #X_train.columns=colnames[:-1]\n",
    "        X_test=pd.DataFrame(test[:,:-1])\n",
    "        #X_test.columns=colnames[:-1]\n",
    "        \n",
    "        #st_scale=StandardScaler().fit(X_train)\n",
    "        #X_train=pd.DataFrame(st_scale.transform(X_train), index=X_train.index, columns=X_train.columns)\n",
    "        #X_test=pd.DataFrame(st_scale.transform(X_test), index=X_test.index, columns=X_test.columns)\n",
    "\n",
    "        Y_train=list(train[:,-1])\n",
    "        Y_test=list(test[:,-1])\n",
    "        X_train,X_test=standarize(X_train,X_test)\n",
    "        # fit model\n",
    "        model = cv_dict[clf][0]\n",
    "        model.fit(X_train, Y_train)\n",
    "        # evaluate model\n",
    "        predictions = model.predict(X_test)\n",
    "        acc_stats.append(accuracy_score(Y_test, predictions))\n",
    "        pre_stats.append(precision_score(Y_test, predictions,average='weighted'))\n",
    "        rec_stats.append(recall_score(Y_test, predictions,average='weighted'))\n",
    "        f1_stats.append(f1_score(Y_test, predictions,average='weighted'))\n",
    "        #atest=[0 if val=='Non-COVID' else 1 for val in list(Y_test)]\n",
    "        #apred=[0 if val=='Non-COVID' else 1 for val in list(predictions)]\n",
    "        auc_stats.append(roc_auc_score(Y_test, predictions,average='weighted'))\n",
    "        #print('i=',i,' score=',score,' train shape= ',np.shape(train),' test shape= ',np.shape(test),' train ratio=',list(train[:,-1]).count('Non-COVID')/list(train[:,-1]).count('Positive'),' test_ratio=',list(test[:,-1]).count('Non-COVID')/list(test[:,-1]).count('Positive'),end='\\r')\n",
    "    # plot scores\n",
    "    #pyplot.hist(stats)\n",
    "    #pyplot.show()\n",
    "    # confidence intervals\n",
    "    alpha = 0.95\n",
    "    p = ((1.0-alpha)/2.0) * 100\n",
    "    acc_lower = max(0.0, numpy.percentile(acc_stats, p))\n",
    "    pre_lower = max(0.0, numpy.percentile(pre_stats, p))\n",
    "    rec_lower = max(0.0, numpy.percentile(rec_stats, p))\n",
    "    f1_lower = max(0.0, numpy.percentile(f1_stats, p))\n",
    "    auc_lower = max(0.0, numpy.percentile(auc_stats, p))\n",
    "    p = (alpha+((1.0-alpha)/2.0)) * 100\n",
    "    acc_upper = min(1.0, numpy.percentile(acc_stats, p))\n",
    "    pre_upper = min(1.0, numpy.percentile(pre_stats, p))\n",
    "    rec_upper = min(1.0, numpy.percentile(rec_stats, p))\n",
    "    f1_upper = min(1.0, numpy.percentile(f1_stats, p))\n",
    "    auc_upper = min(1.0, numpy.percentile(auc_stats, p))\n",
    "    stats_dict[clf]=[(round(acc_lower*100,2),round(acc_upper*100,2)),(round(pre_lower*100,2),round(pre_upper*100,2)),(round(rec_lower*100,2),round(rec_upper*100,2)),(round(f1_lower*100,2),round(f1_upper*100,2)),(round(auc_lower*100,2),round(auc_upper*100,2))]\n",
    "    #print('%.1f confidence interval %.1f%% and %.1f%%' % (alpha*100, lower*100, upper*100))\n",
    "# with open('../dataset/stats_sel_pstd_dict_t','wb') as f:\n",
    "#     pickle.dump(stats_dict,f)\n",
    "    \n",
    "\n",
    "\n",
    "from prettytable import PrettyTable\n",
    "#generic\n",
    "x = PrettyTable()\n",
    "x.field_names = [ \"Model\", 'Accuracy', 'Precision', 'Recall', 'F1 Score', 'Auc']\n",
    "x.add_row(['Naive Bayes']+stats_dict['gnb'])\n",
    "x.add_row(['Decison Tree']+stats_dict['dt'])\n",
    "x.add_row(['Random Forest']+stats_dict['rf'])\n",
    "x.add_row(['Logistic Regression']+stats_dict['lr'])\n",
    "x.add_row(['SVM']+stats_dict['svc'])\n",
    "print(x)"
   ]
  },
  {
   "cell_type": "code",
   "execution_count": null,
   "metadata": {},
   "outputs": [],
   "source": []
  },
  {
   "cell_type": "code",
   "execution_count": 31,
   "metadata": {},
   "outputs": [],
   "source": [
    "generic0=['No_smoke',\n",
    "       'Prefer_not_to_say_smoke', 'Yes_current_smoker', 'Yes_former smoker',\n",
    "       'contact_11_20', 'contact_21_50', 'contact_5_10',\n",
    "       'contact_less_5', 'contact_greater_50', 'contacts_none', 'Female',\n",
    "       'Seasonal allergies/hay fever', 'smell_disorder', 'taste_disorder',\n",
    "       'no_comorbity', 'Diabetes (high blood sugar)', 'Obesity',\n",
    "       'Chronic sinus problems', 'Other', 'High blood pressure', 'Head trauma',\n",
    "       'Dry mouth', 'Heart disease (heart attack)',\n",
    "       'Lung disease (asthma/COPD)', 'Neurological disease', 'Fever',\n",
    "       'Changes in food flavor', 'Changes in smell', 'Changes in taste',\n",
    "       'Headache', 'Fatigue', 'Body aches', 'Nausea', 'No symptoms',\n",
    "       'Runny nose', 'Cough with mucus', 'Dry cough', 'Sore throat',\n",
    "       'Skin sensitivity', 'Abdominal pain', 'Chest tightness', 'Diarrhea',\n",
    "       'dry_mouth_com', 'Loss of appetite', 'difficult_breathing']"
   ]
  },
  {
   "cell_type": "code",
   "execution_count": 32,
   "metadata": {},
   "outputs": [
    {
     "name": "stdout",
     "output_type": "stream",
     "text": [
      "45 54 8 5 67\n"
     ]
    }
   ],
   "source": [
    "print(len(generic0),len(generic),len(smell),len(taste),len(generic+smell+taste))"
   ]
  },
  {
   "cell_type": "code",
   "execution_count": 33,
   "metadata": {},
   "outputs": [
    {
     "name": "stdout",
     "output_type": "stream",
     "text": [
      "Automatically created module for IPython interactive environment\n",
      "svc\n"
     ]
    },
    {
     "data": {
      "image/png": "[encoded data removed]",
      "text/plain": [
       "<Figure size 432x288 with 2 Axes>"
      ]
     },
     "metadata": {
      "needs_background": "light"
     },
     "output_type": "display_data"
    },
    {
     "name": "stdout",
     "output_type": "stream",
     "text": [
      "[SVC(C=100, class_weight='balanced', gamma=0.001, probability=True,\n",
      "    random_state=0), 0.7411764705882353, 0.7383559577677224, 0.6875, 0.7079721887743874, 0.736732456140351]\n",
      "[0.6533333333333333, 0.6533333333333333, 0.6533333333333333, 0.6533333333333333, 0.6517857142857144]\n",
      "gnb\n"
     ]
    },
    {
     "data": {
      "image/png": "[encoded data removed]",
      "text/plain": [
       "<Figure size 432x288 with 2 Axes>"
      ]
     },
     "metadata": {
      "needs_background": "light"
     },
     "output_type": "display_data"
    },
    {
     "name": "stdout",
     "output_type": "stream",
     "text": [
      "[GaussianNB(var_smoothing=1.0), 0.7636974789915967, 0.7821245421245421, 0.675, 0.7240637745643308, 0.7570906432748538]\n",
      "[0.6533333333333333, 0.6525904203323557, 0.6533333333333333, 0.651082251082251, 0.6482142857142856]\n",
      "lr\n"
     ]
    },
    {
     "data": {
      "image/png": "[encoded data removed]",
      "text/plain": [
       "<Figure size 432x288 with 2 Axes>"
      ]
     },
     "metadata": {
      "needs_background": "light"
     },
     "output_type": "display_data"
    },
    {
     "name": "stdout",
     "output_type": "stream",
     "text": [
      "[LogisticRegression(C=1, class_weight='balanced', max_iter=500, random_state=0,\n",
      "                   solver='liblinear'), 0.7468907563025211, 0.7267686561804209, 0.725, 0.7226012662118139, 0.7449561403508772]\n",
      "[0.6533333333333333, 0.6575498575498576, 0.6533333333333333, 0.6535798956851588, 0.6553571428571429]\n",
      "dt\n"
     ]
    },
    {
     "data": {
      "image/png": "[encoded data removed]",
      "text/plain": [
       "<Figure size 432x288 with 2 Axes>"
      ]
     },
     "metadata": {
      "needs_background": "light"
     },
     "output_type": "display_data"
    },
    {
     "name": "stdout",
     "output_type": "stream",
     "text": [
      "[DecisionTreeClassifier(class_weight='balanced', max_depth=1,\n",
      "                       min_samples_split=5, random_state=0), 0.7870588235294118, 0.7899793601651186, 0.7375, 0.7566568914956012, 0.7827850877192983]\n",
      "[0.6533333333333333, 0.6525252525252525, 0.6533333333333333, 0.6524629363940697, 0.6499999999999999]\n",
      "rf\n"
     ]
    },
    {
     "data": {
      "image/png": "[encoded data removed]",
      "text/plain": [
       "<Figure size 432x288 with 2 Axes>"
      ]
     },
     "metadata": {
      "needs_background": "light"
     },
     "output_type": "display_data"
    },
    {
     "name": "stdout",
     "output_type": "stream",
     "text": [
      "[RandomForestClassifier(class_weight='balanced', criterion='entropy',\n",
      "                       max_depth=3, min_samples_split=5, n_estimators=200,\n",
      "                       random_state=0), 0.7642016806722689, 0.7707843137254903, 0.7, 0.7292975841362939, 0.7590643274853802]\n",
      "[0.6533333333333333, 0.6550023707918444, 0.6533333333333333, 0.6537037037037038, 0.6535714285714286]\n",
      "svc \n",
      "\n",
      "gnb 991298\n",
      "\n",
      "lr 999409\n",
      "\n",
      "rf 999\n",
      "\n",
      "dt 999\n",
      "\n",
      "+---------------------+----------------+----------------+----------------+----------------+----------------+\n",
      "|        Model        |    Accuracy    |   Precision    |     Recall     |    F1 Score    |      Auc       |\n",
      "+---------------------+----------------+----------------+----------------+----------------+----------------+\n",
      "|     Naive Bayes     | (56.56, 75.0)  | (59.5, 76.03)  | (56.56, 75.0)  | (51.07, 74.95) | (55.76, 74.54) |\n",
      "|     Decison Tree    | (54.1, 77.12)  | (57.88, 77.24) | (54.1, 77.12)  | (50.81, 77.07) | (54.57, 77.01) |\n",
      "|    Random Forest    | (63.2, 76.16)  | (63.43, 76.24) | (63.2, 76.16)  | (62.85, 76.15) | (63.26, 76.03) |\n",
      "| Logistic Regression | (59.68, 75.0)  | (60.0, 75.29)  | (59.68, 75.0)  | (59.6, 74.85)  | (59.63, 74.64) |\n",
      "|         SVM         | (62.39, 75.61) | (62.67, 75.88) | (62.39, 75.61) | (62.13, 75.56) | (62.27, 75.65) |\n",
      "+---------------------+----------------+----------------+----------------+----------------+----------------+\n"
     ]
    }
   ],
   "source": [
    "from matplotlib import pyplot as plt\n",
    "import seaborn as sns\n",
    "from sklearn.svm import SVC\n",
    "from sklearn.naive_bayes import GaussianNB\n",
    "from sklearn.linear_model import LogisticRegression\n",
    "from sklearn.tree import DecisionTreeClassifier\n",
    "from sklearn.ensemble import RandomForestClassifier\n",
    "from xgboost import XGBClassifier\n",
    "from sklearn.neighbors import KNeighborsClassifier\n",
    "from sklearn.ensemble import GradientBoostingClassifier\n",
    "from sklearn.model_selection import GridSearchCV, cross_val_score, KFold, cross_validate, StratifiedKFold\n",
    "from sklearn.metrics import roc_curve, auc\n",
    "import numpy as np\n",
    "np.random.seed(0)\n",
    "import warnings\n",
    "warnings.simplefilter('ignore')\n",
    "from sklearn.metrics import accuracy_score,f1_score,roc_auc_score,make_scorer,precision_score,recall_score\n",
    "print(__doc__)\n",
    "cv_dict={}\n",
    "test_dict={}\n",
    "\n",
    "# Choose cross-validation techniques for the inner and outer loops,\n",
    "# independently of the dataset.\n",
    "\n",
    "# E.g \"GroupKFold\", \"LeaveOneOut\", \"LeaveOneGroupOut\", etc.\n",
    "\n",
    "scoring={'Accuracy':make_scorer(accuracy_score),'Precision':make_scorer(precision_score),'Recall':make_scorer(recall_score),'F1 Score':make_scorer(f1_score),'AUC':make_scorer(roc_auc_score)}\n",
    "\n",
    "inner_cv = StratifiedKFold(n_splits=5, shuffle=True, random_state=0)\n",
    "outer_cv = StratifiedKFold(n_splits=5, shuffle=True, random_state=0)\n",
    "\n",
    "mts=['svc','gnb','lr','dt','rf']\n",
    "# Set up possible values of parameters to optimize over\n",
    "p_grids=[[] for i in range(5)]\n",
    "p_grids[0] = {\"C\": [1, 10, 100, 1000, 10000],\"gamma\": [.0001, .001, .01, .1, .2, .5]}\n",
    "p_grids[1]={'var_smoothing': np.logspace(0,-9, num=100)}\n",
    "p_grids[2]={\"C\": [1, 10, 100, 1000, 10000],\"fit_intercept\":[True,False],\"penalty\":['l1', 'l2']}\n",
    "p_grids[3]={'criterion':['gini','entropy'],'max_depth':  [1, 5, 10, 50], \"min_samples_split\": [5, 10, 100, 500]}\n",
    "p_grids[4] = { 'n_estimators': [100,200],'max_features': ['auto', 'sqrt', 'log2'],'max_depth': [3, 5, 10],'min_samples_split': [2, 5, 10],'criterion' :['gini', 'entropy']}\n",
    "#p_grids[5]= {'max_depth':  [4,5,6,7,8], \"n_estimators\": [10, 20,50,70,100,150] }\n",
    "k_range = list(range(1, 31))\n",
    "weight_options = ['uniform', 'distance']\n",
    "#p_grids[6] = dict(n_neighbors=k_range, weights=weight_options)\n",
    "#p_grid = {\"loss\":[\"deviance\"],\"learning_rate\": [0.01, 0.025, 0.05, 0.075, 0.1, 0.15, 0.2],\"min_samples_split\": np.linspace(0.1, 0.5, 12),\"min_samples_leaf\": np.linspace(0.1, 0.5, 12),\"max_depth\":[3,5,8],\"max_features\":[\"log2\",\"sqrt\"],\"criterion\": [\"friedman_mse\",  \"mae\"],\"subsample\":[0.5, 0.8, 0.85, 0.9, 0.95, 1.0],\"n_estimators\":[10]}\n",
    "\n",
    "# ML model\n",
    "models=[[] for i in range(5)]\n",
    "models[0] = SVC(kernel=\"rbf\",random_state=0,class_weight='balanced',probability=True)\n",
    "models[1]=GaussianNB()\n",
    "models[2]=LogisticRegression(random_state=0,solver='liblinear',max_iter=500,class_weight='balanced')\n",
    "models[3]=DecisionTreeClassifier(random_state=0,class_weight='balanced')\n",
    "models[4]=RandomForestClassifier(random_state=0,class_weight='balanced')\n",
    "#models[5]=XGBClassifier(random_state=0,class_weight='balanced',probability=True)\n",
    "#models[6]=KNeighborsClassifier()\n",
    "#model=GradientBoostingClassifier(random_state=0)\n",
    "\n",
    "#data=pd.read_csv('../dataset/covid_survey_data_sg.csv')\n",
    "data=df[generic0+label]\n",
    "values=data.values\n",
    "X=data.iloc[:, 0 : -1]\n",
    "Y=list(values[:,-1])\n",
    "Y=[0 if val=='Non-COVID' else 1 for val in Y]\n",
    "from sklearn.model_selection import train_test_split\n",
    "X_train, X_test, Y_train, Y_test = train_test_split(X, Y, stratify= Y,  random_state = 0,test_size = 0.3)\n",
    "#X_train,X_test=standarize(X_train,X_test)\n",
    "#st_scale=StandardScaler().fit(X_train)\n",
    "#X_train=pd.DataFrame(st_scale.transform(X_train), index=X_train.index, columns=X_train.columns)\n",
    "#X_test=pd.DataFrame(st_scale.transform(X_test), index=X_test.index, columns=X_test.columns)\n",
    "\n",
    "for i in range(5):\n",
    "    mt=mts[i]\n",
    "    print(mt)\n",
    "    p_grid=p_grids[i]\n",
    "    model=models[i]\n",
    "    clf = GridSearchCV(estimator=model, param_grid=p_grid, cv=inner_cv,scoring=scoring,refit='AUC')\n",
    "    clf.fit(X_train, Y_train)\n",
    "\n",
    "    # Nested CV with parameter optimization\n",
    "    nested_cvscore = cross_validate(clf, X=X_train, y=Y_train, cv=outer_cv,scoring=scoring)\n",
    "    cv_dict[mt]=[clf.best_estimator_,nested_cvscore['test_Accuracy'].mean(),nested_cvscore['test_Precision'].mean(),nested_cvscore['test_Recall'].mean(),nested_cvscore['test_F1 Score'].mean(),nested_cvscore['test_AUC'].mean()]\n",
    "\n",
    "\n",
    "    model=cv_dict[mt][0]\n",
    "    model.fit(X_train,Y_train)\n",
    "    Y_pred=model.predict(X_test)\n",
    "    from sklearn.metrics import confusion_matrix\n",
    "    cm=confusion_matrix(Y_test,Y_pred)\n",
    "\n",
    "    import seaborn as sns\n",
    "    import matplotlib.pyplot as plt     \n",
    "\n",
    "    sns.heatmap(cm, annot=True,fmt=\"d\",cmap='Blues')\n",
    "    plt.title('confusion Matrix')\n",
    "    plt.ylabel(\"Actual 'y'\", fontdict= {'fontsize' : 14})\n",
    "    plt.xlabel(\"predicted 'y'\", fontdict= {'fontsize' : 14})\n",
    "    plt.show()\n",
    "\n",
    "    test_dict[mt]=evaluation_metrics(Y_test,Y_pred)\n",
    "    #evaluation_metrics(Y_test,Y_pred)\n",
    "    print(cv_dict[mt])\n",
    "    print(test_dict[mt])\n",
    "\n",
    "#     import pickle\n",
    "#     with open('../dataset/cv_dict_sel_pstd_t','wb') as f:\n",
    "#         pickle.dump(cv_dict,f)\n",
    "#     with open('../dataset/test_dict_sel_pstd_t','wb') as f:\n",
    "#         pickle.dump(test_dict,f)\n",
    "        \n",
    "import numpy\n",
    "from pandas import read_csv\n",
    "from sklearn.utils import resample\n",
    "from sklearn.tree import DecisionTreeClassifier\n",
    "from sklearn.metrics import accuracy_score\n",
    "from matplotlib import pyplot\n",
    "# load dataset\n",
    "#data = read_csv('../dataset/covid_survey_data40.csv')\n",
    "#values = data.values[:,1:]\n",
    "values=data.values\n",
    "# configure bootstrap\n",
    "n_iterations = 1000\n",
    "n_size = int(len(data) * 0.50)\n",
    "clfs=['svc','gnb','lr','rf','dt']\n",
    "stats_dict = {}\n",
    "# with open('../dataset/cv_dict_sel_pstd_t','rb') as f:\n",
    "#     cv_dict=pickle.load(f)\n",
    "for i in range(5):\n",
    "    clf=clfs[i]\n",
    "    print(clf,'\\n')\n",
    "    # run bootstrap\n",
    "    acc_stats = []\n",
    "    pre_stats = []\n",
    "    rec_stats = []\n",
    "    f1_stats = []\n",
    "    auc_stats = []\n",
    "    for i in range(n_iterations):\n",
    "        print('i=',i,end='\\r')\n",
    "        # prepare train and test sets\n",
    "        train = resample(values, stratify=values[:,-1],n_samples=n_size)\n",
    "        test = numpy.array([x for x in values if x.tolist() not in train.tolist()])\n",
    "        train[:,-1]=np.array([0 if val=='Non-COVID' else 1 for val in list(train[:,-1])])\n",
    "        test[:,-1]=np.array([0 if val=='Non-COVID' else 1 for val in list(test[:,-1])])\n",
    "        X_train=pd.DataFrame(train[:,:-1])\n",
    "        #X_train.columns=colnames[:-1]\n",
    "        X_test=pd.DataFrame(test[:,:-1])\n",
    "        #X_test.columns=colnames[:-1]\n",
    "        \n",
    "        #st_scale=StandardScaler().fit(X_train)\n",
    "        #X_train=pd.DataFrame(st_scale.transform(X_train), index=X_train.index, columns=X_train.columns)\n",
    "        #X_test=pd.DataFrame(st_scale.transform(X_test), index=X_test.index, columns=X_test.columns)\n",
    "\n",
    "        Y_train=list(train[:,-1])\n",
    "        Y_test=list(test[:,-1])\n",
    "        #X_train,X_test=standarize(X_train,X_test)\n",
    "        # fit model\n",
    "        model = cv_dict[clf][0]\n",
    "        model.fit(X_train, Y_train)\n",
    "        # evaluate model\n",
    "        predictions = model.predict(X_test)\n",
    "        acc_stats.append(accuracy_score(Y_test, predictions))\n",
    "        pre_stats.append(precision_score(Y_test, predictions,average='weighted'))\n",
    "        rec_stats.append(recall_score(Y_test, predictions,average='weighted'))\n",
    "        f1_stats.append(f1_score(Y_test, predictions,average='weighted'))\n",
    "        #atest=[0 if val=='Non-COVID' else 1 for val in list(Y_test)]\n",
    "        #apred=[0 if val=='Non-COVID' else 1 for val in list(predictions)]\n",
    "        auc_stats.append(roc_auc_score(Y_test, predictions,average='weighted'))\n",
    "        #print('i=',i,' score=',score,' train shape= ',np.shape(train),' test shape= ',np.shape(test),' train ratio=',list(train[:,-1]).count('Non-COVID')/list(train[:,-1]).count('Positive'),' test_ratio=',list(test[:,-1]).count('Non-COVID')/list(test[:,-1]).count('Positive'),end='\\r')\n",
    "    # plot scores\n",
    "    #pyplot.hist(stats)\n",
    "    #pyplot.show()\n",
    "    # confidence intervals\n",
    "    alpha = 0.95\n",
    "    p = ((1.0-alpha)/2.0) * 100\n",
    "    acc_lower = max(0.0, numpy.percentile(acc_stats, p))\n",
    "    pre_lower = max(0.0, numpy.percentile(pre_stats, p))\n",
    "    rec_lower = max(0.0, numpy.percentile(rec_stats, p))\n",
    "    f1_lower = max(0.0, numpy.percentile(f1_stats, p))\n",
    "    auc_lower = max(0.0, numpy.percentile(auc_stats, p))\n",
    "    p = (alpha+((1.0-alpha)/2.0)) * 100\n",
    "    acc_upper = min(1.0, numpy.percentile(acc_stats, p))\n",
    "    pre_upper = min(1.0, numpy.percentile(pre_stats, p))\n",
    "    rec_upper = min(1.0, numpy.percentile(rec_stats, p))\n",
    "    f1_upper = min(1.0, numpy.percentile(f1_stats, p))\n",
    "    auc_upper = min(1.0, numpy.percentile(auc_stats, p))\n",
    "    stats_dict[clf]=[(round(acc_lower*100,2),round(acc_upper*100,2)),(round(pre_lower*100,2),round(pre_upper*100,2)),(round(rec_lower*100,2),round(rec_upper*100,2)),(round(f1_lower*100,2),round(f1_upper*100,2)),(round(auc_lower*100,2),round(auc_upper*100,2))]\n",
    "    #print('%.1f confidence interval %.1f%% and %.1f%%' % (alpha*100, lower*100, upper*100))\n",
    "# with open('../dataset/stats_sel_pstd_dict_t','wb') as f:\n",
    "#     pickle.dump(stats_dict,f)\n",
    "    \n",
    "\n",
    "\n",
    "from prettytable import PrettyTable\n",
    "#generic\n",
    "x = PrettyTable()\n",
    "x.field_names = [ \"Model\", 'Accuracy', 'Precision', 'Recall', 'F1 Score', 'Auc']\n",
    "x.add_row(['Naive Bayes']+stats_dict['gnb'])\n",
    "x.add_row(['Decison Tree']+stats_dict['dt'])\n",
    "x.add_row(['Random Forest']+stats_dict['rf'])\n",
    "x.add_row(['Logistic Regression']+stats_dict['lr'])\n",
    "x.add_row(['SVM']+stats_dict['svc'])\n",
    "print(x)"
   ]
  },
  {
   "cell_type": "code",
   "execution_count": null,
   "metadata": {},
   "outputs": [],
   "source": [
    "df <- data.frame(id=LETTERS[1:4], min=c(13,15,23,2), max=c(20,30,40,11))\n",
    "library(ggplot2)\n",
    "ggplot(df, aes(x=id))+\n",
    "geom_linerange(aes(ymin=min,ymax=max),linetype=2,color=\"blue\")+\n",
    "geom_point(aes(y=min),size=3,color=\"red\")+\n",
    "geom_point(aes(y=max),size=3,color=\"red\")+\n",
    "theme_bw()"
   ]
  }
 ],
 "metadata": {
  "kernelspec": {
   "display_name": "Python 3",
   "language": "python",
   "name": "python3"
  },
  "language_info": {
   "codemirror_mode": {
    "name": "ipython",
    "version": 3
   },
   "file_extension": ".py",
   "mimetype": "text/x-python",
   "name": "python",
   "nbconvert_exporter": "python",
   "pygments_lexer": "ipython3",
   "version": "3.6.9"
  }
 },
 "nbformat": 4,
 "nbformat_minor": 4
}
